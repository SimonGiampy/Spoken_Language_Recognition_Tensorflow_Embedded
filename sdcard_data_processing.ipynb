{
 "cells": [
  {
   "cell_type": "code",
   "execution_count": 4,
   "metadata": {},
   "outputs": [
    {
     "name": "stdout",
     "output_type": "stream",
     "text": [
      "['rec\\\\REC_000.BIN', 'rec\\\\REC_001.BIN', 'rec\\\\REC_002.BIN', 'rec\\\\REC_003.BIN', 'rec\\\\REC_004.BIN', 'rec\\\\REC_005.BIN', 'rec\\\\REC_006.BIN', 'rec\\\\REC_007.BIN', 'rec\\\\REC_008.BIN', 'rec\\\\REC_009.BIN', 'rec\\\\REC_010.BIN', 'rec\\\\REC_011.BIN', 'rec\\\\REC_012.BIN', 'rec\\\\REC_013.BIN', 'rec\\\\REC_014.BIN', 'rec\\\\REC_015.BIN', 'rec\\\\REC_016.BIN', 'rec\\\\REC_017.BIN', 'rec\\\\REC_018.BIN', 'rec\\\\REC_019.BIN', 'rec\\\\REC_020.BIN', 'rec\\\\REC_021.BIN', 'rec\\\\REC_022.BIN', 'rec\\\\REC_023.BIN', 'rec\\\\REC_024.BIN', 'rec\\\\REC_025.BIN', 'rec\\\\REC_026.BIN', 'rec\\\\REC_027.BIN', 'rec\\\\REC_028.BIN', 'rec\\\\REC_029.BIN', 'rec\\\\REC_030.BIN', 'rec\\\\REC_031.BIN', 'rec\\\\REC_032.BIN', 'rec\\\\REC_033.BIN', 'rec\\\\REC_034.BIN', 'rec\\\\REC_035.BIN', 'rec\\\\REC_036.BIN', 'rec\\\\REC_037.BIN']\n"
     ]
    }
   ],
   "source": [
    "# load binary file and read contents\n",
    "# convert contents into array of short integers (2 bytes per number)\n",
    "import numpy as np\n",
    "\n",
    "# create a list of all the files with the .bin extension inside rec folder\n",
    "import glob\n",
    "file_list = glob.glob('rec/*.bin')\n",
    "print(file_list)\n",
    "\n",
    "frequency = 16000"
   ]
  },
  {
   "cell_type": "code",
   "execution_count": 5,
   "metadata": {},
   "outputs": [],
   "source": [
    "import wave\n",
    "\n",
    "def save_data_list_as_wav(data_list, file_name):\n",
    "    with wave.open(file_name, \"wb\") as wav_file:\n",
    "        wav_file.setnchannels(1)\n",
    "        wav_file.setsampwidth(2)\n",
    "        wav_file.setframerate(frequency)\n",
    "        wav_file.setnframes(len(data_list))\n",
    "        \n",
    "         # Convert the raw data to a byte array\n",
    "        raw_bytes = data_list.astype(np.int16).tobytes()\n",
    "\n",
    "        # Write the raw data to the wave file\n",
    "        wav_file.writeframes(raw_bytes)\n",
    "       "
   ]
  },
  {
   "cell_type": "code",
   "execution_count": 7,
   "metadata": {},
   "outputs": [
    {
     "name": "stdout",
     "output_type": "stream",
     "text": [
      "saving file:  rec\\REC_000\n",
      "saving file:  rec\\REC_001\n",
      "saving file:  rec\\REC_002\n",
      "saving file:  rec\\REC_003\n",
      "saving file:  rec\\REC_004\n",
      "saving file:  rec\\REC_005\n",
      "saving file:  rec\\REC_006\n",
      "saving file:  rec\\REC_007\n",
      "saving file:  rec\\REC_008\n",
      "saving file:  rec\\REC_009\n",
      "saving file:  rec\\REC_010\n",
      "saving file:  rec\\REC_011\n",
      "saving file:  rec\\REC_012\n",
      "saving file:  rec\\REC_013\n",
      "saving file:  rec\\REC_014\n",
      "saving file:  rec\\REC_015\n",
      "saving file:  rec\\REC_016\n",
      "saving file:  rec\\REC_017\n",
      "saving file:  rec\\REC_018\n",
      "saving file:  rec\\REC_019\n",
      "saving file:  rec\\REC_020\n",
      "saving file:  rec\\REC_021\n",
      "saving file:  rec\\REC_022\n",
      "saving file:  rec\\REC_023\n",
      "saving file:  rec\\REC_024\n",
      "saving file:  rec\\REC_025\n",
      "saving file:  rec\\REC_026\n",
      "saving file:  rec\\REC_027\n",
      "saving file:  rec\\REC_028\n",
      "saving file:  rec\\REC_029\n",
      "saving file:  rec\\REC_030\n",
      "saving file:  rec\\REC_031\n",
      "saving file:  rec\\REC_032\n",
      "saving file:  rec\\REC_033\n",
      "saving file:  rec\\REC_034\n",
      "saving file:  rec\\REC_035\n",
      "saving file:  rec\\REC_036\n",
      "saving file:  rec\\REC_037\n"
     ]
    }
   ],
   "source": [
    "\n",
    "for file in file_list:\n",
    "\tbyte_array = np.fromfile(file, dtype=np.int16)\n",
    "\tprint(\"saving file: \", file[0:-4])\n",
    "\tsave_data_list_as_wav(byte_array, file[0:-4] + \".wav\")"
   ]
  }
 ],
 "metadata": {
  "kernelspec": {
   "display_name": "Python 3",
   "language": "python",
   "name": "python3"
  },
  "language_info": {
   "codemirror_mode": {
    "name": "ipython",
    "version": 3
   },
   "file_extension": ".py",
   "mimetype": "text/x-python",
   "name": "python",
   "nbconvert_exporter": "python",
   "pygments_lexer": "ipython3",
   "version": "3.9.6"
  },
  "orig_nbformat": 4
 },
 "nbformat": 4,
 "nbformat_minor": 2
}
