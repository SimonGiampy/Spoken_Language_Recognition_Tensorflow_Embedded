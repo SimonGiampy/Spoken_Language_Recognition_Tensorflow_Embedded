{
 "cells": [
  {
   "cell_type": "code",
   "execution_count": 4,
   "metadata": {},
   "outputs": [
    {
     "name": "stdout",
     "output_type": "stream",
     "text": [
      "['./rec_test/addition/REC_004.BIN', './rec_test/addition/REC_001.BIN', './rec_test/addition/REC_005.BIN', './rec_test/addition/REC_003.BIN']\n"
     ]
    }
   ],
   "source": [
    "# load binary file and read contents\n",
    "# convert contents into array of short integers (2 bytes per number)\n",
    "import numpy as np\n",
    "\n",
    "# create a list of all the files with the .bin extension inside rec folder\n",
    "import glob\n",
    "file_list = glob.glob('./rec_test/addition/*.BIN')\n",
    "print(file_list)\n",
    "\n",
    "frequency = 16000"
   ]
  },
  {
   "cell_type": "code",
   "execution_count": 5,
   "metadata": {},
   "outputs": [],
   "source": [
    "import wave\n",
    "\n",
    "def save_data_list_as_wav(data_list, file_name):\n",
    "    with wave.open(file_name, \"wb\") as wav_file:\n",
    "        wav_file.setnchannels(1)\n",
    "        wav_file.setsampwidth(2)\n",
    "        wav_file.setframerate(frequency)\n",
    "        wav_file.setnframes(len(data_list))\n",
    "        \n",
    "         # Convert the raw data to a byte array\n",
    "        raw_bytes = data_list.astype(np.int16).tobytes()\n",
    "\n",
    "        # Write the raw data to the wave file\n",
    "        wav_file.writeframes(raw_bytes)\n",
    "       "
   ]
  },
  {
   "cell_type": "code",
   "execution_count": 6,
   "metadata": {},
   "outputs": [
    {
     "name": "stdout",
     "output_type": "stream",
     "text": [
      "saving file:  ./rec_test/addition/REC_004\n",
      "saving file:  ./rec_test/addition/REC_001\n",
      "saving file:  ./rec_test/addition/REC_005\n",
      "saving file:  ./rec_test/addition/REC_003\n"
     ]
    }
   ],
   "source": [
    "\n",
    "for file in file_list:\n",
    "\tbyte_array = np.fromfile(file, dtype=np.int16)\n",
    "\tprint(\"saving file: \", file[0:-4])\n",
    "\tsave_data_list_as_wav(byte_array, file[0:-4] + \".wav\")"
   ]
  }
 ],
 "metadata": {
  "kernelspec": {
   "display_name": "Python 3",
   "language": "python",
   "name": "python3"
  },
  "language_info": {
   "codemirror_mode": {
    "name": "ipython",
    "version": 3
   },
   "file_extension": ".py",
   "mimetype": "text/x-python",
   "name": "python",
   "nbconvert_exporter": "python",
   "pygments_lexer": "ipython3",
   "version": "3.11.4"
  },
  "orig_nbformat": 4
 },
 "nbformat": 4,
 "nbformat_minor": 2
}
