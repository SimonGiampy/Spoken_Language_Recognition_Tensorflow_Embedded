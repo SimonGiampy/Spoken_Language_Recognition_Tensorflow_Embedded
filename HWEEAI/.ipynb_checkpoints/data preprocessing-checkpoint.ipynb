{
 "cells": [
  {
   "cell_type": "markdown",
   "metadata": {},
   "source": [
    "Data loading from wav files into a csv file\n"
   ]
  },
  {
   "cell_type": "code",
   "execution_count": 1,
   "metadata": {},
   "outputs": [
    {
     "name": "stdout",
     "output_type": "stream",
     "text": [
      "53\n",
      "(53, 960000)\n",
      "                                      audio_raw_data language\n",
      "0  [14, -11, 4, -21, -16, -37, -22, 3, -43, -20, ...      ara\n",
      "1  [8, 29, -4, -33, -44, -18, -51, -80, -7, -24, ...      ara\n",
      "2  [26, 15, 10, 1, 11, 17, 17, 23, 26, 21, 14, 6,...      ara\n",
      "3  [2324, 2316, 2304, 2312, 2300, 2329, 2356, 234...      ara\n",
      "4  [671, 690, 711, 729, 726, 727, 754, 745, 764, ...      ara\n"
     ]
    }
   ],
   "source": [
    "#import libraries\n",
    "import numpy as np\n",
    "from scipy.io import wavfile\n",
    "import os\n",
    "import pandas as pd\n",
    "\n",
    "#classes\n",
    "classes = [\"ita\", \"eng\", \"por\", \"esp\", \"ara\"]\n",
    "sample_length = 60 * 16000 # 16kHz sampling of 60 seconds of audio\n",
    "\n",
    "# Load the WAV file\n",
    "folder = os.getcwd() + \"/../rec/\"\n",
    "audio_files_list = os.listdir(folder)\n",
    "print(len(audio_files_list))\n",
    "\n",
    "audio_recs = np.zeros( (len(audio_files_list), sample_length), dtype=\"int16\")\n",
    "langs = []\n",
    "print(audio_recs.shape)\n",
    "\n",
    "for i, audio in enumerate(audio_files_list):\n",
    "    sample_rate, audio_rec = wavfile.read(folder + audio)\n",
    "    audio_recs[i] = audio_rec\n",
    "    langs.append(audio[4:7])\n",
    "\n",
    "\n",
    "# Create a dictionary with the structured data\n",
    "data_dictionary = {\n",
    "    'audio_raw_data': audio_recs.tolist(),\n",
    "    'language': langs\n",
    "}\n",
    "\n",
    "'''\n",
    "# Specify the data types for each column\n",
    "data_types = {\n",
    "    'audio_raw_data': 'object',\n",
    "    'language': 'str'\n",
    "}\n",
    "'''\n",
    "df = pd.DataFrame(data_dictionary)\n",
    "# Save the DataFrame to a CSV file\n",
    "df.to_csv('dataset0.csv', index=False)\n",
    "\n",
    "print(df.head())\n"
   ]
  },
  {
   "cell_type": "code",
   "execution_count": 2,
   "metadata": {},
   "outputs": [
    {
     "name": "stdout",
     "output_type": "stream",
     "text": [
      "file n:  0  with length  960000\n",
      "file n:  1  with length  960000\n",
      "file n:  2  with length  960000\n",
      "file n:  3  with length  960000\n",
      "file n:  4  with length  960000\n",
      "file n:  5  with length  960000\n",
      "file n:  6  with length  960000\n",
      "file n:  7  with length  960000\n",
      "file n:  8  with length  960000\n",
      "file n:  9  with length  960000\n",
      "file n:  10  with length  960000\n",
      "file n:  11  with length  960000\n",
      "file n:  12  with length  960000\n",
      "file n:  13  with length  960000\n",
      "file n:  14  with length  960000\n",
      "file n:  15  with length  960000\n",
      "file n:  16  with length  960000\n",
      "file n:  17  with length  960000\n",
      "file n:  18  with length  960000\n",
      "file n:  19  with length  960000\n",
      "file n:  20  with length  960000\n",
      "file n:  21  with length  960000\n",
      "file n:  22  with length  960000\n",
      "file n:  23  with length  960000\n",
      "file n:  24  with length  960000\n",
      "file n:  25  with length  960000\n",
      "file n:  26  with length  960000\n",
      "file n:  27  with length  960000\n",
      "file n:  28  with length  960000\n",
      "file n:  29  with length  960000\n",
      "file n:  30  with length  960000\n",
      "file n:  31  with length  960000\n",
      "file n:  32  with length  960000\n",
      "file n:  33  with length  960000\n",
      "file n:  34  with length  960000\n",
      "file n:  35  with length  960000\n",
      "file n:  36  with length  960000\n",
      "file n:  37  with length  960000\n",
      "file n:  38  with length  960000\n",
      "file n:  39  with length  960000\n",
      "file n:  40  with length  960000\n",
      "file n:  41  with length  960000\n",
      "file n:  42  with length  960000\n",
      "file n:  43  with length  960000\n",
      "file n:  44  with length  960000\n",
      "file n:  45  with length  960000\n",
      "file n:  46  with length  960000\n",
      "file n:  47  with length  960000\n",
      "file n:  48  with length  960000\n",
      "file n:  49  with length  960000\n",
      "file n:  50  with length  960000\n",
      "file n:  51  with length  960000\n",
      "file n:  52  with length  960000\n",
      "computed ita:  (425, 2)\n",
      "computed eng:  (450, 2)\n",
      "done\n"
     ]
    }
   ],
   "source": [
    "window = 10\n",
    "hop = 2\n",
    "frequency = 16000\n",
    "\n",
    "dataset = pd.read_csv(\"dataset0.csv\")\n",
    "\n",
    "audio_splits = np.empty((50 // hop * len(audio_files_list), frequency * 10), dtype=\"int16\")\n",
    "langs = []\n",
    "split_index = 0\n",
    "\n",
    "\n",
    "for index, sample in dataset.iterrows():\n",
    "    #raw_data = np.array(literal_eval(sample[\"audio_raw_data\"]), dtype=\"int16\")\n",
    "    raw_data = np.fromstring( (sample[\"audio_raw_data\"].replace(' ', ''))[1:-1], dtype=\"int16\", sep=',')\n",
    "    print(\"file n: \", index, \" with length \", len(raw_data))\n",
    "    for time in range(0, 50 * frequency, hop * frequency):\n",
    "        audio_splits[split_index] = raw_data[time : time+window*frequency]\n",
    "        langs.append(sample[\"language\"])\n",
    "        split_index = split_index + 1\n",
    "        \n",
    "\n",
    "# Create a dictionary with the structured data\n",
    "data_dictionary = {\n",
    "    'audio_raw_data': audio_splits.tolist(),\n",
    "    'language': langs\n",
    "}\n",
    "\n",
    "# Create a DataFrame from the dictionary\n",
    "df = pd.DataFrame(data_dictionary)\n",
    "\n",
    "# save new dataframes as csv for each language in the dataset\n",
    "dataset_ita = df[df[\"language\"] == \"ita\"]\n",
    "print(\"computed ita: \", dataset_ita.shape)\n",
    "dataset_ita.to_csv(\"dataset_ita.csv\", index=False)\n",
    "dataset_eng = df[df[\"language\"] == \"eng\"]\n",
    "print(\"computed eng: \", dataset_eng.shape)\n",
    "dataset_eng.to_csv(\"dataset_eng.csv\", index=False)\n",
    "\n",
    "print(\"done\")\n"
   ]
  },
  {
   "cell_type": "markdown",
   "metadata": {},
   "source": [
    "## Pre-processing data wtih tensorflow"
   ]
  },
  {
   "cell_type": "code",
   "execution_count": 55,
   "metadata": {},
   "outputs": [
    {
     "name": "stdout",
     "output_type": "stream",
     "text": [
      "TensorFlow version: 2.12.0\n",
      "(100, 50)\n",
      "(100, 2)\n"
     ]
    }
   ],
   "source": [
    "import matplotlib.pyplot as plt\n",
    "import numpy as np\n",
    "import tensorflow as tf\n",
    "\n",
    "print(\"TensorFlow version:\", tf.__version__)\n",
    "\n",
    "# Function to compute e^x with a parameter `a`\n",
    "def func_e_x(x, a):\n",
    "    return np.exp(a * x)\n",
    "\n",
    "# training set size\n",
    "n = 100\n",
    "\n",
    "# Length of each vector\n",
    "vector_length = 50\n",
    "\n",
    "# Parameters for the function e^x\n",
    "parameters = np.random.normal(0, 1, n)\n",
    "\n",
    "vector = np.linspace(0, 1, vector_length)\n",
    "\n",
    "# Generate n vectors of length 50 with e^x function using different parameters\n",
    "vectors = np.array([func_e_x(vector, a) for a in parameters])\n",
    "\n",
    "# Labels to compute the average of the input vector\n",
    "labels = np.array([np.sign(np.mean(vec) - 1.0) for vec in vectors])\n",
    "labels_onehot = np.zeros((labels.size, 2))\n",
    "\n",
    "for i, y in enumerate(labels):\n",
    "    labels_onehot[i] = [1, 0] if y == 1 else [0, 1]\n",
    "\n",
    "print(vectors.shape)\n",
    "print(labels_onehot.shape)\n"
   ]
  },
  {
   "cell_type": "code",
   "execution_count": 47,
   "metadata": {},
   "outputs": [
    {
     "name": "stdout",
     "output_type": "stream",
     "text": [
      "[[0. 1.]\n",
      " [1. 0.]\n",
      " [0. 1.]\n",
      " [1. 0.]\n",
      " [1. 0.]\n",
      " [0. 1.]\n",
      " [0. 1.]\n",
      " [0. 1.]\n",
      " [1. 0.]\n",
      " [0. 1.]\n",
      " [0. 1.]\n",
      " [0. 1.]\n",
      " [1. 0.]\n",
      " [0. 1.]\n",
      " [1. 0.]\n",
      " [0. 1.]\n",
      " [1. 0.]\n",
      " [0. 1.]\n",
      " [1. 0.]\n",
      " [1. 0.]\n",
      " [0. 1.]\n",
      " [0. 1.]\n",
      " [1. 0.]\n",
      " [0. 1.]\n",
      " [0. 1.]\n",
      " [1. 0.]\n",
      " [0. 1.]\n",
      " [1. 0.]\n",
      " [1. 0.]\n",
      " [0. 1.]\n",
      " [1. 0.]\n",
      " [1. 0.]\n",
      " [0. 1.]\n",
      " [0. 1.]\n",
      " [0. 1.]\n",
      " [1. 0.]\n",
      " [1. 0.]\n",
      " [1. 0.]\n",
      " [0. 1.]\n",
      " [0. 1.]\n",
      " [1. 0.]\n",
      " [1. 0.]\n",
      " [0. 1.]\n",
      " [0. 1.]\n",
      " [0. 1.]\n",
      " [1. 0.]\n",
      " [0. 1.]\n",
      " [1. 0.]\n",
      " [1. 0.]\n",
      " [0. 1.]\n",
      " [1. 0.]\n",
      " [0. 1.]\n",
      " [1. 0.]\n",
      " [1. 0.]\n",
      " [1. 0.]\n",
      " [1. 0.]\n",
      " [0. 1.]\n",
      " [0. 1.]\n",
      " [1. 0.]\n",
      " [1. 0.]\n",
      " [1. 0.]\n",
      " [1. 0.]\n",
      " [0. 1.]\n",
      " [1. 0.]\n",
      " [0. 1.]\n",
      " [0. 1.]\n",
      " [0. 1.]\n",
      " [1. 0.]\n",
      " [1. 0.]\n",
      " [1. 0.]\n",
      " [1. 0.]\n",
      " [0. 1.]\n",
      " [0. 1.]\n",
      " [1. 0.]\n",
      " [0. 1.]\n",
      " [1. 0.]\n",
      " [1. 0.]\n",
      " [0. 1.]\n",
      " [1. 0.]\n",
      " [1. 0.]\n",
      " [1. 0.]\n",
      " [0. 1.]\n",
      " [1. 0.]\n",
      " [1. 0.]\n",
      " [1. 0.]\n",
      " [1. 0.]\n",
      " [1. 0.]\n",
      " [0. 1.]\n",
      " [1. 0.]\n",
      " [1. 0.]\n",
      " [1. 0.]\n",
      " [1. 0.]\n",
      " [1. 0.]\n",
      " [1. 0.]\n",
      " [1. 0.]\n",
      " [1. 0.]\n",
      " [1. 0.]\n",
      " [1. 0.]\n",
      " [0. 1.]\n",
      " [0. 1.]]\n",
      "(100, 2)\n"
     ]
    }
   ],
   "source": [
    "\n",
    "print(labels_onehot)\n",
    "print(labels_onehot.shape)"
   ]
  },
  {
   "cell_type": "code",
   "execution_count": 56,
   "metadata": {},
   "outputs": [],
   "source": [
    "rows = 10\n",
    "cols = 5\n",
    "\n",
    "# tutorial says: tf.Module\n",
    "class CustomModel(tf.keras.Model):\n",
    "\n",
    "\tdef __init__(self):\n",
    "\t\tsuper(CustomModel, self).__init__()\n",
    "\n",
    "\t\tself.model = tf.keras.Sequential([\n",
    "\t\t\t\n",
    "\t\t\t\ttf.keras.layers.Flatten(input_shape=(rows, cols), name='flatten'),\n",
    "\t\t\t\ttf.keras.layers.Dense(32, activation='relu', name='dense_1'),\n",
    "\t\t\t\ttf.keras.layers.Dense(2, activation='softmax', name='output')\n",
    "\t\t])\n",
    "\n",
    "\t\t# self.model.compile(optimizer='sgd', loss='mean_squared_error')\n",
    "\t\tself.model.summary()\n",
    "\n",
    "\tdef call(self, inputs):\n",
    "        # Define the forward pass of your model\n",
    "\t\treturn self.model(inputs)\n",
    "\n",
    "\t@tf.function(input_signature=[\n",
    "\t\ttf.TensorSpec([None, rows, cols], dtype=tf.float32)\n",
    "\t])\n",
    "\tdef infer(self, x):\n",
    "\t\toutput = self.model(x)\n",
    "\t\treturn {\n",
    "\t\t\t\"output\": output\n",
    "\t\t}\n",
    "\n",
    "\t@tf.function(input_signature=[\n",
    "\t\ttf.TensorSpec([None, vector_length], dtype=tf.float32)\n",
    "\t])\n",
    "\tdef preprocess(self, x):\n",
    "\t\tcosines = tf.raw_ops.Cosh(x=x)\n",
    "\t\tmatrix = tf.raw_ops.Reshape(tensor=cosines, shape=[-1, rows, cols])\n",
    "\t\treturn { \"flatten_input\": matrix }\n"
   ]
  },
  {
   "cell_type": "code",
   "execution_count": 57,
   "metadata": {},
   "outputs": [
    {
     "name": "stdout",
     "output_type": "stream",
     "text": [
      "Model: \"sequential_5\"\n",
      "_________________________________________________________________\n",
      " Layer (type)                Output Shape              Param #   \n",
      "=================================================================\n",
      " flatten (Flatten)           (None, 50)                0         \n",
      "                                                                 \n",
      " dense_1 (Dense)             (None, 32)                1632      \n",
      "                                                                 \n",
      " output (Dense)              (None, 2)                 66        \n",
      "                                                                 \n",
      "=================================================================\n",
      "Total params: 1,698\n",
      "Trainable params: 1,698\n",
      "Non-trainable params: 0\n",
      "_________________________________________________________________\n",
      "WARNING:tensorflow:6 out of the last 6 calls to <function CustomModel.preprocess at 0x0000023BF5F66520> triggered tf.function retracing. Tracing is expensive and the excessive number of tracings could be due to (1) creating @tf.function repeatedly in a loop, (2) passing tensors with different shapes, (3) passing Python objects instead of tensors. For (1), please define your @tf.function outside of the loop. For (2), @tf.function has reduce_retracing=True option that can avoid unnecessary retracing. For (3), please refer to https://www.tensorflow.org/guide/function#controlling_retracing and https://www.tensorflow.org/api_docs/python/tf/function for  more details.\n"
     ]
    },
    {
     "name": "stderr",
     "output_type": "stream",
     "text": [
      "WARNING:tensorflow:6 out of the last 6 calls to <function CustomModel.preprocess at 0x0000023BF5F66520> triggered tf.function retracing. Tracing is expensive and the excessive number of tracings could be due to (1) creating @tf.function repeatedly in a loop, (2) passing tensors with different shapes, (3) passing Python objects instead of tensors. For (1), please define your @tf.function outside of the loop. For (2), @tf.function has reduce_retracing=True option that can avoid unnecessary retracing. For (3), please refer to https://www.tensorflow.org/guide/function#controlling_retracing and https://www.tensorflow.org/api_docs/python/tf/function for  more details.\n"
     ]
    },
    {
     "name": "stdout",
     "output_type": "stream",
     "text": [
      "Epoch 1/5\n"
     ]
    },
    {
     "name": "stdout",
     "output_type": "stream",
     "text": [
      "16/16 [==============================] - 1s 17ms/step - loss: 4.6812 - accuracy: 0.5750 - val_loss: 0.2142 - val_accuracy: 1.0000\n",
      "Epoch 2/5\n",
      "16/16 [==============================] - 0s 5ms/step - loss: 0.2309 - accuracy: 0.9500 - val_loss: 0.1513 - val_accuracy: 0.9500\n",
      "Epoch 3/5\n",
      "16/16 [==============================] - 0s 4ms/step - loss: 0.1683 - accuracy: 0.9500 - val_loss: 0.1029 - val_accuracy: 0.9500\n",
      "Epoch 4/5\n",
      "16/16 [==============================] - 0s 5ms/step - loss: 0.1687 - accuracy: 0.9375 - val_loss: 0.1309 - val_accuracy: 0.9500\n",
      "Epoch 5/5\n",
      "16/16 [==============================] - 0s 5ms/step - loss: 0.1092 - accuracy: 0.9875 - val_loss: 0.0945 - val_accuracy: 0.9500\n"
     ]
    },
    {
     "data": {
      "text/plain": [
       "<keras.callbacks.History at 0x23bfa6b5e90>"
      ]
     },
     "execution_count": 57,
     "metadata": {},
     "output_type": "execute_result"
    }
   ],
   "source": [
    "NUM_EPOCHS = 5\n",
    "BATCH_SIZE = 5\n",
    "\n",
    "# Convert NumPy arrays to TensorFlow Dataset\n",
    "train_x = tf.convert_to_tensor(vectors, dtype=tf.float32)\n",
    "train_y = tf.convert_to_tensor(labels_onehot, dtype=tf.float32)\n",
    "\n",
    "model = CustomModel()\n",
    "train_x_preprocess = model.preprocess(train_x)\n",
    "\n",
    "model.compile(optimizer=\"sgd\", loss=\"categorical_crossentropy\", metrics=['accuracy'])\n",
    "model.fit(x = train_x_preprocess, y = train_y, batch_size = BATCH_SIZE, epochs = NUM_EPOCHS, validation_split=0.2)\n"
   ]
  },
  {
   "cell_type": "code",
   "execution_count": 65,
   "metadata": {},
   "outputs": [
    {
     "name": "stderr",
     "output_type": "stream",
     "text": [
      "WARNING:absl:Found untraced functions such as _update_step_xla while saving (showing 1 of 1). These functions will not be directly callable after loading.\n"
     ]
    },
    {
     "name": "stdout",
     "output_type": "stream",
     "text": [
      "INFO:tensorflow:Assets written to: models\\assets\n"
     ]
    },
    {
     "name": "stderr",
     "output_type": "stream",
     "text": [
      "INFO:tensorflow:Assets written to: models\\assets\n"
     ]
    }
   ],
   "source": [
    "\n",
    "tf.saved_model.save(model, \"models\",\n",
    "    signatures = {\n",
    "        'infer': model.infer.get_concrete_function(),\n",
    "        'preprocess': model.preprocess.get_concrete_function(),\n",
    "    })\n",
    "\n",
    "# Convert the model\n",
    "converter = tf.lite.TFLiteConverter.from_saved_model(\"models\")\n",
    "converter.target_spec.supported_ops = [\n",
    "    tf.lite.OpsSet.TFLITE_BUILTINS,  # enable TensorFlow Lite ops.\n",
    "    tf.lite.OpsSet.SELECT_TF_OPS  # enable TensorFlow ops.\n",
    "]\n",
    "\n",
    "converter.experimental_enable_resource_variables = True\n",
    "tflite_model = converter.convert()\n"
   ]
  },
  {
   "cell_type": "code",
   "execution_count": 66,
   "metadata": {},
   "outputs": [],
   "source": [
    "# Save the model.\n",
    "with open('model.tflite', 'wb') as f:\n",
    "\tf.write(tflite_model)\n"
   ]
  },
  {
   "cell_type": "code",
   "execution_count": 67,
   "metadata": {},
   "outputs": [
    {
     "ename": "RuntimeError",
     "evalue": "",
     "output_type": "error",
     "traceback": [
      "\u001b[1;31m---------------------------------------------------------------------------\u001b[0m",
      "\u001b[1;31mRuntimeError\u001b[0m                              Traceback (most recent call last)",
      "Cell \u001b[1;32mIn[67], line 7\u001b[0m\n\u001b[0;32m      4\u001b[0m preprocessing \u001b[39m=\u001b[39m interpreter\u001b[39m.\u001b[39mget_signature_runner(\u001b[39m\"\u001b[39m\u001b[39mpreprocess\u001b[39m\u001b[39m\"\u001b[39m)\n\u001b[0;32m      5\u001b[0m inference \u001b[39m=\u001b[39m interpreter\u001b[39m.\u001b[39mget_signature_runner(\u001b[39m\"\u001b[39m\u001b[39minfer\u001b[39m\u001b[39m\"\u001b[39m)\n\u001b[1;32m----> 7\u001b[0m \u001b[39minput\u001b[39m \u001b[39m=\u001b[39m preprocessing(x \u001b[39m=\u001b[39;49m train_x)\n\u001b[0;32m      8\u001b[0m result \u001b[39m=\u001b[39m inference(x\u001b[39m=\u001b[39m \u001b[39minput\u001b[39m)\n\u001b[0;32m     10\u001b[0m predictions \u001b[39m=\u001b[39m np\u001b[39m.\u001b[39margmax(result[\u001b[39m\"\u001b[39m\u001b[39moutput\u001b[39m\u001b[39m\"\u001b[39m], axis\u001b[39m=\u001b[39m\u001b[39m1\u001b[39m)\n",
      "File \u001b[1;32md:\\Programs\\Anaconda\\envs\\anndl\\Lib\\site-packages\\tensorflow\\lite\\python\\interpreter.py:243\u001b[0m, in \u001b[0;36mSignatureRunner.__call__\u001b[1;34m(self, **kwargs)\u001b[0m\n\u001b[0;32m    239\u001b[0m   \u001b[39mself\u001b[39m\u001b[39m.\u001b[39m_interpreter_wrapper\u001b[39m.\u001b[39mResizeInputTensor(\n\u001b[0;32m    240\u001b[0m       \u001b[39mself\u001b[39m\u001b[39m.\u001b[39m_inputs[input_name], np\u001b[39m.\u001b[39marray(value\u001b[39m.\u001b[39mshape, dtype\u001b[39m=\u001b[39mnp\u001b[39m.\u001b[39mint32),\n\u001b[0;32m    241\u001b[0m       \u001b[39mFalse\u001b[39;00m, \u001b[39mself\u001b[39m\u001b[39m.\u001b[39m_subgraph_index)\n\u001b[0;32m    242\u001b[0m \u001b[39m# Allocate tensors.\u001b[39;00m\n\u001b[1;32m--> 243\u001b[0m \u001b[39mself\u001b[39;49m\u001b[39m.\u001b[39;49m_interpreter_wrapper\u001b[39m.\u001b[39;49mAllocateTensors(\u001b[39mself\u001b[39;49m\u001b[39m.\u001b[39;49m_subgraph_index)\n\u001b[0;32m    244\u001b[0m \u001b[39m# Set the input values.\u001b[39;00m\n\u001b[0;32m    245\u001b[0m \u001b[39mfor\u001b[39;00m input_name, value \u001b[39min\u001b[39;00m kwargs\u001b[39m.\u001b[39mitems():\n",
      "\u001b[1;31mRuntimeError\u001b[0m: "
     ]
    }
   ],
   "source": [
    "interpreter = tf.lite.Interpreter(model_content=tflite_model)\n",
    "interpreter.allocate_tensors()\n",
    "\n",
    "preprocessing = interpreter.get_signature_runner(\"preprocess\")\n",
    "inference = interpreter.get_signature_runner(\"infer\")\n",
    "\n",
    "input = preprocessing(x = train_x)\n",
    "result = inference(x= input)\n",
    "\n",
    "predictions = np.argmax(result[\"output\"], axis=1)\n",
    "true_labels = np.argmax(train_y)\n",
    "\n",
    "print(predictions)\n",
    "print(true_labels)"
   ]
  }
 ],
 "metadata": {
  "kernelspec": {
   "display_name": "anndl",
   "language": "python",
   "name": "python3"
  },
  "language_info": {
   "codemirror_mode": {
    "name": "ipython",
    "version": 3
   },
   "file_extension": ".py",
   "mimetype": "text/x-python",
   "name": "python",
   "nbconvert_exporter": "python",
   "pygments_lexer": "ipython3",
   "version": "3.11.2"
  },
  "orig_nbformat": 4
 },
 "nbformat": 4,
 "nbformat_minor": 2
}
