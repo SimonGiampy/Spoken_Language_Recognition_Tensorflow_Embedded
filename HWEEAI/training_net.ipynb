{
 "cells": [
  {
   "cell_type": "markdown",
   "metadata": {},
   "source": [
    "# Training a neural network to classify images of MFCCs"
   ]
  },
  {
   "cell_type": "markdown",
   "metadata": {},
   "source": [
    "## Load dataset"
   ]
  },
  {
   "cell_type": "code",
   "execution_count": 1,
   "metadata": {},
   "outputs": [
    {
     "name": "stdout",
     "output_type": "stream",
     "text": [
      "training files:  3300\n",
      "validation files:  900\n"
     ]
    }
   ],
   "source": [
    "\n",
    "import os\n",
    "\n",
    "current_dir = os.getcwd()\n",
    "directory = os.path.dirname(current_dir) + \"/datasets/\"\n",
    "csv_files_train = [directory + \"/train/\" + f for f in os.listdir(directory + \"train/\") if f.endswith('.csv')]\n",
    "csv_files_validation = [directory + \"/validation/\" + f for f in os.listdir(directory + \"validation/\") if f.endswith('.csv')]\n",
    "\n",
    "print(\"training files: \", len(csv_files_train))\n",
    "print(\"validation files: \", len(csv_files_validation))\n"
   ]
  },
  {
   "cell_type": "markdown",
   "metadata": {},
   "source": [
    "Test import of csv datasets into tensorflow datasets\n",
    "\n",
    "import every csv file as a single matrix with one label associated"
   ]
  },
  {
   "cell_type": "code",
   "execution_count": 2,
   "metadata": {},
   "outputs": [
    {
     "name": "stderr",
     "output_type": "stream",
     "text": [
      "2023-08-23 12:53:24.554521: I tensorflow/core/platform/cpu_feature_guard.cc:182] This TensorFlow binary is optimized to use available CPU instructions in performance-critical operations.\n",
      "To enable the following instructions: AVX2 FMA, in other operations, rebuild TensorFlow with the appropriate compiler flags.\n",
      "2023-08-23 12:53:33.007488: W tensorflow/compiler/tf2tensorrt/utils/py_utils.cc:38] TF-TRT Warning: Could not find TensorRT\n"
     ]
    },
    {
     "name": "stdout",
     "output_type": "stream",
     "text": [
      "TensorFlow version: 2.13.0\n",
      "[PhysicalDevice(name='/physical_device:GPU:0', device_type='GPU')]\n"
     ]
    },
    {
     "name": "stderr",
     "output_type": "stream",
     "text": [
      "2023-08-23 12:53:42.412193: I tensorflow/compiler/xla/stream_executor/cuda/cuda_gpu_executor.cc:995] successful NUMA node read from SysFS had negative value (-1), but there must be at least one NUMA node, so returning NUMA node zero. See more at https://github.com/torvalds/linux/blob/v6.0/Documentation/ABI/testing/sysfs-bus-pci#L344-L355\n",
      "2023-08-23 12:53:45.074111: I tensorflow/compiler/xla/stream_executor/cuda/cuda_gpu_executor.cc:995] successful NUMA node read from SysFS had negative value (-1), but there must be at least one NUMA node, so returning NUMA node zero. See more at https://github.com/torvalds/linux/blob/v6.0/Documentation/ABI/testing/sysfs-bus-pci#L344-L355\n",
      "2023-08-23 12:53:45.074779: I tensorflow/compiler/xla/stream_executor/cuda/cuda_gpu_executor.cc:995] successful NUMA node read from SysFS had negative value (-1), but there must be at least one NUMA node, so returning NUMA node zero. See more at https://github.com/torvalds/linux/blob/v6.0/Documentation/ABI/testing/sysfs-bus-pci#L344-L355\n"
     ]
    }
   ],
   "source": [
    "# imports of necessary libraries\n",
    "\n",
    "import tensorflow as tf\n",
    "\n",
    "# Print TensorFlow version\n",
    "print(\"TensorFlow version:\", tf.__version__)\n",
    "\n",
    "# Check if GPU is available and being used\n",
    "print(tf.config.list_physical_devices('GPU'))\n",
    "\n",
    "import numpy as np\n",
    "from sklearn.metrics import confusion_matrix\n",
    "import matplotlib.pyplot as plt\n"
   ]
  },
  {
   "cell_type": "code",
   "execution_count": 3,
   "metadata": {},
   "outputs": [
    {
     "name": "stdout",
     "output_type": "stream",
     "text": [
      "dataset train size:  3300\n",
      "dataset validation size:  900\n",
      "labels train size:  3300\n",
      "labels validation size:  900\n"
     ]
    }
   ],
   "source": [
    "\n",
    "# create training and validation datasets\n",
    "dataset_train = []\n",
    "dataset_validation = []\n",
    "labels_train = []\n",
    "labels_validation = []\n",
    "\n",
    "# read csv files into lists\n",
    "# the label (language) is written in the file name\n",
    "\n",
    "for file in csv_files_train:\n",
    "    data_array = np.genfromtxt(file, delimiter=',', dtype=np.int8)\n",
    "    dataset_train.append(data_array)\n",
    "    \n",
    "    file_name = os.path.basename(file)\n",
    "    labels_train.append(file_name[5:8])\n",
    "\n",
    "for file in csv_files_validation:\n",
    "    data_array = np.genfromtxt(file, delimiter=',', dtype=np.int8)\n",
    "    dataset_validation.append(data_array)\n",
    "\n",
    "    file_name = os.path.basename(file)\n",
    "    labels_validation.append(file_name[5:8])\n",
    "\n",
    "print(\"dataset train size: \", len(dataset_train))\n",
    "print(\"dataset validation size: \", len(dataset_validation))\n",
    "print(\"labels train size: \", len(labels_train))\n",
    "print(\"labels validation size: \", len(labels_validation))"
   ]
  },
  {
   "cell_type": "code",
   "execution_count": 4,
   "metadata": {},
   "outputs": [
    {
     "name": "stdout",
     "output_type": "stream",
     "text": [
      "mfcc_size:  (349, 12)\n"
     ]
    }
   ],
   "source": [
    "# print size of one element of the dataset: feature size\n",
    "mfcc_size = dataset_train[0].shape\n",
    "print (\"mfcc_size: \", mfcc_size)"
   ]
  },
  {
   "cell_type": "code",
   "execution_count": 5,
   "metadata": {},
   "outputs": [
    {
     "name": "stdout",
     "output_type": "stream",
     "text": [
      "{'ita': 0, 'eng': 1, 'fra': 2}\n"
     ]
    }
   ],
   "source": [
    "classes = [\"ita\", \"eng\", \"fra\"]\n",
    "\n",
    "# Create a mapping from class names to integer labels\n",
    "class_to_index = {class_name: index for index, class_name in enumerate(classes)}\n",
    "print(class_to_index)\n",
    "\n",
    "# Convert labels to integer labels using the mapping\n",
    "integer_labels_train = np.array([class_to_index[label] for label in labels_train], dtype=np.int8)\n",
    "integer_labels_validation = np.array([class_to_index[label] for label in labels_validation], dtype=np.int8)\n",
    "\n",
    "y_onehot_train = tf.keras.utils.to_categorical(integer_labels_train, num_classes = len(classes)) # one hot encoding\n",
    "y_onehot_validation = tf.keras.utils.to_categorical(integer_labels_validation, num_classes = len(classes)) # one hot encoding\n",
    "\n"
   ]
  },
  {
   "cell_type": "code",
   "execution_count": 6,
   "metadata": {},
   "outputs": [
    {
     "name": "stderr",
     "output_type": "stream",
     "text": [
      "2023-08-23 12:54:03.431654: I tensorflow/compiler/xla/stream_executor/cuda/cuda_gpu_executor.cc:995] successful NUMA node read from SysFS had negative value (-1), but there must be at least one NUMA node, so returning NUMA node zero. See more at https://github.com/torvalds/linux/blob/v6.0/Documentation/ABI/testing/sysfs-bus-pci#L344-L355\n",
      "2023-08-23 12:54:03.432195: I tensorflow/compiler/xla/stream_executor/cuda/cuda_gpu_executor.cc:995] successful NUMA node read from SysFS had negative value (-1), but there must be at least one NUMA node, so returning NUMA node zero. See more at https://github.com/torvalds/linux/blob/v6.0/Documentation/ABI/testing/sysfs-bus-pci#L344-L355\n",
      "2023-08-23 12:54:03.432534: I tensorflow/compiler/xla/stream_executor/cuda/cuda_gpu_executor.cc:995] successful NUMA node read from SysFS had negative value (-1), but there must be at least one NUMA node, so returning NUMA node zero. See more at https://github.com/torvalds/linux/blob/v6.0/Documentation/ABI/testing/sysfs-bus-pci#L344-L355\n",
      "2023-08-23 12:54:04.042647: I tensorflow/compiler/xla/stream_executor/cuda/cuda_gpu_executor.cc:995] successful NUMA node read from SysFS had negative value (-1), but there must be at least one NUMA node, so returning NUMA node zero. See more at https://github.com/torvalds/linux/blob/v6.0/Documentation/ABI/testing/sysfs-bus-pci#L344-L355\n",
      "2023-08-23 12:54:04.043089: I tensorflow/compiler/xla/stream_executor/cuda/cuda_gpu_executor.cc:995] successful NUMA node read from SysFS had negative value (-1), but there must be at least one NUMA node, so returning NUMA node zero. See more at https://github.com/torvalds/linux/blob/v6.0/Documentation/ABI/testing/sysfs-bus-pci#L344-L355\n",
      "2023-08-23 12:54:04.043507: I tensorflow/compiler/xla/stream_executor/cuda/cuda_gpu_executor.cc:995] successful NUMA node read from SysFS had negative value (-1), but there must be at least one NUMA node, so returning NUMA node zero. See more at https://github.com/torvalds/linux/blob/v6.0/Documentation/ABI/testing/sysfs-bus-pci#L344-L355\n",
      "2023-08-23 12:54:04.043842: I tensorflow/core/common_runtime/gpu/gpu_device.cc:1639] Created device /job:localhost/replica:0/task:0/device:GPU:0 with 3494 MB memory:  -> device: 0, name: NVIDIA GeForce GTX 1050, pci bus id: 0000:01:00.0, compute capability: 6.1\n"
     ]
    },
    {
     "name": "stdout",
     "output_type": "stream",
     "text": [
      "Training features shape: (3300, 349, 12, 1)\n",
      "Validation features shape: (900, 349, 12, 1)\n"
     ]
    }
   ],
   "source": [
    "\n",
    "x_train = tf.reshape(dataset_train, (-1, mfcc_size[0], mfcc_size[1], 1))\n",
    "x_validation = tf.reshape(dataset_validation, (-1, mfcc_size[0], mfcc_size[1], 1))\n",
    "\n",
    "print(\"Training features shape:\", x_train.shape)\n",
    "print(\"Validation features shape:\", x_validation.shape)\n",
    "\n",
    "# create tensorflow dataset from numpy arrays\n",
    "train_dataset = tf.data.Dataset.from_tensor_slices((x_train, y_onehot_train))\n",
    "val_dataset = tf.data.Dataset.from_tensor_slices((x_validation, y_onehot_validation))\n"
   ]
  },
  {
   "cell_type": "code",
   "execution_count": 7,
   "metadata": {},
   "outputs": [],
   "source": [
    "batch_size = 64\n",
    "num_epochs = 150\n",
    "mfcc_shape = (mfcc_size[0], mfcc_size[1], 1)\n",
    "\n",
    "# shuffle and batch\n",
    "train_dataset = train_dataset.shuffle(len(x_train))\n",
    "#val_dataset = val_dataset.shuffle(len(x_validation))\n",
    "\n",
    "# apply batching to the datasets\n",
    "val_dataset = val_dataset.batch(batch_size)\n",
    "train_dataset = train_dataset.batch(batch_size)"
   ]
  },
  {
   "cell_type": "code",
   "execution_count": 8,
   "metadata": {},
   "outputs": [
    {
     "name": "stdout",
     "output_type": "stream",
     "text": [
      "MFCC batch input feature shape:  (64, 349, 12, 1)\n",
      "MFCC labels shape:  (64, 3)\n"
     ]
    }
   ],
   "source": [
    "for image_batch, labels_batch in train_dataset:\n",
    "\tprint(\"MFCC batch input feature shape: \", image_batch.shape)\n",
    "\tprint(\"MFCC labels shape: \", labels_batch.shape)\n",
    "\tbreak"
   ]
  },
  {
   "cell_type": "markdown",
   "metadata": {},
   "source": [
    "## Models training and evaluation"
   ]
  },
  {
   "cell_type": "code",
   "execution_count": 9,
   "metadata": {},
   "outputs": [],
   "source": [
    "from tensorflow.keras import layers, models\n",
    "from keras.callbacks import EarlyStopping\n"
   ]
  },
  {
   "cell_type": "markdown",
   "metadata": {},
   "source": [
    "#### Model 1"
   ]
  },
  {
   "cell_type": "code",
   "execution_count": 51,
   "metadata": {
    "scrolled": true,
    "tags": []
   },
   "outputs": [
    {
     "name": "stdout",
     "output_type": "stream",
     "text": [
      "Model: \"sequential\"\n",
      "_________________________________________________________________\n",
      " Layer (type)                Output Shape              Param #   \n",
      "=================================================================\n",
      " conv2d (Conv2D)             (None, 345, 12, 16)       96        \n",
      "                                                                 \n",
      " max_pooling2d (MaxPooling2  (None, 172, 12, 16)       0         \n",
      " D)                                                              \n",
      "                                                                 \n",
      " conv2d_1 (Conv2D)           (None, 172, 8, 16)        1296      \n",
      "                                                                 \n",
      " max_pooling2d_1 (MaxPoolin  (None, 86, 8, 16)         0         \n",
      " g2D)                                                            \n",
      "                                                                 \n",
      " conv2d_2 (Conv2D)           (None, 82, 6, 16)         3856      \n",
      "                                                                 \n",
      " max_pooling2d_2 (MaxPoolin  (None, 41, 3, 16)         0         \n",
      " g2D)                                                            \n",
      "                                                                 \n",
      " average_pooling2d (Average  (None, 1, 1, 16)          0         \n",
      " Pooling2D)                                                      \n",
      "                                                                 \n",
      " flatten (Flatten)           (None, 16)                0         \n",
      "                                                                 \n",
      " dense (Dense)               (None, 3)                 51        \n",
      "                                                                 \n",
      "=================================================================\n",
      "Total params: 5299 (20.70 KB)\n",
      "Trainable params: 5299 (20.70 KB)\n",
      "Non-trainable params: 0 (0.00 Byte)\n",
      "_________________________________________________________________\n"
     ]
    }
   ],
   "source": [
    "\n",
    "# first model version\n",
    "\n",
    "# Create a basic CNN model\n",
    "model = models.Sequential([\n",
    "\tlayers.Conv2D(filters=16, kernel_size=(5, 1), activation='relu', input_shape=mfcc_shape),\n",
    "\tlayers.MaxPooling2D(pool_size=(2, 1)),\n",
    "    layers.Conv2D(filters=16, kernel_size=(1, 5), activation='relu'),\n",
    "    layers.MaxPooling2D(pool_size=(2, 1)),\n",
    "    layers.Conv2D(filters=16, kernel_size=(5, 3), activation='relu'),\n",
    "    layers.MaxPooling2D(pool_size=(2, 2)),\n",
    "    #layers.GlobalAveragePooling2D(),\n",
    "\tlayers.AveragePooling2D(pool_size=(41, 3)),\n",
    "\tlayers.Flatten(),\n",
    "\t#layers.Dense(32, activation='relu'),\n",
    "    #layers.Dense(32, activation='relu'),\n",
    "\tlayers.Dense(len(classes), activation='softmax')  # as many classes as languages\n",
    "])\n",
    "\n",
    "model.summary()\n"
   ]
  },
  {
   "cell_type": "code",
   "execution_count": 52,
   "metadata": {},
   "outputs": [
    {
     "name": "stdout",
     "output_type": "stream",
     "text": [
      "Epoch 1/150\n"
     ]
    },
    {
     "name": "stdout",
     "output_type": "stream",
     "text": [
      "52/52 [==============================] - 3s 19ms/step - loss: 2.1630 - accuracy: 0.3882 - val_loss: 1.1148 - val_accuracy: 0.4167\n",
      "Epoch 2/150\n",
      "52/52 [==============================] - 1s 13ms/step - loss: 1.0857 - accuracy: 0.4436 - val_loss: 1.2440 - val_accuracy: 0.3744\n",
      "Epoch 3/150\n",
      "52/52 [==============================] - 1s 14ms/step - loss: 1.0092 - accuracy: 0.4933 - val_loss: 0.9657 - val_accuracy: 0.5589\n",
      "Epoch 4/150\n",
      "52/52 [==============================] - 1s 14ms/step - loss: 0.9306 - accuracy: 0.5542 - val_loss: 0.9089 - val_accuracy: 0.5589\n",
      "Epoch 5/150\n",
      "52/52 [==============================] - 1s 14ms/step - loss: 0.9058 - accuracy: 0.5706 - val_loss: 0.8987 - val_accuracy: 0.5844\n",
      "Epoch 6/150\n",
      "52/52 [==============================] - 1s 13ms/step - loss: 0.8555 - accuracy: 0.6061 - val_loss: 0.8482 - val_accuracy: 0.6322\n",
      "Epoch 7/150\n",
      "52/52 [==============================] - 1s 13ms/step - loss: 0.8544 - accuracy: 0.6091 - val_loss: 0.8193 - val_accuracy: 0.6356\n",
      "Epoch 8/150\n",
      "52/52 [==============================] - 1s 13ms/step - loss: 0.8346 - accuracy: 0.6173 - val_loss: 0.8200 - val_accuracy: 0.6433\n",
      "Epoch 9/150\n",
      "52/52 [==============================] - 1s 13ms/step - loss: 0.7927 - accuracy: 0.6467 - val_loss: 0.8748 - val_accuracy: 0.6111\n",
      "Epoch 10/150\n",
      "52/52 [==============================] - 1s 13ms/step - loss: 0.7684 - accuracy: 0.6570 - val_loss: 0.9280 - val_accuracy: 0.5478\n",
      "Epoch 11/150\n",
      "52/52 [==============================] - 1s 13ms/step - loss: 0.7611 - accuracy: 0.6585 - val_loss: 0.7863 - val_accuracy: 0.6644\n",
      "Epoch 12/150\n",
      "52/52 [==============================] - 1s 13ms/step - loss: 0.7095 - accuracy: 0.6918 - val_loss: 0.7569 - val_accuracy: 0.6556\n",
      "Epoch 13/150\n",
      "52/52 [==============================] - 1s 13ms/step - loss: 0.7362 - accuracy: 0.6861 - val_loss: 0.8010 - val_accuracy: 0.6589\n",
      "Epoch 14/150\n",
      "52/52 [==============================] - 1s 14ms/step - loss: 0.7018 - accuracy: 0.6988 - val_loss: 0.7254 - val_accuracy: 0.6667\n",
      "Epoch 15/150\n",
      "52/52 [==============================] - 1s 14ms/step - loss: 0.6610 - accuracy: 0.7203 - val_loss: 0.7144 - val_accuracy: 0.6867\n",
      "Epoch 16/150\n",
      "52/52 [==============================] - 1s 14ms/step - loss: 0.6596 - accuracy: 0.7094 - val_loss: 0.7226 - val_accuracy: 0.6656\n",
      "Epoch 17/150\n",
      "52/52 [==============================] - 1s 13ms/step - loss: 0.6812 - accuracy: 0.7033 - val_loss: 0.7493 - val_accuracy: 0.6844\n",
      "Epoch 18/150\n",
      "52/52 [==============================] - 1s 14ms/step - loss: 0.6244 - accuracy: 0.7385 - val_loss: 0.6904 - val_accuracy: 0.6978\n",
      "Epoch 19/150\n",
      "52/52 [==============================] - 1s 13ms/step - loss: 0.6609 - accuracy: 0.7185 - val_loss: 0.6879 - val_accuracy: 0.7022\n",
      "Epoch 20/150\n",
      "52/52 [==============================] - 1s 13ms/step - loss: 0.6104 - accuracy: 0.7515 - val_loss: 0.7825 - val_accuracy: 0.6733\n",
      "Epoch 21/150\n",
      "52/52 [==============================] - 1s 13ms/step - loss: 0.6443 - accuracy: 0.7309 - val_loss: 0.7117 - val_accuracy: 0.6767\n",
      "Epoch 22/150\n",
      "52/52 [==============================] - 1s 13ms/step - loss: 0.5718 - accuracy: 0.7700 - val_loss: 0.7765 - val_accuracy: 0.6756\n",
      "Epoch 23/150\n",
      "52/52 [==============================] - 1s 14ms/step - loss: 0.5579 - accuracy: 0.7733 - val_loss: 0.8516 - val_accuracy: 0.6411\n",
      "Epoch 24/150\n",
      "52/52 [==============================] - 1s 14ms/step - loss: 0.5664 - accuracy: 0.7739 - val_loss: 0.6923 - val_accuracy: 0.7122\n",
      "Epoch 25/150\n",
      "52/52 [==============================] - 1s 13ms/step - loss: 0.5597 - accuracy: 0.7694 - val_loss: 0.6467 - val_accuracy: 0.7078\n",
      "Epoch 26/150\n",
      "52/52 [==============================] - 1s 13ms/step - loss: 0.5650 - accuracy: 0.7645 - val_loss: 0.8161 - val_accuracy: 0.6256\n",
      "Epoch 27/150\n",
      "52/52 [==============================] - 1s 14ms/step - loss: 0.5560 - accuracy: 0.7770 - val_loss: 0.6407 - val_accuracy: 0.7044\n",
      "Epoch 28/150\n",
      "52/52 [==============================] - 1s 13ms/step - loss: 0.4978 - accuracy: 0.8033 - val_loss: 0.5959 - val_accuracy: 0.7289\n",
      "Epoch 29/150\n",
      "52/52 [==============================] - 1s 13ms/step - loss: 0.4924 - accuracy: 0.7985 - val_loss: 0.6756 - val_accuracy: 0.7122\n",
      "Epoch 30/150\n",
      "52/52 [==============================] - 1s 13ms/step - loss: 0.5023 - accuracy: 0.7979 - val_loss: 0.7405 - val_accuracy: 0.6744\n",
      "Epoch 31/150\n",
      "52/52 [==============================] - 1s 13ms/step - loss: 0.4816 - accuracy: 0.8082 - val_loss: 0.6033 - val_accuracy: 0.7333\n",
      "Epoch 32/150\n",
      "52/52 [==============================] - 1s 14ms/step - loss: 0.4588 - accuracy: 0.8224 - val_loss: 0.6721 - val_accuracy: 0.7033\n",
      "Epoch 33/150\n",
      "52/52 [==============================] - 1s 14ms/step - loss: 0.4643 - accuracy: 0.8173 - val_loss: 0.5961 - val_accuracy: 0.7389\n",
      "Epoch 34/150\n",
      "52/52 [==============================] - 1s 13ms/step - loss: 0.4431 - accuracy: 0.8276 - val_loss: 0.5776 - val_accuracy: 0.7544\n",
      "Epoch 35/150\n",
      "52/52 [==============================] - 1s 14ms/step - loss: 0.4308 - accuracy: 0.8306 - val_loss: 0.5879 - val_accuracy: 0.7456\n",
      "Epoch 36/150\n",
      "52/52 [==============================] - 1s 14ms/step - loss: 0.4374 - accuracy: 0.8255 - val_loss: 0.5563 - val_accuracy: 0.7511\n",
      "Epoch 37/150\n",
      "52/52 [==============================] - 1s 14ms/step - loss: 0.4065 - accuracy: 0.8439 - val_loss: 0.6892 - val_accuracy: 0.7100\n",
      "Epoch 38/150\n",
      "52/52 [==============================] - 1s 13ms/step - loss: 0.4424 - accuracy: 0.8264 - val_loss: 0.5564 - val_accuracy: 0.7556\n",
      "Epoch 39/150\n",
      "52/52 [==============================] - 1s 13ms/step - loss: 0.4489 - accuracy: 0.8158 - val_loss: 0.5605 - val_accuracy: 0.7578\n",
      "Epoch 40/150\n",
      "52/52 [==============================] - 1s 13ms/step - loss: 0.4046 - accuracy: 0.8473 - val_loss: 0.6026 - val_accuracy: 0.7500\n",
      "Epoch 41/150\n",
      "52/52 [==============================] - 1s 14ms/step - loss: 0.4062 - accuracy: 0.8421 - val_loss: 1.0663 - val_accuracy: 0.6133\n",
      "Epoch 42/150\n",
      "52/52 [==============================] - 1s 14ms/step - loss: 0.4131 - accuracy: 0.8382 - val_loss: 0.7174 - val_accuracy: 0.7189\n",
      "Epoch 43/150\n",
      "52/52 [==============================] - 1s 13ms/step - loss: 0.4223 - accuracy: 0.8309 - val_loss: 0.6914 - val_accuracy: 0.7244\n",
      "Epoch 44/150\n",
      "52/52 [==============================] - 1s 14ms/step - loss: 0.3676 - accuracy: 0.8588 - val_loss: 0.5194 - val_accuracy: 0.7744\n",
      "Epoch 45/150\n",
      "52/52 [==============================] - 1s 13ms/step - loss: 0.3379 - accuracy: 0.8806 - val_loss: 0.7289 - val_accuracy: 0.7089\n",
      "Epoch 46/150\n",
      "52/52 [==============================] - 1s 13ms/step - loss: 0.3604 - accuracy: 0.8670 - val_loss: 0.5572 - val_accuracy: 0.7678\n",
      "Epoch 47/150\n",
      "52/52 [==============================] - 1s 13ms/step - loss: 0.3239 - accuracy: 0.8827 - val_loss: 0.5292 - val_accuracy: 0.7700\n",
      "Epoch 48/150\n",
      "52/52 [==============================] - 1s 14ms/step - loss: 0.3281 - accuracy: 0.8785 - val_loss: 0.5390 - val_accuracy: 0.7722\n",
      "Epoch 49/150\n",
      "52/52 [==============================] - 1s 14ms/step - loss: 0.3483 - accuracy: 0.8673 - val_loss: 0.6073 - val_accuracy: 0.7456\n",
      "Epoch 50/150\n",
      "52/52 [==============================] - 1s 13ms/step - loss: 0.3207 - accuracy: 0.8806 - val_loss: 0.6972 - val_accuracy: 0.7411\n",
      "Epoch 51/150\n",
      "52/52 [==============================] - 1s 13ms/step - loss: 0.3677 - accuracy: 0.8600 - val_loss: 0.5642 - val_accuracy: 0.7533\n",
      "Epoch 52/150\n",
      "52/52 [==============================] - 1s 15ms/step - loss: 0.3073 - accuracy: 0.8879 - val_loss: 0.5613 - val_accuracy: 0.7600\n",
      "Epoch 53/150\n",
      "52/52 [==============================] - 1s 14ms/step - loss: 0.3189 - accuracy: 0.8821 - val_loss: 0.5106 - val_accuracy: 0.7822\n",
      "Epoch 54/150\n",
      "52/52 [==============================] - 1s 13ms/step - loss: 0.3181 - accuracy: 0.8785 - val_loss: 0.5030 - val_accuracy: 0.7944\n",
      "Epoch 55/150\n",
      "52/52 [==============================] - 1s 14ms/step - loss: 0.2739 - accuracy: 0.9106 - val_loss: 0.5189 - val_accuracy: 0.7778\n",
      "Epoch 56/150\n",
      "52/52 [==============================] - 1s 14ms/step - loss: 0.3037 - accuracy: 0.8885 - val_loss: 0.5222 - val_accuracy: 0.7911\n",
      "Epoch 57/150\n",
      "52/52 [==============================] - 1s 13ms/step - loss: 0.3004 - accuracy: 0.8855 - val_loss: 0.5032 - val_accuracy: 0.8000\n",
      "Epoch 58/150\n",
      "52/52 [==============================] - 1s 13ms/step - loss: 0.3085 - accuracy: 0.8788 - val_loss: 0.5013 - val_accuracy: 0.7911\n",
      "Epoch 59/150\n",
      "52/52 [==============================] - 1s 14ms/step - loss: 0.2927 - accuracy: 0.8861 - val_loss: 0.6022 - val_accuracy: 0.7600\n",
      "Epoch 60/150\n",
      "52/52 [==============================] - 1s 13ms/step - loss: 0.2761 - accuracy: 0.8970 - val_loss: 0.5279 - val_accuracy: 0.7867\n",
      "Epoch 61/150\n",
      "52/52 [==============================] - 1s 14ms/step - loss: 0.2504 - accuracy: 0.9142 - val_loss: 0.5426 - val_accuracy: 0.7822\n",
      "Epoch 62/150\n",
      "52/52 [==============================] - 1s 14ms/step - loss: 0.2689 - accuracy: 0.9064 - val_loss: 0.4911 - val_accuracy: 0.7900\n",
      "Epoch 63/150\n",
      "52/52 [==============================] - 1s 13ms/step - loss: 0.2827 - accuracy: 0.8921 - val_loss: 0.5433 - val_accuracy: 0.7767\n",
      "Epoch 64/150\n",
      "52/52 [==============================] - 1s 14ms/step - loss: 0.2812 - accuracy: 0.8985 - val_loss: 0.4777 - val_accuracy: 0.8022\n",
      "Epoch 65/150\n",
      "52/52 [==============================] - 1s 14ms/step - loss: 0.2526 - accuracy: 0.9112 - val_loss: 0.5098 - val_accuracy: 0.7900\n",
      "Epoch 66/150\n",
      "52/52 [==============================] - 1s 13ms/step - loss: 0.2725 - accuracy: 0.8955 - val_loss: 0.5825 - val_accuracy: 0.7633\n",
      "Epoch 67/150\n",
      "52/52 [==============================] - 1s 13ms/step - loss: 0.2382 - accuracy: 0.9182 - val_loss: 0.5578 - val_accuracy: 0.7778\n",
      "Epoch 68/150\n",
      "52/52 [==============================] - 1s 13ms/step - loss: 0.2559 - accuracy: 0.9073 - val_loss: 0.5020 - val_accuracy: 0.7933\n",
      "Epoch 69/150\n",
      "52/52 [==============================] - 1s 14ms/step - loss: 0.2174 - accuracy: 0.9261 - val_loss: 0.4878 - val_accuracy: 0.7922\n",
      "Epoch 70/150\n",
      "52/52 [==============================] - 1s 13ms/step - loss: 0.2181 - accuracy: 0.9285 - val_loss: 0.4695 - val_accuracy: 0.8078\n",
      "Epoch 71/150\n",
      "52/52 [==============================] - 1s 14ms/step - loss: 0.2415 - accuracy: 0.9121 - val_loss: 0.4923 - val_accuracy: 0.8044\n",
      "Epoch 72/150\n",
      "52/52 [==============================] - 1s 13ms/step - loss: 0.2153 - accuracy: 0.9236 - val_loss: 0.5012 - val_accuracy: 0.8022\n",
      "Epoch 73/150\n",
      "52/52 [==============================] - 1s 13ms/step - loss: 0.2187 - accuracy: 0.9215 - val_loss: 0.4952 - val_accuracy: 0.8067\n",
      "Epoch 74/150\n",
      "52/52 [==============================] - 1s 14ms/step - loss: 0.2187 - accuracy: 0.9203 - val_loss: 0.5622 - val_accuracy: 0.7867\n",
      "Epoch 75/150\n",
      "52/52 [==============================] - 1s 13ms/step - loss: 0.2290 - accuracy: 0.9142 - val_loss: 0.5373 - val_accuracy: 0.7922\n",
      "Epoch 76/150\n",
      "52/52 [==============================] - 1s 13ms/step - loss: 0.2778 - accuracy: 0.8909 - val_loss: 0.4996 - val_accuracy: 0.8033\n",
      "Epoch 77/150\n",
      "52/52 [==============================] - 1s 13ms/step - loss: 0.2045 - accuracy: 0.9303 - val_loss: 0.6239 - val_accuracy: 0.7722\n",
      "Epoch 78/150\n",
      "52/52 [==============================] - 1s 14ms/step - loss: 0.2116 - accuracy: 0.9270 - val_loss: 0.5346 - val_accuracy: 0.7878\n",
      "Epoch 79/150\n",
      "52/52 [==============================] - 1s 13ms/step - loss: 0.2106 - accuracy: 0.9248 - val_loss: 0.7918 - val_accuracy: 0.7344\n",
      "Epoch 80/150\n",
      "52/52 [==============================] - 1s 13ms/step - loss: 0.1952 - accuracy: 0.9315 - val_loss: 0.4791 - val_accuracy: 0.8089\n",
      "Epoch 81/150\n",
      "52/52 [==============================] - 1s 13ms/step - loss: 0.1833 - accuracy: 0.9327 - val_loss: 0.4942 - val_accuracy: 0.8067\n",
      "Epoch 82/150\n",
      "52/52 [==============================] - 1s 13ms/step - loss: 0.1839 - accuracy: 0.9379 - val_loss: 0.4641 - val_accuracy: 0.8233\n",
      "Epoch 83/150\n",
      "52/52 [==============================] - 1s 14ms/step - loss: 0.1862 - accuracy: 0.9385 - val_loss: 0.4887 - val_accuracy: 0.8111\n",
      "Epoch 84/150\n",
      "52/52 [==============================] - 1s 13ms/step - loss: 0.1754 - accuracy: 0.9430 - val_loss: 0.4694 - val_accuracy: 0.8156\n",
      "Epoch 85/150\n",
      "52/52 [==============================] - 1s 14ms/step - loss: 0.1686 - accuracy: 0.9467 - val_loss: 0.6124 - val_accuracy: 0.7778\n",
      "Epoch 86/150\n",
      "52/52 [==============================] - 1s 13ms/step - loss: 0.1833 - accuracy: 0.9327 - val_loss: 0.5015 - val_accuracy: 0.8078\n",
      "Epoch 87/150\n",
      "52/52 [==============================] - 1s 13ms/step - loss: 0.1703 - accuracy: 0.9442 - val_loss: 0.5878 - val_accuracy: 0.7867\n",
      "Epoch 88/150\n",
      "52/52 [==============================] - 1s 14ms/step - loss: 0.2373 - accuracy: 0.9097 - val_loss: 0.5411 - val_accuracy: 0.8067\n",
      "Epoch 89/150\n",
      "52/52 [==============================] - 1s 14ms/step - loss: 0.2245 - accuracy: 0.9145 - val_loss: 0.6820 - val_accuracy: 0.7356\n",
      "Epoch 90/150\n",
      "52/52 [==============================] - 1s 13ms/step - loss: 0.2400 - accuracy: 0.9030 - val_loss: 0.5837 - val_accuracy: 0.7933\n",
      "Epoch 91/150\n",
      "52/52 [==============================] - 1s 14ms/step - loss: 0.1546 - accuracy: 0.9497 - val_loss: 0.5413 - val_accuracy: 0.8100\n",
      "Epoch 92/150\n",
      "52/52 [==============================] - 1s 14ms/step - loss: 0.1757 - accuracy: 0.9367 - val_loss: 0.5391 - val_accuracy: 0.7944\n",
      "Epoch 93/150\n",
      "52/52 [==============================] - 1s 14ms/step - loss: 0.1781 - accuracy: 0.9358 - val_loss: 0.4784 - val_accuracy: 0.8222\n",
      "Epoch 94/150\n",
      "52/52 [==============================] - 1s 14ms/step - loss: 0.1592 - accuracy: 0.9470 - val_loss: 0.5604 - val_accuracy: 0.7878\n",
      "Epoch 95/150\n",
      "52/52 [==============================] - 1s 14ms/step - loss: 0.1536 - accuracy: 0.9479 - val_loss: 0.5367 - val_accuracy: 0.8033\n",
      "Epoch 96/150\n",
      "52/52 [==============================] - 1s 13ms/step - loss: 0.2436 - accuracy: 0.9021 - val_loss: 0.4958 - val_accuracy: 0.8056\n",
      "Epoch 97/150\n",
      "52/52 [==============================] - 1s 13ms/step - loss: 0.1578 - accuracy: 0.9467 - val_loss: 0.4795 - val_accuracy: 0.8200\n",
      "Epoch 98/150\n",
      "52/52 [==============================] - 1s 14ms/step - loss: 0.1494 - accuracy: 0.9497 - val_loss: 0.4674 - val_accuracy: 0.8233\n",
      "Epoch 99/150\n",
      "52/52 [==============================] - 1s 14ms/step - loss: 0.1383 - accuracy: 0.9536 - val_loss: 0.4871 - val_accuracy: 0.8222\n",
      "Epoch 100/150\n",
      "52/52 [==============================] - 1s 14ms/step - loss: 0.1543 - accuracy: 0.9442 - val_loss: 0.5345 - val_accuracy: 0.8011\n",
      "Epoch 101/150\n",
      "52/52 [==============================] - 1s 14ms/step - loss: 0.1165 - accuracy: 0.9652 - val_loss: 0.4759 - val_accuracy: 0.8156\n",
      "Epoch 102/150\n",
      "49/52 [===========================>..] - ETA: 0s - loss: 0.1211 - accuracy: 0.9630Restoring model weights from the end of the best epoch: 82.\n",
      "52/52 [==============================] - 1s 14ms/step - loss: 0.1237 - accuracy: 0.9615 - val_loss: 0.4830 - val_accuracy: 0.8233\n",
      "Epoch 102: early stopping\n"
     ]
    },
    {
     "data": {
      "text/plain": [
       "<keras.src.callbacks.History at 0x7f906c210e50>"
      ]
     },
     "execution_count": 52,
     "metadata": {},
     "output_type": "execute_result"
    }
   ],
   "source": [
    "\n",
    "# Compile the model\n",
    "model.compile(optimizer = tf.keras.optimizers.Adam(),\n",
    "\t\t\t  loss='categorical_crossentropy',  # Use 'categorical_crossentropy' for one-hot encoded labels\n",
    "\t\t\t  metrics=['accuracy'])\n",
    "\n",
    "early_stopping = EarlyStopping(monitor='val_loss', mode='min', patience=20, verbose=1, restore_best_weights=True)\n",
    "\n",
    "callbacks_list = [early_stopping]\n",
    "\n",
    "# Train the model\n",
    "model.fit(x=train_dataset, epochs=num_epochs, callbacks=callbacks_list, validation_data=val_dataset)\n",
    "\n"
   ]
  },
  {
   "cell_type": "code",
   "execution_count": 53,
   "metadata": {},
   "outputs": [
    {
     "name": "stdout",
     "output_type": "stream",
     "text": [
      " 1/15 [=>............................] - ETA: 0s - loss: 0.3329 - accuracy: 0.8281"
     ]
    },
    {
     "name": "stdout",
     "output_type": "stream",
     "text": [
      "15/15 [==============================] - 0s 6ms/step - loss: 0.4641 - accuracy: 0.8233\n",
      "{'loss': 0.46408218145370483, 'accuracy': 0.8233333230018616}\n"
     ]
    }
   ],
   "source": [
    "# evaluate model on test set\n",
    "\n",
    "evaluation = model.evaluate(val_dataset, batch_size=32)\n",
    "evaluation = dict(zip(model.metrics_names, evaluation))\n",
    "print(evaluation)"
   ]
  },
  {
   "cell_type": "markdown",
   "metadata": {},
   "source": [
    "#### Model 2: more parameters and different types of conv layers"
   ]
  },
  {
   "cell_type": "code",
   "execution_count": 32,
   "metadata": {},
   "outputs": [
    {
     "name": "stdout",
     "output_type": "stream",
     "text": [
      "Model: \"model_2\"\n",
      "_________________________________________________________________\n",
      " Layer (type)                Output Shape              Param #   \n",
      "=================================================================\n",
      " input_layer (InputLayer)    [(None, 349, 12, 1)]      0         \n",
      "                                                                 \n",
      " conv1 (Conv2D)              (None, 345, 12, 16)       96        \n",
      "                                                                 \n",
      " pool1 (MaxPooling2D)        (None, 172, 12, 16)       0         \n",
      "                                                                 \n",
      " conv2 (Conv2D)              (None, 172, 8, 16)        1296      \n",
      "                                                                 \n",
      " pool2 (MaxPooling2D)        (None, 86, 8, 16)         0         \n",
      "                                                                 \n",
      " avg_pool (AveragePooling2D  (None, 2, 8, 16)          0         \n",
      " )                                                               \n",
      "                                                                 \n",
      " flatten (Flatten)           (None, 256)               0         \n",
      "                                                                 \n",
      " dropout (Dropout)           (None, 256)               0         \n",
      "                                                                 \n",
      " dense1 (Dense)              (None, 32)                8224      \n",
      "                                                                 \n",
      " dense2 (Dense)              (None, 32)                1056      \n",
      "                                                                 \n",
      " output_layer (Dense)        (None, 3)                 99        \n",
      "                                                                 \n",
      "=================================================================\n",
      "Total params: 10771 (42.07 KB)\n",
      "Trainable params: 10771 (42.07 KB)\n",
      "Non-trainable params: 0 (0.00 Byte)\n",
      "_________________________________________________________________\n"
     ]
    }
   ],
   "source": [
    "'''\n",
    "# create new CNN model\n",
    "input_layer = tf.keras.layers.Input(shape=mfcc_shape, name='input_layer')\n",
    "conv1 = tf.keras.layers.Conv2D(16, (5, 1), activation='relu', padding='same', name='conv1')(input_layer)\n",
    "pool1 = tf.keras.layers.MaxPooling2D((2, 1), name='pool1')(conv1)\n",
    "conv2 = tf.keras.layers.Conv2D(16, (1, 5), activation='relu', padding='same', name='conv2')(pool1)\n",
    "pool2 = tf.keras.layers.MaxPooling2D((2, 1), name='pool2')(conv2)\n",
    "conv3 = tf.keras.layers.Conv2D(16, (3, 3), activation='relu', padding='same', name='conv3')(pool2)\n",
    "pool3 = tf.keras.layers.MaxPooling2D((2, 2), name='pool3')(conv3)\n",
    "avg_pool = tf.keras.layers.AveragePooling2D(pool_size=(21, 2), name='avg_pool')(pool3)\n",
    "flatten = tf.keras.layers.Flatten(name='flatten')(avg_pool)\n",
    "dense1 = tf.keras.layers.Dense(64, activation='relu', name='dense1', kernel_regularizer='l2')(flatten)\n",
    "dropout = tf.keras.layers.Dropout(0.3, name='dropout')(dense1)\n",
    "dense2 = tf.keras.layers.Dense(32, activation='relu', name='dense2', kernel_regularizer='l2')(dropout)\n",
    "output_layer = tf.keras.layers.Dense(len(classes), activation='softmax', name='output_layer')(dense2)\n",
    "'''\n",
    "\n",
    "input_layer = tf.keras.layers.Input(shape=mfcc_shape, name='input_layer')\n",
    "conv1 = tf.keras.layers.Conv2D(16, (5, 1), activation='relu', padding='valid', name='conv1')(input_layer)\n",
    "pool1 = tf.keras.layers.MaxPooling2D((2, 1), name='pool1')(conv1)\n",
    "conv2 = tf.keras.layers.Conv2D(16, (1, 5), activation='relu', padding='valid', name='conv2')(pool1)\n",
    "pool2 = tf.keras.layers.MaxPooling2D((2, 1), name='pool2')(conv2)\n",
    "avg_pool = tf.keras.layers.AveragePooling2D(pool_size=(40, 1), name='avg_pool')(pool2)\n",
    "flatten = tf.keras.layers.Flatten(name='flatten')(avg_pool)\n",
    "\n",
    "dropout = tf.keras.layers.Dropout(0.3, name='dropout')(flatten)\n",
    "\n",
    "dense1 = tf.keras.layers.Dense(32, activation='relu', name='dense1', kernel_regularizer='l2')(dropout)\n",
    "dense2 = tf.keras.layers.Dense(32, activation='relu', name='dense2', kernel_regularizer='l2')(dense1)\n",
    "output_layer = tf.keras.layers.Dense(len(classes), activation='softmax', name='output_layer')(dense2)\n",
    "\n",
    "model_2 = tf.keras.models.Model(inputs=input_layer, outputs=output_layer)\n",
    "model_2.summary()\n"
   ]
  },
  {
   "cell_type": "code",
   "execution_count": 33,
   "metadata": {},
   "outputs": [],
   "source": [
    "\n",
    "# prints learning rate during training\n",
    "def get_lr_metric(optimizer):\n",
    "    def lr(y_true, y_pred):\n",
    "        return optimizer.lr\n",
    "    return lr\n",
    "\n",
    "# learning rate scheduler with polynomial decay\n",
    "learning_rate_scheduler = tf.keras.optimizers.schedules.PolynomialDecay(\n",
    "    initial_learning_rate=0.0004,\n",
    "    decay_steps=10000,\n",
    "    end_learning_rate=2.5e-4,\n",
    "    power=0.3\n",
    ")\n",
    "optimizer = tf.keras.optimizers.Adam(learning_rate=learning_rate_scheduler)\n",
    "lr_metric = get_lr_metric(optimizer)\n"
   ]
  },
  {
   "cell_type": "code",
   "execution_count": 34,
   "metadata": {},
   "outputs": [
    {
     "name": "stdout",
     "output_type": "stream",
     "text": [
      "Epoch 1/150\n"
     ]
    },
    {
     "name": "stdout",
     "output_type": "stream",
     "text": [
      "52/52 [==============================] - 3s 15ms/step - loss: 3.5460 - accuracy: 0.3427 - lr: 3.9989e-04 - val_loss: 2.1296 - val_accuracy: 0.3133 - val_lr: 3.9977e-04\n",
      "Epoch 2/150\n",
      "52/52 [==============================] - 1s 12ms/step - loss: 2.1760 - accuracy: 0.3530 - lr: 3.9965e-04 - val_loss: 1.9517 - val_accuracy: 0.3744 - val_lr: 3.9953e-04\n",
      "Epoch 3/150\n",
      "52/52 [==============================] - 1s 13ms/step - loss: 2.0147 - accuracy: 0.3588 - lr: 3.9941e-04 - val_loss: 1.9232 - val_accuracy: 0.3722 - val_lr: 3.9930e-04\n",
      "Epoch 4/150\n",
      "52/52 [==============================] - 1s 13ms/step - loss: 1.9582 - accuracy: 0.3455 - lr: 3.9918e-04 - val_loss: 1.8921 - val_accuracy: 0.4056 - val_lr: 3.9906e-04\n",
      "Epoch 5/150\n",
      "52/52 [==============================] - 1s 12ms/step - loss: 1.9075 - accuracy: 0.3867 - lr: 3.9894e-04 - val_loss: 1.8698 - val_accuracy: 0.3811 - val_lr: 3.9882e-04\n",
      "Epoch 6/150\n",
      "52/52 [==============================] - 1s 12ms/step - loss: 1.8722 - accuracy: 0.3836 - lr: 3.9870e-04 - val_loss: 1.8350 - val_accuracy: 0.4311 - val_lr: 3.9859e-04\n",
      "Epoch 7/150\n",
      "52/52 [==============================] - 1s 12ms/step - loss: 1.8366 - accuracy: 0.4079 - lr: 3.9846e-04 - val_loss: 1.8023 - val_accuracy: 0.4478 - val_lr: 3.9835e-04\n",
      "Epoch 8/150\n",
      "52/52 [==============================] - 1s 13ms/step - loss: 1.8080 - accuracy: 0.4142 - lr: 3.9822e-04 - val_loss: 1.7713 - val_accuracy: 0.4300 - val_lr: 3.9810e-04\n",
      "Epoch 9/150\n",
      "52/52 [==============================] - 1s 13ms/step - loss: 1.7739 - accuracy: 0.4179 - lr: 3.9798e-04 - val_loss: 1.7294 - val_accuracy: 0.5000 - val_lr: 3.9786e-04\n",
      "Epoch 10/150\n",
      "52/52 [==============================] - 1s 13ms/step - loss: 1.7344 - accuracy: 0.4473 - lr: 3.9774e-04 - val_loss: 1.6887 - val_accuracy: 0.5367 - val_lr: 3.9762e-04\n",
      "Epoch 11/150\n",
      "52/52 [==============================] - 1s 13ms/step - loss: 1.6992 - accuracy: 0.4548 - lr: 3.9750e-04 - val_loss: 1.6483 - val_accuracy: 0.5567 - val_lr: 3.9738e-04\n",
      "Epoch 12/150\n",
      "52/52 [==============================] - 1s 13ms/step - loss: 1.6592 - accuracy: 0.4709 - lr: 3.9725e-04 - val_loss: 1.6072 - val_accuracy: 0.5900 - val_lr: 3.9713e-04\n",
      "Epoch 13/150\n",
      "52/52 [==============================] - 1s 13ms/step - loss: 1.6296 - accuracy: 0.4779 - lr: 3.9701e-04 - val_loss: 1.5604 - val_accuracy: 0.5933 - val_lr: 3.9689e-04\n",
      "Epoch 14/150\n",
      "52/52 [==============================] - 1s 13ms/step - loss: 1.5834 - accuracy: 0.5036 - lr: 3.9676e-04 - val_loss: 1.5177 - val_accuracy: 0.6122 - val_lr: 3.9664e-04\n",
      "Epoch 15/150\n",
      "52/52 [==============================] - 1s 13ms/step - loss: 1.5489 - accuracy: 0.5264 - lr: 3.9652e-04 - val_loss: 1.4746 - val_accuracy: 0.6244 - val_lr: 3.9639e-04\n",
      "Epoch 16/150\n",
      "52/52 [==============================] - 1s 13ms/step - loss: 1.5163 - accuracy: 0.5303 - lr: 3.9627e-04 - val_loss: 1.4377 - val_accuracy: 0.6322 - val_lr: 3.9615e-04\n",
      "Epoch 17/150\n",
      "52/52 [==============================] - 1s 13ms/step - loss: 1.4797 - accuracy: 0.5503 - lr: 3.9602e-04 - val_loss: 1.4020 - val_accuracy: 0.6622 - val_lr: 3.9590e-04\n",
      "Epoch 18/150\n",
      "52/52 [==============================] - 1s 13ms/step - loss: 1.4309 - accuracy: 0.5736 - lr: 3.9577e-04 - val_loss: 1.3586 - val_accuracy: 0.6444 - val_lr: 3.9565e-04\n",
      "Epoch 19/150\n",
      "52/52 [==============================] - 1s 13ms/step - loss: 1.4062 - accuracy: 0.5776 - lr: 3.9552e-04 - val_loss: 1.3384 - val_accuracy: 0.6711 - val_lr: 3.9540e-04\n",
      "Epoch 20/150\n",
      "52/52 [==============================] - 1s 13ms/step - loss: 1.3760 - accuracy: 0.5858 - lr: 3.9527e-04 - val_loss: 1.3029 - val_accuracy: 0.6756 - val_lr: 3.9514e-04\n",
      "Epoch 21/150\n",
      "52/52 [==============================] - 1s 12ms/step - loss: 1.3340 - accuracy: 0.6073 - lr: 3.9501e-04 - val_loss: 1.2918 - val_accuracy: 0.6422 - val_lr: 3.9489e-04\n",
      "Epoch 22/150\n",
      "52/52 [==============================] - 1s 13ms/step - loss: 1.3145 - accuracy: 0.6100 - lr: 3.9476e-04 - val_loss: 1.2446 - val_accuracy: 0.6833 - val_lr: 3.9464e-04\n",
      "Epoch 23/150\n",
      "52/52 [==============================] - 1s 13ms/step - loss: 1.2809 - accuracy: 0.6291 - lr: 3.9451e-04 - val_loss: 1.2275 - val_accuracy: 0.6733 - val_lr: 3.9438e-04\n",
      "Epoch 24/150\n",
      "52/52 [==============================] - 1s 13ms/step - loss: 1.2606 - accuracy: 0.6318 - lr: 3.9425e-04 - val_loss: 1.1997 - val_accuracy: 0.6767 - val_lr: 3.9412e-04\n",
      "Epoch 25/150\n",
      "52/52 [==============================] - 1s 13ms/step - loss: 1.2352 - accuracy: 0.6315 - lr: 3.9399e-04 - val_loss: 1.1610 - val_accuracy: 0.6933 - val_lr: 3.9387e-04\n",
      "Epoch 26/150\n",
      "52/52 [==============================] - 1s 13ms/step - loss: 1.1853 - accuracy: 0.6576 - lr: 3.9374e-04 - val_loss: 1.1256 - val_accuracy: 0.7011 - val_lr: 3.9361e-04\n",
      "Epoch 27/150\n",
      "52/52 [==============================] - 1s 13ms/step - loss: 1.1695 - accuracy: 0.6597 - lr: 3.9348e-04 - val_loss: 1.1043 - val_accuracy: 0.6978 - val_lr: 3.9335e-04\n",
      "Epoch 28/150\n",
      "52/52 [==============================] - 1s 13ms/step - loss: 1.1420 - accuracy: 0.6615 - lr: 3.9322e-04 - val_loss: 1.0961 - val_accuracy: 0.7000 - val_lr: 3.9309e-04\n",
      "Epoch 29/150\n",
      "52/52 [==============================] - 1s 13ms/step - loss: 1.1198 - accuracy: 0.6667 - lr: 3.9296e-04 - val_loss: 1.0586 - val_accuracy: 0.7044 - val_lr: 3.9283e-04\n",
      "Epoch 30/150\n",
      "52/52 [==============================] - 1s 12ms/step - loss: 1.1062 - accuracy: 0.6745 - lr: 3.9269e-04 - val_loss: 1.0639 - val_accuracy: 0.7067 - val_lr: 3.9256e-04\n",
      "Epoch 31/150\n",
      "52/52 [==============================] - 1s 12ms/step - loss: 1.0781 - accuracy: 0.6824 - lr: 3.9243e-04 - val_loss: 1.0199 - val_accuracy: 0.7211 - val_lr: 3.9230e-04\n",
      "Epoch 32/150\n",
      "52/52 [==============================] - 1s 13ms/step - loss: 1.0522 - accuracy: 0.6930 - lr: 3.9216e-04 - val_loss: 0.9949 - val_accuracy: 0.7378 - val_lr: 3.9203e-04\n",
      "Epoch 33/150\n",
      "52/52 [==============================] - 1s 12ms/step - loss: 1.0300 - accuracy: 0.6870 - lr: 3.9190e-04 - val_loss: 0.9751 - val_accuracy: 0.7322 - val_lr: 3.9177e-04\n",
      "Epoch 34/150\n",
      "52/52 [==============================] - 1s 12ms/step - loss: 1.0097 - accuracy: 0.6955 - lr: 3.9163e-04 - val_loss: 0.9750 - val_accuracy: 0.7211 - val_lr: 3.9150e-04\n",
      "Epoch 35/150\n",
      "52/52 [==============================] - 1s 13ms/step - loss: 0.9931 - accuracy: 0.7067 - lr: 3.9136e-04 - val_loss: 0.9495 - val_accuracy: 0.7300 - val_lr: 3.9123e-04\n",
      "Epoch 36/150\n",
      "52/52 [==============================] - 1s 13ms/step - loss: 0.9746 - accuracy: 0.6997 - lr: 3.9109e-04 - val_loss: 0.9373 - val_accuracy: 0.7233 - val_lr: 3.9096e-04\n",
      "Epoch 37/150\n",
      "52/52 [==============================] - 1s 12ms/step - loss: 0.9551 - accuracy: 0.7145 - lr: 3.9082e-04 - val_loss: 0.9055 - val_accuracy: 0.7456 - val_lr: 3.9069e-04\n",
      "Epoch 38/150\n",
      "52/52 [==============================] - 1s 12ms/step - loss: 0.9321 - accuracy: 0.7252 - lr: 3.9055e-04 - val_loss: 0.8820 - val_accuracy: 0.7444 - val_lr: 3.9042e-04\n",
      "Epoch 39/150\n",
      "52/52 [==============================] - 1s 13ms/step - loss: 0.9222 - accuracy: 0.7218 - lr: 3.9028e-04 - val_loss: 0.8852 - val_accuracy: 0.7400 - val_lr: 3.9015e-04\n",
      "Epoch 40/150\n",
      "52/52 [==============================] - 1s 13ms/step - loss: 0.9042 - accuracy: 0.7345 - lr: 3.9001e-04 - val_loss: 0.8748 - val_accuracy: 0.7433 - val_lr: 3.8987e-04\n",
      "Epoch 41/150\n",
      "52/52 [==============================] - 1s 13ms/step - loss: 0.8946 - accuracy: 0.7245 - lr: 3.8973e-04 - val_loss: 0.8455 - val_accuracy: 0.7644 - val_lr: 3.8959e-04\n",
      "Epoch 42/150\n",
      "52/52 [==============================] - 1s 13ms/step - loss: 0.8761 - accuracy: 0.7324 - lr: 3.8945e-04 - val_loss: 0.8268 - val_accuracy: 0.7544 - val_lr: 3.8932e-04\n",
      "Epoch 43/150\n",
      "52/52 [==============================] - 1s 12ms/step - loss: 0.8631 - accuracy: 0.7373 - lr: 3.8917e-04 - val_loss: 0.8266 - val_accuracy: 0.7533 - val_lr: 3.8904e-04\n",
      "Epoch 44/150\n",
      "52/52 [==============================] - 1s 13ms/step - loss: 0.8507 - accuracy: 0.7524 - lr: 3.8890e-04 - val_loss: 0.8080 - val_accuracy: 0.7678 - val_lr: 3.8876e-04\n",
      "Epoch 45/150\n",
      "52/52 [==============================] - 1s 13ms/step - loss: 0.8321 - accuracy: 0.7530 - lr: 3.8861e-04 - val_loss: 0.7876 - val_accuracy: 0.7733 - val_lr: 3.8848e-04\n",
      "Epoch 46/150\n",
      "52/52 [==============================] - 1s 12ms/step - loss: 0.8192 - accuracy: 0.7524 - lr: 3.8833e-04 - val_loss: 0.7769 - val_accuracy: 0.7678 - val_lr: 3.8819e-04\n",
      "Epoch 47/150\n",
      "52/52 [==============================] - 1s 12ms/step - loss: 0.8057 - accuracy: 0.7470 - lr: 3.8805e-04 - val_loss: 0.7622 - val_accuracy: 0.7778 - val_lr: 3.8791e-04\n",
      "Epoch 48/150\n",
      "52/52 [==============================] - 1s 12ms/step - loss: 0.7986 - accuracy: 0.7561 - lr: 3.8776e-04 - val_loss: 0.7625 - val_accuracy: 0.7856 - val_lr: 3.8762e-04\n",
      "Epoch 49/150\n",
      "52/52 [==============================] - 1s 13ms/step - loss: 0.7736 - accuracy: 0.7627 - lr: 3.8748e-04 - val_loss: 0.7442 - val_accuracy: 0.7778 - val_lr: 3.8734e-04\n",
      "Epoch 50/150\n",
      "52/52 [==============================] - 1s 13ms/step - loss: 0.7650 - accuracy: 0.7730 - lr: 3.8719e-04 - val_loss: 0.7643 - val_accuracy: 0.7700 - val_lr: 3.8705e-04\n",
      "Epoch 51/150\n",
      "52/52 [==============================] - 1s 12ms/step - loss: 0.7596 - accuracy: 0.7603 - lr: 3.8690e-04 - val_loss: 0.7339 - val_accuracy: 0.7933 - val_lr: 3.8676e-04\n",
      "Epoch 52/150\n",
      "52/52 [==============================] - 1s 13ms/step - loss: 0.7598 - accuracy: 0.7655 - lr: 3.8661e-04 - val_loss: 0.7249 - val_accuracy: 0.7933 - val_lr: 3.8647e-04\n",
      "Epoch 53/150\n",
      "52/52 [==============================] - 1s 12ms/step - loss: 0.7411 - accuracy: 0.7712 - lr: 3.8632e-04 - val_loss: 0.7273 - val_accuracy: 0.7789 - val_lr: 3.8618e-04\n",
      "Epoch 54/150\n",
      "52/52 [==============================] - 1s 13ms/step - loss: 0.7303 - accuracy: 0.7712 - lr: 3.8603e-04 - val_loss: 0.6961 - val_accuracy: 0.7922 - val_lr: 3.8588e-04\n",
      "Epoch 55/150\n",
      "52/52 [==============================] - 1s 12ms/step - loss: 0.7073 - accuracy: 0.7897 - lr: 3.8573e-04 - val_loss: 0.6982 - val_accuracy: 0.7944 - val_lr: 3.8559e-04\n",
      "Epoch 56/150\n",
      "52/52 [==============================] - 1s 13ms/step - loss: 0.7042 - accuracy: 0.7812 - lr: 3.8544e-04 - val_loss: 0.6879 - val_accuracy: 0.8056 - val_lr: 3.8529e-04\n",
      "Epoch 57/150\n",
      "52/52 [==============================] - 1s 13ms/step - loss: 0.6952 - accuracy: 0.7852 - lr: 3.8514e-04 - val_loss: 0.6737 - val_accuracy: 0.7967 - val_lr: 3.8499e-04\n",
      "Epoch 58/150\n",
      "52/52 [==============================] - 1s 12ms/step - loss: 0.6860 - accuracy: 0.7915 - lr: 3.8484e-04 - val_loss: 0.6601 - val_accuracy: 0.8122 - val_lr: 3.8469e-04\n",
      "Epoch 59/150\n",
      "52/52 [==============================] - 1s 12ms/step - loss: 0.6854 - accuracy: 0.7861 - lr: 3.8454e-04 - val_loss: 0.6557 - val_accuracy: 0.8133 - val_lr: 3.8439e-04\n",
      "Epoch 60/150\n",
      "52/52 [==============================] - 1s 13ms/step - loss: 0.6643 - accuracy: 0.7909 - lr: 3.8424e-04 - val_loss: 0.6491 - val_accuracy: 0.8100 - val_lr: 3.8409e-04\n",
      "Epoch 61/150\n",
      "52/52 [==============================] - 1s 13ms/step - loss: 0.6575 - accuracy: 0.8033 - lr: 3.8393e-04 - val_loss: 0.6598 - val_accuracy: 0.8089 - val_lr: 3.8378e-04\n",
      "Epoch 62/150\n",
      "52/52 [==============================] - 1s 13ms/step - loss: 0.6752 - accuracy: 0.7939 - lr: 3.8363e-04 - val_loss: 0.6405 - val_accuracy: 0.8144 - val_lr: 3.8348e-04\n",
      "Epoch 63/150\n",
      "52/52 [==============================] - 1s 13ms/step - loss: 0.6496 - accuracy: 0.8036 - lr: 3.8332e-04 - val_loss: 0.6584 - val_accuracy: 0.7933 - val_lr: 3.8317e-04\n",
      "Epoch 64/150\n",
      "52/52 [==============================] - 1s 12ms/step - loss: 0.6290 - accuracy: 0.8136 - lr: 3.8301e-04 - val_loss: 0.6208 - val_accuracy: 0.8211 - val_lr: 3.8286e-04\n",
      "Epoch 65/150\n",
      "52/52 [==============================] - 1s 12ms/step - loss: 0.6409 - accuracy: 0.8027 - lr: 3.8270e-04 - val_loss: 0.6290 - val_accuracy: 0.8189 - val_lr: 3.8255e-04\n",
      "Epoch 66/150\n",
      "52/52 [==============================] - 1s 12ms/step - loss: 0.6344 - accuracy: 0.8024 - lr: 3.8239e-04 - val_loss: 0.6246 - val_accuracy: 0.8178 - val_lr: 3.8223e-04\n",
      "Epoch 67/150\n",
      "52/52 [==============================] - 1s 13ms/step - loss: 0.6184 - accuracy: 0.8118 - lr: 3.8207e-04 - val_loss: 0.6193 - val_accuracy: 0.8133 - val_lr: 3.8192e-04\n",
      "Epoch 68/150\n",
      "52/52 [==============================] - 1s 13ms/step - loss: 0.6009 - accuracy: 0.8142 - lr: 3.8176e-04 - val_loss: 0.6079 - val_accuracy: 0.8222 - val_lr: 3.8160e-04\n",
      "Epoch 69/150\n",
      "52/52 [==============================] - 1s 12ms/step - loss: 0.6093 - accuracy: 0.8118 - lr: 3.8144e-04 - val_loss: 0.5991 - val_accuracy: 0.8211 - val_lr: 3.8128e-04\n",
      "Epoch 70/150\n",
      "52/52 [==============================] - 1s 12ms/step - loss: 0.6065 - accuracy: 0.8070 - lr: 3.8112e-04 - val_loss: 0.6440 - val_accuracy: 0.7900 - val_lr: 3.8096e-04\n",
      "Epoch 71/150\n",
      "52/52 [==============================] - 1s 13ms/step - loss: 0.5927 - accuracy: 0.8255 - lr: 3.8080e-04 - val_loss: 0.5910 - val_accuracy: 0.8267 - val_lr: 3.8064e-04\n",
      "Epoch 72/150\n",
      "52/52 [==============================] - 1s 12ms/step - loss: 0.6030 - accuracy: 0.8142 - lr: 3.8048e-04 - val_loss: 0.6008 - val_accuracy: 0.8256 - val_lr: 3.8032e-04\n",
      "Epoch 73/150\n",
      "52/52 [==============================] - 1s 12ms/step - loss: 0.5853 - accuracy: 0.8270 - lr: 3.8015e-04 - val_loss: 0.5851 - val_accuracy: 0.8211 - val_lr: 3.7999e-04\n",
      "Epoch 74/150\n",
      "52/52 [==============================] - 1s 13ms/step - loss: 0.5730 - accuracy: 0.8191 - lr: 3.7982e-04 - val_loss: 0.5708 - val_accuracy: 0.8400 - val_lr: 3.7966e-04\n",
      "Epoch 75/150\n",
      "52/52 [==============================] - 1s 13ms/step - loss: 0.5634 - accuracy: 0.8348 - lr: 3.7950e-04 - val_loss: 0.5716 - val_accuracy: 0.8300 - val_lr: 3.7933e-04\n",
      "Epoch 76/150\n",
      "52/52 [==============================] - 1s 13ms/step - loss: 0.5670 - accuracy: 0.8300 - lr: 3.7916e-04 - val_loss: 0.5614 - val_accuracy: 0.8344 - val_lr: 3.7900e-04\n",
      "Epoch 77/150\n",
      "52/52 [==============================] - 1s 12ms/step - loss: 0.5657 - accuracy: 0.8306 - lr: 3.7883e-04 - val_loss: 0.5718 - val_accuracy: 0.8267 - val_lr: 3.7867e-04\n",
      "Epoch 78/150\n",
      "52/52 [==============================] - 1s 13ms/step - loss: 0.5600 - accuracy: 0.8324 - lr: 3.7850e-04 - val_loss: 0.5678 - val_accuracy: 0.8244 - val_lr: 3.7833e-04\n",
      "Epoch 79/150\n",
      "52/52 [==============================] - 1s 13ms/step - loss: 0.5468 - accuracy: 0.8382 - lr: 3.7816e-04 - val_loss: 0.5681 - val_accuracy: 0.8200 - val_lr: 3.7799e-04\n",
      "Epoch 80/150\n",
      "52/52 [==============================] - 1s 13ms/step - loss: 0.5568 - accuracy: 0.8303 - lr: 3.7782e-04 - val_loss: 0.5629 - val_accuracy: 0.8267 - val_lr: 3.7765e-04\n",
      "Epoch 81/150\n",
      "52/52 [==============================] - 1s 12ms/step - loss: 0.5444 - accuracy: 0.8391 - lr: 3.7748e-04 - val_loss: 0.5690 - val_accuracy: 0.8189 - val_lr: 3.7731e-04\n",
      "Epoch 82/150\n",
      "52/52 [==============================] - 1s 12ms/step - loss: 0.5287 - accuracy: 0.8412 - lr: 3.7714e-04 - val_loss: 0.5525 - val_accuracy: 0.8344 - val_lr: 3.7697e-04\n",
      "Epoch 83/150\n",
      "52/52 [==============================] - 1s 13ms/step - loss: 0.5320 - accuracy: 0.8394 - lr: 3.7679e-04 - val_loss: 0.5657 - val_accuracy: 0.8156 - val_lr: 3.7662e-04\n",
      "Epoch 84/150\n",
      "52/52 [==============================] - 1s 12ms/step - loss: 0.5325 - accuracy: 0.8397 - lr: 3.7644e-04 - val_loss: 0.5423 - val_accuracy: 0.8400 - val_lr: 3.7627e-04\n",
      "Epoch 85/150\n",
      "52/52 [==============================] - 1s 12ms/step - loss: 0.5289 - accuracy: 0.8379 - lr: 3.7610e-04 - val_loss: 0.5413 - val_accuracy: 0.8322 - val_lr: 3.7592e-04\n",
      "Epoch 86/150\n",
      "52/52 [==============================] - 1s 13ms/step - loss: 0.5082 - accuracy: 0.8509 - lr: 3.7574e-04 - val_loss: 0.5517 - val_accuracy: 0.8356 - val_lr: 3.7557e-04\n",
      "Epoch 87/150\n",
      "52/52 [==============================] - 1s 13ms/step - loss: 0.5170 - accuracy: 0.8427 - lr: 3.7539e-04 - val_loss: 0.5376 - val_accuracy: 0.8344 - val_lr: 3.7521e-04\n",
      "Epoch 88/150\n",
      "52/52 [==============================] - 1s 12ms/step - loss: 0.5041 - accuracy: 0.8433 - lr: 3.7503e-04 - val_loss: 0.5593 - val_accuracy: 0.8256 - val_lr: 3.7486e-04\n",
      "Epoch 89/150\n",
      "52/52 [==============================] - 1s 12ms/step - loss: 0.4918 - accuracy: 0.8576 - lr: 3.7467e-04 - val_loss: 0.5364 - val_accuracy: 0.8444 - val_lr: 3.7450e-04\n",
      "Epoch 90/150\n",
      "52/52 [==============================] - 1s 13ms/step - loss: 0.4989 - accuracy: 0.8503 - lr: 3.7431e-04 - val_loss: 0.5257 - val_accuracy: 0.8478 - val_lr: 3.7413e-04\n",
      "Epoch 91/150\n",
      "52/52 [==============================] - 1s 12ms/step - loss: 0.4889 - accuracy: 0.8576 - lr: 3.7395e-04 - val_loss: 0.6044 - val_accuracy: 0.7867 - val_lr: 3.7377e-04\n",
      "Epoch 92/150\n",
      "52/52 [==============================] - 1s 13ms/step - loss: 0.5057 - accuracy: 0.8491 - lr: 3.7358e-04 - val_loss: 0.5150 - val_accuracy: 0.8467 - val_lr: 3.7340e-04\n",
      "Epoch 93/150\n",
      "52/52 [==============================] - 1s 13ms/step - loss: 0.4968 - accuracy: 0.8582 - lr: 3.7321e-04 - val_loss: 0.5203 - val_accuracy: 0.8333 - val_lr: 3.7303e-04\n",
      "Epoch 94/150\n",
      "52/52 [==============================] - 1s 12ms/step - loss: 0.4744 - accuracy: 0.8606 - lr: 3.7284e-04 - val_loss: 0.5650 - val_accuracy: 0.8244 - val_lr: 3.7266e-04\n",
      "Epoch 95/150\n",
      "52/52 [==============================] - 1s 12ms/step - loss: 0.4940 - accuracy: 0.8497 - lr: 3.7247e-04 - val_loss: 0.5222 - val_accuracy: 0.8456 - val_lr: 3.7228e-04\n",
      "Epoch 96/150\n",
      "52/52 [==============================] - 1s 12ms/step - loss: 0.4729 - accuracy: 0.8676 - lr: 3.7209e-04 - val_loss: 0.5176 - val_accuracy: 0.8456 - val_lr: 3.7190e-04\n",
      "Epoch 97/150\n",
      "52/52 [==============================] - 1s 13ms/step - loss: 0.4688 - accuracy: 0.8618 - lr: 3.7171e-04 - val_loss: 0.5350 - val_accuracy: 0.8244 - val_lr: 3.7152e-04\n",
      "Epoch 98/150\n",
      "52/52 [==============================] - 1s 12ms/step - loss: 0.4758 - accuracy: 0.8579 - lr: 3.7133e-04 - val_loss: 0.5211 - val_accuracy: 0.8467 - val_lr: 3.7114e-04\n",
      "Epoch 99/150\n",
      "52/52 [==============================] - 1s 12ms/step - loss: 0.4698 - accuracy: 0.8594 - lr: 3.7094e-04 - val_loss: 0.5180 - val_accuracy: 0.8500 - val_lr: 3.7075e-04\n",
      "Epoch 100/150\n",
      "52/52 [==============================] - 1s 13ms/step - loss: 0.4644 - accuracy: 0.8661 - lr: 3.7055e-04 - val_loss: 0.5148 - val_accuracy: 0.8489 - val_lr: 3.7036e-04\n",
      "Epoch 101/150\n",
      "52/52 [==============================] - 1s 12ms/step - loss: 0.4662 - accuracy: 0.8600 - lr: 3.7016e-04 - val_loss: 0.5329 - val_accuracy: 0.8322 - val_lr: 3.6997e-04\n",
      "Epoch 102/150\n",
      "52/52 [==============================] - 1s 12ms/step - loss: 0.4439 - accuracy: 0.8770 - lr: 3.6977e-04 - val_loss: 0.5081 - val_accuracy: 0.8467 - val_lr: 3.6957e-04\n",
      "Epoch 103/150\n",
      "52/52 [==============================] - 1s 13ms/step - loss: 0.4527 - accuracy: 0.8670 - lr: 3.6937e-04 - val_loss: 0.5072 - val_accuracy: 0.8456 - val_lr: 3.6918e-04\n",
      "Epoch 104/150\n",
      "52/52 [==============================] - 1s 12ms/step - loss: 0.4559 - accuracy: 0.8688 - lr: 3.6897e-04 - val_loss: 0.5138 - val_accuracy: 0.8411 - val_lr: 3.6877e-04\n",
      "Epoch 105/150\n",
      "52/52 [==============================] - 1s 12ms/step - loss: 0.4552 - accuracy: 0.8661 - lr: 3.6857e-04 - val_loss: 0.5300 - val_accuracy: 0.8367 - val_lr: 3.6837e-04\n",
      "Epoch 106/150\n",
      "52/52 [==============================] - 1s 13ms/step - loss: 0.4539 - accuracy: 0.8670 - lr: 3.6816e-04 - val_loss: 0.5108 - val_accuracy: 0.8444 - val_lr: 3.6796e-04\n",
      "Epoch 107/150\n",
      "52/52 [==============================] - 1s 13ms/step - loss: 0.4402 - accuracy: 0.8815 - lr: 3.6775e-04 - val_loss: 0.5020 - val_accuracy: 0.8389 - val_lr: 3.6755e-04\n",
      "Epoch 108/150\n",
      "52/52 [==============================] - 1s 12ms/step - loss: 0.4417 - accuracy: 0.8682 - lr: 3.6734e-04 - val_loss: 0.5096 - val_accuracy: 0.8456 - val_lr: 3.6713e-04\n",
      "Epoch 109/150\n",
      "52/52 [==============================] - 1s 13ms/step - loss: 0.4356 - accuracy: 0.8779 - lr: 3.6692e-04 - val_loss: 0.4954 - val_accuracy: 0.8478 - val_lr: 3.6672e-04\n",
      "Epoch 110/150\n",
      "52/52 [==============================] - 1s 13ms/step - loss: 0.4253 - accuracy: 0.8830 - lr: 3.6650e-04 - val_loss: 0.4798 - val_accuracy: 0.8556 - val_lr: 3.6629e-04\n",
      "Epoch 111/150\n",
      "52/52 [==============================] - 1s 13ms/step - loss: 0.4310 - accuracy: 0.8718 - lr: 3.6608e-04 - val_loss: 0.5130 - val_accuracy: 0.8322 - val_lr: 3.6587e-04\n",
      "Epoch 112/150\n",
      "52/52 [==============================] - 1s 13ms/step - loss: 0.4342 - accuracy: 0.8748 - lr: 3.6565e-04 - val_loss: 0.5197 - val_accuracy: 0.8433 - val_lr: 3.6544e-04\n",
      "Epoch 113/150\n",
      "52/52 [==============================] - 1s 13ms/step - loss: 0.4347 - accuracy: 0.8779 - lr: 3.6522e-04 - val_loss: 0.5159 - val_accuracy: 0.8378 - val_lr: 3.6501e-04\n",
      "Epoch 114/150\n",
      "52/52 [==============================] - 1s 13ms/step - loss: 0.4370 - accuracy: 0.8745 - lr: 3.6478e-04 - val_loss: 0.4928 - val_accuracy: 0.8489 - val_lr: 3.6457e-04\n",
      "Epoch 115/150\n",
      "52/52 [==============================] - 1s 13ms/step - loss: 0.4261 - accuracy: 0.8721 - lr: 3.6434e-04 - val_loss: 0.4830 - val_accuracy: 0.8489 - val_lr: 3.6413e-04\n",
      "Epoch 116/150\n",
      "52/52 [==============================] - 1s 13ms/step - loss: 0.4314 - accuracy: 0.8776 - lr: 3.6390e-04 - val_loss: 0.4703 - val_accuracy: 0.8656 - val_lr: 3.6368e-04\n",
      "Epoch 117/150\n",
      "52/52 [==============================] - 1s 12ms/step - loss: 0.4147 - accuracy: 0.8806 - lr: 3.6345e-04 - val_loss: 0.5138 - val_accuracy: 0.8444 - val_lr: 3.6323e-04\n",
      "Epoch 118/150\n",
      "52/52 [==============================] - 1s 13ms/step - loss: 0.4058 - accuracy: 0.8818 - lr: 3.6300e-04 - val_loss: 0.4690 - val_accuracy: 0.8522 - val_lr: 3.6278e-04\n",
      "Epoch 119/150\n",
      "52/52 [==============================] - 1s 13ms/step - loss: 0.4060 - accuracy: 0.8855 - lr: 3.6255e-04 - val_loss: 0.4800 - val_accuracy: 0.8478 - val_lr: 3.6232e-04\n",
      "Epoch 120/150\n",
      "52/52 [==============================] - 1s 13ms/step - loss: 0.4095 - accuracy: 0.8876 - lr: 3.6209e-04 - val_loss: 0.4914 - val_accuracy: 0.8411 - val_lr: 3.6186e-04\n",
      "Epoch 121/150\n",
      "52/52 [==============================] - 1s 13ms/step - loss: 0.4098 - accuracy: 0.8833 - lr: 3.6162e-04 - val_loss: 0.5013 - val_accuracy: 0.8344 - val_lr: 3.6140e-04\n",
      "Epoch 122/150\n",
      "52/52 [==============================] - 1s 13ms/step - loss: 0.4140 - accuracy: 0.8806 - lr: 3.6116e-04 - val_loss: 0.4699 - val_accuracy: 0.8511 - val_lr: 3.6092e-04\n",
      "Epoch 123/150\n",
      "52/52 [==============================] - 1s 13ms/step - loss: 0.3974 - accuracy: 0.8888 - lr: 3.6068e-04 - val_loss: 0.4900 - val_accuracy: 0.8544 - val_lr: 3.6045e-04\n",
      "Epoch 124/150\n",
      "52/52 [==============================] - 1s 12ms/step - loss: 0.3987 - accuracy: 0.8894 - lr: 3.6020e-04 - val_loss: 0.4680 - val_accuracy: 0.8622 - val_lr: 3.5997e-04\n",
      "Epoch 125/150\n",
      "52/52 [==============================] - 1s 13ms/step - loss: 0.4173 - accuracy: 0.8797 - lr: 3.5972e-04 - val_loss: 0.4897 - val_accuracy: 0.8444 - val_lr: 3.5948e-04\n",
      "Epoch 126/150\n",
      "52/52 [==============================] - 1s 13ms/step - loss: 0.4006 - accuracy: 0.8861 - lr: 3.5923e-04 - val_loss: 0.4986 - val_accuracy: 0.8567 - val_lr: 3.5899e-04\n",
      "Epoch 127/150\n",
      "52/52 [==============================] - 1s 13ms/step - loss: 0.3965 - accuracy: 0.8891 - lr: 3.5874e-04 - val_loss: 0.4977 - val_accuracy: 0.8456 - val_lr: 3.5850e-04\n",
      "Epoch 128/150\n",
      "52/52 [==============================] - 1s 13ms/step - loss: 0.4015 - accuracy: 0.8879 - lr: 3.5824e-04 - val_loss: 0.4707 - val_accuracy: 0.8556 - val_lr: 3.5800e-04\n",
      "Epoch 129/150\n",
      "52/52 [==============================] - 1s 13ms/step - loss: 0.3924 - accuracy: 0.8933 - lr: 3.5774e-04 - val_loss: 0.4821 - val_accuracy: 0.8500 - val_lr: 3.5749e-04\n",
      "Epoch 130/150\n",
      "52/52 [==============================] - 1s 13ms/step - loss: 0.3907 - accuracy: 0.8927 - lr: 3.5723e-04 - val_loss: 0.5076 - val_accuracy: 0.8311 - val_lr: 3.5698e-04\n",
      "Epoch 131/150\n",
      "52/52 [==============================] - 1s 13ms/step - loss: 0.3860 - accuracy: 0.8939 - lr: 3.5671e-04 - val_loss: 0.4716 - val_accuracy: 0.8633 - val_lr: 3.5646e-04\n",
      "Epoch 132/150\n",
      "52/52 [==============================] - 1s 13ms/step - loss: 0.3668 - accuracy: 0.8967 - lr: 3.5619e-04 - val_loss: 0.4632 - val_accuracy: 0.8633 - val_lr: 3.5594e-04\n",
      "Epoch 133/150\n",
      "52/52 [==============================] - 1s 13ms/step - loss: 0.3845 - accuracy: 0.8933 - lr: 3.5567e-04 - val_loss: 0.4666 - val_accuracy: 0.8511 - val_lr: 3.5541e-04\n",
      "Epoch 134/150\n",
      "52/52 [==============================] - 1s 13ms/step - loss: 0.3720 - accuracy: 0.9000 - lr: 3.5513e-04 - val_loss: 0.4990 - val_accuracy: 0.8333 - val_lr: 3.5487e-04\n",
      "Epoch 135/150\n",
      "52/52 [==============================] - 1s 13ms/step - loss: 0.3764 - accuracy: 0.8948 - lr: 3.5459e-04 - val_loss: 0.4960 - val_accuracy: 0.8433 - val_lr: 3.5433e-04\n",
      "Epoch 136/150\n",
      "52/52 [==============================] - 1s 13ms/step - loss: 0.3751 - accuracy: 0.8973 - lr: 3.5405e-04 - val_loss: 0.4929 - val_accuracy: 0.8533 - val_lr: 3.5378e-04\n",
      "Epoch 137/150\n",
      "52/52 [==============================] - 1s 12ms/step - loss: 0.3709 - accuracy: 0.8973 - lr: 3.5350e-04 - val_loss: 0.4747 - val_accuracy: 0.8500 - val_lr: 3.5322e-04\n",
      "Epoch 138/150\n",
      "52/52 [==============================] - 1s 12ms/step - loss: 0.3794 - accuracy: 0.8942 - lr: 3.5294e-04 - val_loss: 0.4772 - val_accuracy: 0.8478 - val_lr: 3.5266e-04\n",
      "Epoch 139/150\n",
      "52/52 [==============================] - 1s 12ms/step - loss: 0.3641 - accuracy: 0.9036 - lr: 3.5237e-04 - val_loss: 0.4579 - val_accuracy: 0.8600 - val_lr: 3.5209e-04\n",
      "Epoch 140/150\n",
      "52/52 [==============================] - 1s 13ms/step - loss: 0.3575 - accuracy: 0.9042 - lr: 3.5179e-04 - val_loss: 0.4859 - val_accuracy: 0.8511 - val_lr: 3.5151e-04\n",
      "Epoch 141/150\n",
      "52/52 [==============================] - 1s 13ms/step - loss: 0.3791 - accuracy: 0.8945 - lr: 3.5121e-04 - val_loss: 0.4906 - val_accuracy: 0.8533 - val_lr: 3.5092e-04\n",
      "Epoch 142/150\n",
      "52/52 [==============================] - 1s 12ms/step - loss: 0.3638 - accuracy: 0.9006 - lr: 3.5062e-04 - val_loss: 0.4962 - val_accuracy: 0.8400 - val_lr: 3.5033e-04\n",
      "Epoch 143/150\n",
      "52/52 [==============================] - 1s 13ms/step - loss: 0.3711 - accuracy: 0.8933 - lr: 3.5002e-04 - val_loss: 0.4630 - val_accuracy: 0.8678 - val_lr: 3.4973e-04\n",
      "Epoch 144/150\n",
      "52/52 [==============================] - 1s 13ms/step - loss: 0.3564 - accuracy: 0.9067 - lr: 3.4942e-04 - val_loss: 0.4670 - val_accuracy: 0.8578 - val_lr: 3.4912e-04\n",
      "Epoch 145/150\n",
      "52/52 [==============================] - 1s 13ms/step - loss: 0.3597 - accuracy: 0.9033 - lr: 3.4880e-04 - val_loss: 0.4662 - val_accuracy: 0.8589 - val_lr: 3.4850e-04\n",
      "Epoch 146/150\n",
      "52/52 [==============================] - 1s 12ms/step - loss: 0.3571 - accuracy: 0.9033 - lr: 3.4818e-04 - val_loss: 0.4771 - val_accuracy: 0.8533 - val_lr: 3.4787e-04\n",
      "Epoch 147/150\n",
      "52/52 [==============================] - 1s 13ms/step - loss: 0.3485 - accuracy: 0.9094 - lr: 3.4754e-04 - val_loss: 0.4642 - val_accuracy: 0.8567 - val_lr: 3.4723e-04\n",
      "Epoch 148/150\n",
      "52/52 [==============================] - 1s 12ms/step - loss: 0.3685 - accuracy: 0.8976 - lr: 3.4690e-04 - val_loss: 0.4521 - val_accuracy: 0.8611 - val_lr: 3.4658e-04\n",
      "Epoch 149/150\n",
      "52/52 [==============================] - 1s 13ms/step - loss: 0.3704 - accuracy: 0.9009 - lr: 3.4625e-04 - val_loss: 0.5084 - val_accuracy: 0.8411 - val_lr: 3.4592e-04\n",
      "Epoch 150/150\n",
      "52/52 [==============================] - 1s 13ms/step - loss: 0.3636 - accuracy: 0.9030 - lr: 3.4558e-04 - val_loss: 0.4801 - val_accuracy: 0.8533 - val_lr: 3.4525e-04\n"
     ]
    },
    {
     "data": {
      "text/plain": [
       "<keras.src.callbacks.History at 0x7f907471b890>"
      ]
     },
     "execution_count": 34,
     "metadata": {},
     "output_type": "execute_result"
    }
   ],
   "source": [
    "# Compile the model 2\n",
    "model_2.compile(optimizer = optimizer,\n",
    "\t\t\t  loss='categorical_crossentropy',  # Use 'categorical_crossentropy' for one-hot encoded labels\n",
    "\t\t\t  metrics=['accuracy', lr_metric])\n",
    "\n",
    "early_stopping = EarlyStopping(monitor='val_loss', mode='min', patience=15, verbose=1, restore_best_weights=True)\n",
    "\n",
    "callbacks_list = [early_stopping]\n",
    "\n",
    "# Train the model\n",
    "model_2.fit(x=train_dataset, epochs=num_epochs, callbacks=callbacks_list, validation_data=val_dataset)"
   ]
  },
  {
   "cell_type": "code",
   "execution_count": 35,
   "metadata": {},
   "outputs": [
    {
     "name": "stdout",
     "output_type": "stream",
     "text": [
      " 1/15 [=>............................] - ETA: 0s - loss: 0.4512 - accuracy: 0.8438 - lr: 3.4525e-04"
     ]
    },
    {
     "name": "stdout",
     "output_type": "stream",
     "text": [
      "15/15 [==============================] - 0s 6ms/step - loss: 0.4801 - accuracy: 0.8533 - lr: 3.4525e-04\n",
      "{'loss': 0.4800722897052765, 'accuracy': 0.8533333539962769, 'lr': 0.000345252628903836}\n",
      "15/15 [==============================] - 0s 5ms/step\n",
      "[[0.79333333 0.09666667 0.11      ]\n",
      " [0.13       0.79333333 0.07666667]\n",
      " [0.01666667 0.01       0.97333333]]\n"
     ]
    }
   ],
   "source": [
    "evaluation_2 = model_2.evaluate(val_dataset, batch_size=32)\n",
    "evaluation_2 = dict(zip(model_2.metrics_names, evaluation_2))\n",
    "print(evaluation_2)\n",
    "\n",
    "\n",
    "# print model_3's confusion matrix\n",
    "model_2_pred = model_2.predict(val_dataset)\n",
    "model_2_pred = np.argmax(model_2_pred, axis=1)\n",
    "\n",
    "model_2_true = np.concatenate([y for x, y in val_dataset], axis=0)\n",
    "model_2_true = np.argmax(model_2_true, axis=1)\n",
    "model_2_cm = confusion_matrix(model_2_true, model_2_pred, labels=[0, 1, 2])\n",
    "# normalize the cm to have sum 1 on each row\n",
    "model_2_cm = model_2_cm.astype('float') / model_2_cm.sum(axis=1)[:, np.newaxis]\n",
    "\n",
    "print(model_2_cm)"
   ]
  },
  {
   "cell_type": "markdown",
   "metadata": {},
   "source": [
    "#### Model 3: with residual connections"
   ]
  },
  {
   "cell_type": "code",
   "execution_count": 224,
   "metadata": {},
   "outputs": [
    {
     "name": "stdout",
     "output_type": "stream",
     "text": [
      "Model: \"model_51\"\n",
      "__________________________________________________________________________________________________\n",
      " Layer (type)                Output Shape                 Param #   Connected to                  \n",
      "==================================================================================================\n",
      " input_layer (InputLayer)    [(None, 349, 12, 1)]         0         []                            \n",
      "                                                                                                  \n",
      " conv1 (Conv2D)              (None, 349, 12, 16)          96        ['input_layer[0][0]']         \n",
      "                                                                                                  \n",
      " add1 (Add)                  (None, 349, 12, 16)          0         ['input_layer[0][0]',         \n",
      "                                                                     'conv1[0][0]']               \n",
      "                                                                                                  \n",
      " pool1 (MaxPooling2D)        (None, 174, 12, 16)          0         ['add1[0][0]']                \n",
      "                                                                                                  \n",
      " conv2 (Conv2D)              (None, 174, 12, 16)          1296      ['pool1[0][0]']               \n",
      "                                                                                                  \n",
      " add2 (Add)                  (None, 174, 12, 16)          0         ['pool1[0][0]',               \n",
      "                                                                     'conv2[0][0]']               \n",
      "                                                                                                  \n",
      " pool2 (MaxPooling2D)        (None, 87, 12, 16)           0         ['add2[0][0]']                \n",
      "                                                                                                  \n",
      " conv33 (Conv2D)             (None, 87, 12, 16)           272       ['pool2[0][0]']               \n",
      "                                                                                                  \n",
      " conv3 (Conv2D)              (None, 87, 12, 16)           2320      ['pool2[0][0]']               \n",
      "                                                                                                  \n",
      " add3 (Add)                  (None, 87, 12, 16)           0         ['conv33[0][0]',              \n",
      "                                                                     'conv3[0][0]']               \n",
      "                                                                                                  \n",
      " avg_pool (AveragePooling2D  (None, 4, 6, 16)             0         ['add3[0][0]']                \n",
      " )                                                                                                \n",
      "                                                                                                  \n",
      " flatten (Flatten)           (None, 384)                  0         ['avg_pool[0][0]']            \n",
      "                                                                                                  \n",
      " dense1 (Dense)              (None, 64)                   24640     ['flatten[0][0]']             \n",
      "                                                                                                  \n",
      " dense2 (Dense)              (None, 32)                   2080      ['dense1[0][0]']              \n",
      "                                                                                                  \n",
      " output_layer (Dense)        (None, 3)                    99        ['dense2[0][0]']              \n",
      "                                                                                                  \n",
      "==================================================================================================\n",
      "Total params: 30803 (120.32 KB)\n",
      "Trainable params: 30803 (120.32 KB)\n",
      "Non-trainable params: 0 (0.00 Byte)\n",
      "__________________________________________________________________________________________________\n"
     ]
    }
   ],
   "source": [
    "# create CNN with residual connections\n",
    "input_layer = tf.keras.layers.Input(shape=mfcc_shape, name='input_layer')\n",
    "\n",
    "conv1 = tf.keras.layers.Conv2D(16, (5, 1), activation='relu', padding='same', name='conv1')(input_layer)\n",
    "conv11 = tf.keras.layers.Conv2D(16, (1, 1), activation='relu', padding='same', name='conv11')(input_layer)\n",
    "add1 = tf.keras.layers.Add(name='add1')([input_layer, conv1])\n",
    "pool1 = tf.keras.layers.MaxPooling2D((2, 1), name='pool1')(add1)\n",
    "\n",
    "conv2 = tf.keras.layers.Conv2D(16, (1, 5), activation='relu', padding='same', name='conv2')(pool1)\n",
    "conv22 = tf.keras.layers.Conv2D(16, (1, 1), activation='relu', padding='same', name='conv22')(pool1)\n",
    "add2 = tf.keras.layers.Add(name='add2')([pool1, conv2])\n",
    "pool2 = tf.keras.layers.MaxPooling2D((2, 1), name='pool2')(add2)\n",
    "\n",
    "conv3 = tf.keras.layers.Conv2D(16, (3, 3), activation='relu', padding='same', name='conv3')(pool2)\n",
    "conv33 = tf.keras.layers.Conv2D(16, (1, 1), activation='relu', padding='same', name='conv33')(pool2)\n",
    "add3 = tf.keras.layers.Add(name='add3')([conv33, conv3])\n",
    "pool3 = tf.keras.layers.MaxPooling2D((2, 1), name='pool3')(add3)\n",
    "\n",
    "avg_pool = tf.keras.layers.AveragePooling2D(pool_size=(21, 2), name='avg_pool')(add3)\n",
    "flatten = tf.keras.layers.Flatten(name='flatten')(avg_pool)\n",
    "\n",
    "# dropout = tf.keras.layers.Dropout(0.3, name='dropout')(flatten)\n",
    "dense1 = tf.keras.layers.Dense(64, activation='relu', name='dense1', kernel_regularizer='l2')(flatten)\n",
    "dense2 = tf.keras.layers.Dense(32, activation='relu', name='dense2', kernel_regularizer='l2')(dense1)\n",
    "output_layer = tf.keras.layers.Dense(len(classes), activation='softmax', name='output_layer')(dense2)\n",
    "\n",
    "\n",
    "model_3 = tf.keras.models.Model(inputs=input_layer, outputs=output_layer)\n",
    "model_3.summary()"
   ]
  },
  {
   "cell_type": "code",
   "execution_count": 222,
   "metadata": {},
   "outputs": [],
   "source": [
    "# prints learning rate during training\n",
    "def get_lr_metric(optimizer):\n",
    "    def lr(y_true, y_pred):\n",
    "        return optimizer.lr\n",
    "    return lr\n",
    "\n",
    "# learning rate scheduler with polynomial decay\n",
    "learning_rate_scheduler = tf.keras.optimizers.schedules.PolynomialDecay(\n",
    "    initial_learning_rate=0.0008,\n",
    "    decay_steps=10000,\n",
    "    end_learning_rate=5e-4,\n",
    "    power=0.3\n",
    ")\n",
    "optimizer = tf.keras.optimizers.Adam(learning_rate=learning_rate_scheduler)\n",
    "lr_metric = get_lr_metric(optimizer)\n"
   ]
  },
  {
   "cell_type": "code",
   "execution_count": 223,
   "metadata": {},
   "outputs": [
    {
     "name": "stdout",
     "output_type": "stream",
     "text": [
      "Epoch 1/150\n",
      "52/52 [==============================] - 3s 20ms/step - loss: 12.1498 - accuracy: 0.3552 - lr: 7.9977e-04 - val_loss: 4.1026 - val_accuracy: 0.3633 - val_lr: 7.9954e-04\n",
      "Epoch 2/150\n",
      "52/52 [==============================] - 1s 16ms/step - loss: 3.3232 - accuracy: 0.3973 - lr: 7.9930e-04 - val_loss: 3.2925 - val_accuracy: 0.3733 - val_lr: 7.9907e-04\n",
      "Epoch 3/150\n",
      "52/52 [==============================] - 1s 16ms/step - loss: 2.8681 - accuracy: 0.4064 - lr: 7.9883e-04 - val_loss: 2.8614 - val_accuracy: 0.3944 - val_lr: 7.9860e-04\n",
      "Epoch 4/150\n",
      "52/52 [==============================] - 1s 16ms/step - loss: 2.5523 - accuracy: 0.4227 - lr: 7.9836e-04 - val_loss: 2.5529 - val_accuracy: 0.4489 - val_lr: 7.9812e-04\n",
      "Epoch 5/150\n",
      "52/52 [==============================] - 1s 16ms/step - loss: 2.4767 - accuracy: 0.4552 - lr: 7.9788e-04 - val_loss: 2.4830 - val_accuracy: 0.4600 - val_lr: 7.9765e-04\n",
      "Epoch 6/150\n",
      "52/52 [==============================] - 1s 16ms/step - loss: 2.3291 - accuracy: 0.4742 - lr: 7.9740e-04 - val_loss: 2.2905 - val_accuracy: 0.4878 - val_lr: 7.9717e-04\n",
      "Epoch 7/150\n",
      "52/52 [==============================] - 1s 16ms/step - loss: 2.2738 - accuracy: 0.4806 - lr: 7.9693e-04 - val_loss: 2.5038 - val_accuracy: 0.3922 - val_lr: 7.9669e-04\n",
      "Epoch 8/150\n",
      "52/52 [==============================] - 1s 16ms/step - loss: 2.1874 - accuracy: 0.4991 - lr: 7.9645e-04 - val_loss: 2.1779 - val_accuracy: 0.5033 - val_lr: 7.9621e-04\n",
      "Epoch 9/150\n",
      "52/52 [==============================] - 1s 16ms/step - loss: 2.1586 - accuracy: 0.5045 - lr: 7.9596e-04 - val_loss: 2.1268 - val_accuracy: 0.5044 - val_lr: 7.9573e-04\n",
      "Epoch 10/150\n",
      "52/52 [==============================] - 1s 17ms/step - loss: 2.1090 - accuracy: 0.5073 - lr: 7.9548e-04 - val_loss: 2.0883 - val_accuracy: 0.5011 - val_lr: 7.9524e-04\n",
      "Epoch 11/150\n",
      "52/52 [==============================] - 1s 15ms/step - loss: 2.0332 - accuracy: 0.5385 - lr: 7.9499e-04 - val_loss: 2.1115 - val_accuracy: 0.5133 - val_lr: 7.9475e-04\n",
      "Epoch 12/150\n",
      "52/52 [==============================] - 1s 16ms/step - loss: 2.0560 - accuracy: 0.5288 - lr: 7.9451e-04 - val_loss: 2.1635 - val_accuracy: 0.4589 - val_lr: 7.9427e-04\n",
      "Epoch 13/150\n",
      "52/52 [==============================] - 1s 16ms/step - loss: 2.0992 - accuracy: 0.5003 - lr: 7.9402e-04 - val_loss: 1.9563 - val_accuracy: 0.5522 - val_lr: 7.9378e-04\n",
      "Epoch 14/150\n",
      "52/52 [==============================] - 1s 16ms/step - loss: 1.9592 - accuracy: 0.5452 - lr: 7.9352e-04 - val_loss: 1.9571 - val_accuracy: 0.5456 - val_lr: 7.9328e-04\n",
      "Epoch 15/150\n",
      "52/52 [==============================] - 1s 16ms/step - loss: 1.8982 - accuracy: 0.5721 - lr: 7.9303e-04 - val_loss: 2.0946 - val_accuracy: 0.4611 - val_lr: 7.9279e-04\n",
      "Epoch 16/150\n",
      "52/52 [==============================] - 1s 16ms/step - loss: 1.8861 - accuracy: 0.5579 - lr: 7.9254e-04 - val_loss: 1.8781 - val_accuracy: 0.5744 - val_lr: 7.9229e-04\n",
      "Epoch 17/150\n",
      "52/52 [==============================] - 1s 16ms/step - loss: 1.8580 - accuracy: 0.5688 - lr: 7.9204e-04 - val_loss: 1.8566 - val_accuracy: 0.5700 - val_lr: 7.9179e-04\n",
      "Epoch 18/150\n",
      "52/52 [==============================] - 1s 16ms/step - loss: 1.8245 - accuracy: 0.5770 - lr: 7.9154e-04 - val_loss: 1.9372 - val_accuracy: 0.5211 - val_lr: 7.9129e-04\n",
      "Epoch 19/150\n",
      "52/52 [==============================] - 1s 16ms/step - loss: 1.7831 - accuracy: 0.5970 - lr: 7.9104e-04 - val_loss: 1.8114 - val_accuracy: 0.5800 - val_lr: 7.9079e-04\n",
      "Epoch 20/150\n",
      "52/52 [==============================] - 1s 16ms/step - loss: 1.7524 - accuracy: 0.6045 - lr: 7.9053e-04 - val_loss: 1.7994 - val_accuracy: 0.5711 - val_lr: 7.9029e-04\n",
      "Epoch 21/150\n",
      "52/52 [==============================] - 1s 16ms/step - loss: 1.7636 - accuracy: 0.5955 - lr: 7.9003e-04 - val_loss: 1.7987 - val_accuracy: 0.5733 - val_lr: 7.8978e-04\n",
      "Epoch 22/150\n",
      "52/52 [==============================] - 1s 16ms/step - loss: 1.7453 - accuracy: 0.5915 - lr: 7.8952e-04 - val_loss: 1.9639 - val_accuracy: 0.5278 - val_lr: 7.8927e-04\n",
      "Epoch 23/150\n",
      "52/52 [==============================] - 1s 16ms/step - loss: 1.7561 - accuracy: 0.5833 - lr: 7.8901e-04 - val_loss: 1.7732 - val_accuracy: 0.5511 - val_lr: 7.8876e-04\n",
      "Epoch 24/150\n",
      "52/52 [==============================] - 1s 16ms/step - loss: 1.6656 - accuracy: 0.6239 - lr: 7.8850e-04 - val_loss: 1.7798 - val_accuracy: 0.5789 - val_lr: 7.8825e-04\n",
      "Epoch 25/150\n",
      "52/52 [==============================] - 1s 16ms/step - loss: 1.6445 - accuracy: 0.6248 - lr: 7.8799e-04 - val_loss: 1.6969 - val_accuracy: 0.5944 - val_lr: 7.8773e-04\n",
      "Epoch 26/150\n",
      "52/52 [==============================] - 1s 16ms/step - loss: 1.6435 - accuracy: 0.6215 - lr: 7.8747e-04 - val_loss: 1.6595 - val_accuracy: 0.6089 - val_lr: 7.8722e-04\n",
      "Epoch 27/150\n",
      "52/52 [==============================] - 1s 16ms/step - loss: 1.6355 - accuracy: 0.6115 - lr: 7.8695e-04 - val_loss: 1.6744 - val_accuracy: 0.5967 - val_lr: 7.8670e-04\n",
      "Epoch 28/150\n",
      "52/52 [==============================] - 1s 16ms/step - loss: 1.6550 - accuracy: 0.6079 - lr: 7.8643e-04 - val_loss: 1.6257 - val_accuracy: 0.6189 - val_lr: 7.8618e-04\n",
      "Epoch 29/150\n",
      "52/52 [==============================] - 1s 16ms/step - loss: 1.5568 - accuracy: 0.6397 - lr: 7.8591e-04 - val_loss: 1.6140 - val_accuracy: 0.6144 - val_lr: 7.8565e-04\n",
      "Epoch 30/150\n",
      "52/52 [==============================] - 1s 16ms/step - loss: 1.5294 - accuracy: 0.6512 - lr: 7.8539e-04 - val_loss: 1.5941 - val_accuracy: 0.6189 - val_lr: 7.8513e-04\n",
      "Epoch 31/150\n",
      "52/52 [==============================] - 1s 16ms/step - loss: 1.5361 - accuracy: 0.6415 - lr: 7.8486e-04 - val_loss: 1.6591 - val_accuracy: 0.5878 - val_lr: 7.8460e-04\n",
      "Epoch 32/150\n",
      "52/52 [==============================] - 1s 16ms/step - loss: 1.5229 - accuracy: 0.6400 - lr: 7.8433e-04 - val_loss: 1.5872 - val_accuracy: 0.6022 - val_lr: 7.8407e-04\n",
      "Epoch 33/150\n",
      "52/52 [==============================] - 1s 16ms/step - loss: 1.5141 - accuracy: 0.6403 - lr: 7.8380e-04 - val_loss: 1.6527 - val_accuracy: 0.5711 - val_lr: 7.8354e-04\n",
      "Epoch 34/150\n",
      "52/52 [==============================] - 1s 16ms/step - loss: 1.4980 - accuracy: 0.6336 - lr: 7.8326e-04 - val_loss: 1.6502 - val_accuracy: 0.5300 - val_lr: 7.8300e-04\n",
      "Epoch 35/150\n",
      "52/52 [==============================] - 1s 16ms/step - loss: 1.5164 - accuracy: 0.6239 - lr: 7.8273e-04 - val_loss: 1.5148 - val_accuracy: 0.6411 - val_lr: 7.8246e-04\n",
      "Epoch 36/150\n",
      "52/52 [==============================] - 1s 16ms/step - loss: 1.5336 - accuracy: 0.6109 - lr: 7.8219e-04 - val_loss: 1.5176 - val_accuracy: 0.6233 - val_lr: 7.8192e-04\n",
      "Epoch 37/150\n",
      "52/52 [==============================] - 1s 16ms/step - loss: 1.4846 - accuracy: 0.6315 - lr: 7.8165e-04 - val_loss: 1.5116 - val_accuracy: 0.6111 - val_lr: 7.8138e-04\n",
      "Epoch 38/150\n",
      "52/52 [==============================] - 1s 16ms/step - loss: 1.4200 - accuracy: 0.6585 - lr: 7.8110e-04 - val_loss: 1.5120 - val_accuracy: 0.6211 - val_lr: 7.8084e-04\n",
      "Epoch 39/150\n",
      "52/52 [==============================] - 1s 16ms/step - loss: 1.4161 - accuracy: 0.6427 - lr: 7.8056e-04 - val_loss: 1.4659 - val_accuracy: 0.6222 - val_lr: 7.8029e-04\n",
      "Epoch 40/150\n",
      "52/52 [==============================] - 1s 16ms/step - loss: 1.3932 - accuracy: 0.6621 - lr: 7.8001e-04 - val_loss: 1.4336 - val_accuracy: 0.6478 - val_lr: 7.7974e-04\n",
      "Epoch 41/150\n",
      "52/52 [==============================] - 1s 16ms/step - loss: 1.3803 - accuracy: 0.6600 - lr: 7.7946e-04 - val_loss: 1.6016 - val_accuracy: 0.5800 - val_lr: 7.7919e-04\n",
      "Epoch 42/150\n",
      "52/52 [==============================] - 1s 16ms/step - loss: 1.3593 - accuracy: 0.6633 - lr: 7.7891e-04 - val_loss: 1.3998 - val_accuracy: 0.6556 - val_lr: 7.7863e-04\n",
      "Epoch 43/150\n",
      "52/52 [==============================] - 1s 16ms/step - loss: 1.3353 - accuracy: 0.6682 - lr: 7.7835e-04 - val_loss: 1.4443 - val_accuracy: 0.6211 - val_lr: 7.7808e-04\n",
      "Epoch 44/150\n",
      "52/52 [==============================] - 1s 16ms/step - loss: 1.3085 - accuracy: 0.6842 - lr: 7.7779e-04 - val_loss: 1.3848 - val_accuracy: 0.6400 - val_lr: 7.7752e-04\n",
      "Epoch 45/150\n",
      "52/52 [==============================] - 1s 16ms/step - loss: 1.3043 - accuracy: 0.6745 - lr: 7.7723e-04 - val_loss: 1.6853 - val_accuracy: 0.5456 - val_lr: 7.7695e-04\n",
      "Epoch 46/150\n",
      "52/52 [==============================] - 1s 16ms/step - loss: 1.3451 - accuracy: 0.6588 - lr: 7.7667e-04 - val_loss: 1.3582 - val_accuracy: 0.6600 - val_lr: 7.7639e-04\n",
      "Epoch 47/150\n",
      "52/52 [==============================] - 1s 16ms/step - loss: 1.2924 - accuracy: 0.6724 - lr: 7.7610e-04 - val_loss: 1.3371 - val_accuracy: 0.6611 - val_lr: 7.7582e-04\n",
      "Epoch 48/150\n",
      "52/52 [==============================] - 1s 16ms/step - loss: 1.3091 - accuracy: 0.6627 - lr: 7.7553e-04 - val_loss: 1.5368 - val_accuracy: 0.5344 - val_lr: 7.7525e-04\n",
      "Epoch 49/150\n",
      "52/52 [==============================] - 1s 16ms/step - loss: 1.2899 - accuracy: 0.6661 - lr: 7.7496e-04 - val_loss: 1.4266 - val_accuracy: 0.5833 - val_lr: 7.7468e-04\n",
      "Epoch 50/150\n",
      "52/52 [==============================] - 1s 16ms/step - loss: 1.2479 - accuracy: 0.6712 - lr: 7.7438e-04 - val_loss: 1.4084 - val_accuracy: 0.6022 - val_lr: 7.7410e-04\n",
      "Epoch 51/150\n",
      "52/52 [==============================] - 1s 16ms/step - loss: 1.2291 - accuracy: 0.6748 - lr: 7.7380e-04 - val_loss: 1.3060 - val_accuracy: 0.6478 - val_lr: 7.7352e-04\n",
      "Epoch 52/150\n",
      "52/52 [==============================] - 1s 16ms/step - loss: 1.2167 - accuracy: 0.6915 - lr: 7.7322e-04 - val_loss: 1.2873 - val_accuracy: 0.6533 - val_lr: 7.7294e-04\n",
      "Epoch 53/150\n",
      "52/52 [==============================] - 1s 16ms/step - loss: 1.2515 - accuracy: 0.6615 - lr: 7.7264e-04 - val_loss: 1.2964 - val_accuracy: 0.6433 - val_lr: 7.7235e-04\n",
      "Epoch 54/150\n",
      "52/52 [==============================] - 1s 16ms/step - loss: 1.1919 - accuracy: 0.6912 - lr: 7.7205e-04 - val_loss: 1.3065 - val_accuracy: 0.6544 - val_lr: 7.7177e-04\n",
      "Epoch 55/150\n",
      "52/52 [==============================] - 1s 16ms/step - loss: 1.1724 - accuracy: 0.7015 - lr: 7.7146e-04 - val_loss: 1.2969 - val_accuracy: 0.6322 - val_lr: 7.7117e-04\n",
      "Epoch 56/150\n",
      "52/52 [==============================] - 1s 16ms/step - loss: 1.1752 - accuracy: 0.6945 - lr: 7.7087e-04 - val_loss: 1.3519 - val_accuracy: 0.6000 - val_lr: 7.7058e-04\n",
      "Epoch 57/150\n",
      "52/52 [==============================] - 1s 16ms/step - loss: 1.1673 - accuracy: 0.6867 - lr: 7.7028e-04 - val_loss: 1.6532 - val_accuracy: 0.5589 - val_lr: 7.6998e-04\n",
      "Epoch 58/150\n",
      "52/52 [==============================] - 1s 16ms/step - loss: 1.1701 - accuracy: 0.6764 - lr: 7.6968e-04 - val_loss: 1.2592 - val_accuracy: 0.6422 - val_lr: 7.6938e-04\n",
      "Epoch 59/150\n",
      "52/52 [==============================] - 1s 16ms/step - loss: 1.1232 - accuracy: 0.6961 - lr: 7.6908e-04 - val_loss: 1.1923 - val_accuracy: 0.6678 - val_lr: 7.6878e-04\n",
      "Epoch 60/150\n",
      "52/52 [==============================] - 1s 16ms/step - loss: 1.0867 - accuracy: 0.7158 - lr: 7.6847e-04 - val_loss: 1.1997 - val_accuracy: 0.6756 - val_lr: 7.6817e-04\n",
      "Epoch 61/150\n",
      "52/52 [==============================] - 1s 16ms/step - loss: 1.1274 - accuracy: 0.6915 - lr: 7.6786e-04 - val_loss: 1.1888 - val_accuracy: 0.6744 - val_lr: 7.6756e-04\n",
      "Epoch 62/150\n",
      "52/52 [==============================] - 1s 16ms/step - loss: 1.1010 - accuracy: 0.7015 - lr: 7.6725e-04 - val_loss: 1.2237 - val_accuracy: 0.6667 - val_lr: 7.6695e-04\n",
      "Epoch 63/150\n",
      "52/52 [==============================] - 1s 16ms/step - loss: 1.0900 - accuracy: 0.7052 - lr: 7.6664e-04 - val_loss: 1.4143 - val_accuracy: 0.5900 - val_lr: 7.6634e-04\n",
      "Epoch 64/150\n",
      "52/52 [==============================] - 1s 16ms/step - loss: 1.1022 - accuracy: 0.6958 - lr: 7.6602e-04 - val_loss: 1.2108 - val_accuracy: 0.6556 - val_lr: 7.6572e-04\n",
      "Epoch 65/150\n",
      "52/52 [==============================] - 1s 16ms/step - loss: 1.0777 - accuracy: 0.7085 - lr: 7.6540e-04 - val_loss: 1.2178 - val_accuracy: 0.6567 - val_lr: 7.6509e-04\n",
      "Epoch 66/150\n",
      "52/52 [==============================] - 1s 16ms/step - loss: 1.0459 - accuracy: 0.7088 - lr: 7.6477e-04 - val_loss: 1.1180 - val_accuracy: 0.6956 - val_lr: 7.6447e-04\n",
      "Epoch 67/150\n",
      "52/52 [==============================] - 1s 16ms/step - loss: 1.0193 - accuracy: 0.7221 - lr: 7.6415e-04 - val_loss: 1.1010 - val_accuracy: 0.6933 - val_lr: 7.6384e-04\n",
      "Epoch 68/150\n",
      "52/52 [==============================] - 1s 16ms/step - loss: 1.0268 - accuracy: 0.7148 - lr: 7.6351e-04 - val_loss: 1.1962 - val_accuracy: 0.6378 - val_lr: 7.6320e-04\n",
      "Epoch 69/150\n",
      "52/52 [==============================] - 1s 16ms/step - loss: 1.0360 - accuracy: 0.7127 - lr: 7.6288e-04 - val_loss: 1.1218 - val_accuracy: 0.6644 - val_lr: 7.6257e-04\n",
      "Epoch 70/150\n",
      "52/52 [==============================] - 1s 16ms/step - loss: 1.0427 - accuracy: 0.7012 - lr: 7.6224e-04 - val_loss: 1.0909 - val_accuracy: 0.6956 - val_lr: 7.6193e-04\n",
      "Epoch 71/150\n",
      "52/52 [==============================] - 1s 16ms/step - loss: 1.0142 - accuracy: 0.7194 - lr: 7.6160e-04 - val_loss: 1.2668 - val_accuracy: 0.6200 - val_lr: 7.6128e-04\n",
      "Epoch 72/150\n",
      "52/52 [==============================] - 1s 16ms/step - loss: 1.0429 - accuracy: 0.7021 - lr: 7.6095e-04 - val_loss: 1.0833 - val_accuracy: 0.7044 - val_lr: 7.6063e-04\n",
      "Epoch 73/150\n",
      "52/52 [==============================] - 1s 16ms/step - loss: 0.9905 - accuracy: 0.7170 - lr: 7.6030e-04 - val_loss: 1.0786 - val_accuracy: 0.6733 - val_lr: 7.5998e-04\n",
      "Epoch 74/150\n",
      "52/52 [==============================] - 1s 15ms/step - loss: 0.9752 - accuracy: 0.7345 - lr: 7.5965e-04 - val_loss: 1.0818 - val_accuracy: 0.6744 - val_lr: 7.5933e-04\n",
      "Epoch 75/150\n",
      "52/52 [==============================] - 1s 16ms/step - loss: 0.9631 - accuracy: 0.7285 - lr: 7.5899e-04 - val_loss: 1.1884 - val_accuracy: 0.6422 - val_lr: 7.5867e-04\n",
      "Epoch 76/150\n",
      "52/52 [==============================] - 1s 16ms/step - loss: 1.0044 - accuracy: 0.7048 - lr: 7.5833e-04 - val_loss: 1.1607 - val_accuracy: 0.6333 - val_lr: 7.5800e-04\n",
      "Epoch 77/150\n",
      "52/52 [==============================] - 1s 16ms/step - loss: 0.9972 - accuracy: 0.7079 - lr: 7.5766e-04 - val_loss: 1.0832 - val_accuracy: 0.6644 - val_lr: 7.5734e-04\n",
      "Epoch 78/150\n",
      "52/52 [==============================] - 1s 16ms/step - loss: 0.9635 - accuracy: 0.7079 - lr: 7.5699e-04 - val_loss: 1.1193 - val_accuracy: 0.6511 - val_lr: 7.5667e-04\n",
      "Epoch 79/150\n",
      "52/52 [==============================] - 1s 16ms/step - loss: 0.9846 - accuracy: 0.6997 - lr: 7.5632e-04 - val_loss: 1.0251 - val_accuracy: 0.6767 - val_lr: 7.5599e-04\n",
      "Epoch 80/150\n",
      "52/52 [==============================] - 1s 16ms/step - loss: 0.9147 - accuracy: 0.7500 - lr: 7.5564e-04 - val_loss: 1.1116 - val_accuracy: 0.6489 - val_lr: 7.5531e-04\n",
      "Epoch 81/150\n",
      "52/52 [==============================] - 1s 16ms/step - loss: 0.9555 - accuracy: 0.7152 - lr: 7.5496e-04 - val_loss: 1.0241 - val_accuracy: 0.6867 - val_lr: 7.5463e-04\n",
      "Epoch 82/150\n",
      "52/52 [==============================] - 1s 16ms/step - loss: 0.9351 - accuracy: 0.7197 - lr: 7.5428e-04 - val_loss: 1.0173 - val_accuracy: 0.6911 - val_lr: 7.5394e-04\n",
      "Epoch 83/150\n",
      "52/52 [==============================] - 1s 16ms/step - loss: 0.9000 - accuracy: 0.7333 - lr: 7.5358e-04 - val_loss: 1.0297 - val_accuracy: 0.6889 - val_lr: 7.5324e-04\n",
      "Epoch 84/150\n",
      "52/52 [==============================] - 1s 16ms/step - loss: 0.8796 - accuracy: 0.7421 - lr: 7.5289e-04 - val_loss: 1.0773 - val_accuracy: 0.6600 - val_lr: 7.5255e-04\n",
      "Epoch 85/150\n",
      "52/52 [==============================] - 1s 16ms/step - loss: 0.9140 - accuracy: 0.7312 - lr: 7.5219e-04 - val_loss: 1.0414 - val_accuracy: 0.6744 - val_lr: 7.5185e-04\n",
      "Epoch 86/150\n",
      "52/52 [==============================] - 1s 16ms/step - loss: 0.8484 - accuracy: 0.7567 - lr: 7.5149e-04 - val_loss: 1.0540 - val_accuracy: 0.6689 - val_lr: 7.5114e-04\n",
      "Epoch 87/150\n",
      "52/52 [==============================] - 1s 16ms/step - loss: 0.8667 - accuracy: 0.7382 - lr: 7.5078e-04 - val_loss: 1.0448 - val_accuracy: 0.6744 - val_lr: 7.5043e-04\n",
      "Epoch 88/150\n",
      "52/52 [==============================] - 1s 16ms/step - loss: 0.8823 - accuracy: 0.7309 - lr: 7.5006e-04 - val_loss: 1.0011 - val_accuracy: 0.6733 - val_lr: 7.4971e-04\n",
      "Epoch 89/150\n",
      "52/52 [==============================] - 1s 16ms/step - loss: 0.8778 - accuracy: 0.7361 - lr: 7.4935e-04 - val_loss: 0.9592 - val_accuracy: 0.7100 - val_lr: 7.4899e-04\n",
      "Epoch 90/150\n",
      "52/52 [==============================] - 1s 16ms/step - loss: 0.8280 - accuracy: 0.7527 - lr: 7.4862e-04 - val_loss: 1.0216 - val_accuracy: 0.6778 - val_lr: 7.4827e-04\n",
      "Epoch 91/150\n",
      "52/52 [==============================] - 1s 16ms/step - loss: 0.8470 - accuracy: 0.7458 - lr: 7.4790e-04 - val_loss: 1.0472 - val_accuracy: 0.6611 - val_lr: 7.4754e-04\n",
      "Epoch 92/150\n",
      "52/52 [==============================] - 1s 16ms/step - loss: 0.8586 - accuracy: 0.7352 - lr: 7.4716e-04 - val_loss: 0.9864 - val_accuracy: 0.6833 - val_lr: 7.4680e-04\n",
      "Epoch 93/150\n",
      "52/52 [==============================] - 1s 16ms/step - loss: 0.8299 - accuracy: 0.7594 - lr: 7.4642e-04 - val_loss: 0.9818 - val_accuracy: 0.6956 - val_lr: 7.4606e-04\n",
      "Epoch 94/150\n",
      "52/52 [==============================] - 1s 16ms/step - loss: 0.8684 - accuracy: 0.7315 - lr: 7.4568e-04 - val_loss: 0.9593 - val_accuracy: 0.7011 - val_lr: 7.4531e-04\n",
      "Epoch 95/150\n",
      "52/52 [==============================] - 1s 16ms/step - loss: 0.8267 - accuracy: 0.7533 - lr: 7.4493e-04 - val_loss: 0.9611 - val_accuracy: 0.6978 - val_lr: 7.4456e-04\n",
      "Epoch 96/150\n",
      "52/52 [==============================] - 1s 16ms/step - loss: 0.8295 - accuracy: 0.7509 - lr: 7.4418e-04 - val_loss: 1.0259 - val_accuracy: 0.6922 - val_lr: 7.4381e-04\n",
      "Epoch 97/150\n",
      "52/52 [==============================] - 1s 16ms/step - loss: 0.7979 - accuracy: 0.7561 - lr: 7.4342e-04 - val_loss: 0.9185 - val_accuracy: 0.7256 - val_lr: 7.4305e-04\n",
      "Epoch 98/150\n",
      "52/52 [==============================] - 1s 16ms/step - loss: 0.7955 - accuracy: 0.7570 - lr: 7.4265e-04 - val_loss: 0.9740 - val_accuracy: 0.6878 - val_lr: 7.4228e-04\n",
      "Epoch 99/150\n",
      "52/52 [==============================] - 1s 16ms/step - loss: 0.7893 - accuracy: 0.7591 - lr: 7.4188e-04 - val_loss: 0.9923 - val_accuracy: 0.6700 - val_lr: 7.4150e-04\n",
      "Epoch 100/150\n",
      "52/52 [==============================] - 1s 16ms/step - loss: 0.7824 - accuracy: 0.7573 - lr: 7.4111e-04 - val_loss: 1.1412 - val_accuracy: 0.6133 - val_lr: 7.4072e-04\n",
      "Epoch 101/150\n",
      "52/52 [==============================] - 1s 17ms/step - loss: 0.7807 - accuracy: 0.7621 - lr: 7.4032e-04 - val_loss: 0.9176 - val_accuracy: 0.7078 - val_lr: 7.3994e-04\n",
      "Epoch 102/150\n",
      "52/52 [==============================] - 1s 16ms/step - loss: 0.7799 - accuracy: 0.7606 - lr: 7.3954e-04 - val_loss: 0.9231 - val_accuracy: 0.6978 - val_lr: 7.3915e-04\n",
      "Epoch 103/150\n",
      "52/52 [==============================] - 1s 16ms/step - loss: 0.7764 - accuracy: 0.7645 - lr: 7.3874e-04 - val_loss: 0.9505 - val_accuracy: 0.6911 - val_lr: 7.3835e-04\n",
      "Epoch 104/150\n",
      "52/52 [==============================] - 1s 16ms/step - loss: 0.8021 - accuracy: 0.7491 - lr: 7.3794e-04 - val_loss: 0.9453 - val_accuracy: 0.6878 - val_lr: 7.3755e-04\n",
      "Epoch 105/150\n",
      "52/52 [==============================] - 1s 16ms/step - loss: 0.7418 - accuracy: 0.7733 - lr: 7.3714e-04 - val_loss: 0.9417 - val_accuracy: 0.7056 - val_lr: 7.3674e-04\n",
      "Epoch 106/150\n",
      "52/52 [==============================] - 1s 16ms/step - loss: 0.7749 - accuracy: 0.7503 - lr: 7.3632e-04 - val_loss: 0.8949 - val_accuracy: 0.6922 - val_lr: 7.3592e-04\n",
      "Epoch 107/150\n",
      "52/52 [==============================] - 1s 16ms/step - loss: 0.7308 - accuracy: 0.7797 - lr: 7.3550e-04 - val_loss: 1.1442 - val_accuracy: 0.6311 - val_lr: 7.3510e-04\n",
      "Epoch 108/150\n",
      "52/52 [==============================] - 1s 16ms/step - loss: 0.7708 - accuracy: 0.7503 - lr: 7.3468e-04 - val_loss: 0.8895 - val_accuracy: 0.7189 - val_lr: 7.3427e-04\n",
      "Epoch 109/150\n",
      "52/52 [==============================] - 1s 16ms/step - loss: 0.7384 - accuracy: 0.7697 - lr: 7.3384e-04 - val_loss: 0.9166 - val_accuracy: 0.7133 - val_lr: 7.3343e-04\n",
      "Epoch 110/150\n",
      "52/52 [==============================] - 1s 16ms/step - loss: 0.7446 - accuracy: 0.7664 - lr: 7.3300e-04 - val_loss: 0.9486 - val_accuracy: 0.6744 - val_lr: 7.3259e-04\n",
      "Epoch 111/150\n",
      "52/52 [==============================] - 1s 16ms/step - loss: 0.7828 - accuracy: 0.7500 - lr: 7.3215e-04 - val_loss: 0.9660 - val_accuracy: 0.6911 - val_lr: 7.3174e-04\n",
      "Epoch 112/150\n",
      "52/52 [==============================] - 1s 16ms/step - loss: 0.7666 - accuracy: 0.7497 - lr: 7.3130e-04 - val_loss: 0.9694 - val_accuracy: 0.6967 - val_lr: 7.3088e-04\n",
      "Epoch 113/150\n",
      "52/52 [==============================] - 1s 16ms/step - loss: 0.7067 - accuracy: 0.7806 - lr: 7.3044e-04 - val_loss: 0.8709 - val_accuracy: 0.7233 - val_lr: 7.3001e-04\n",
      "Epoch 114/150\n",
      "52/52 [==============================] - 1s 16ms/step - loss: 0.7081 - accuracy: 0.7761 - lr: 7.2957e-04 - val_loss: 0.9591 - val_accuracy: 0.6967 - val_lr: 7.2914e-04\n",
      "Epoch 115/150\n",
      "52/52 [==============================] - 1s 16ms/step - loss: 0.6934 - accuracy: 0.7906 - lr: 7.2869e-04 - val_loss: 0.9611 - val_accuracy: 0.6844 - val_lr: 7.2826e-04\n",
      "Epoch 116/150\n",
      "52/52 [==============================] - 1s 16ms/step - loss: 0.6927 - accuracy: 0.7806 - lr: 7.2780e-04 - val_loss: 0.8638 - val_accuracy: 0.7133 - val_lr: 7.2737e-04\n",
      "Epoch 117/150\n",
      "52/52 [==============================] - 1s 17ms/step - loss: 0.7375 - accuracy: 0.7615 - lr: 7.2691e-04 - val_loss: 0.9746 - val_accuracy: 0.6922 - val_lr: 7.2647e-04\n",
      "Epoch 118/150\n",
      "52/52 [==============================] - 1s 16ms/step - loss: 0.7304 - accuracy: 0.7639 - lr: 7.2601e-04 - val_loss: 0.9108 - val_accuracy: 0.6800 - val_lr: 7.2556e-04\n",
      "Epoch 119/150\n",
      "52/52 [==============================] - 1s 16ms/step - loss: 0.6999 - accuracy: 0.7815 - lr: 7.2510e-04 - val_loss: 0.9612 - val_accuracy: 0.6911 - val_lr: 7.2465e-04\n",
      "Epoch 120/150\n",
      "52/52 [==============================] - 1s 16ms/step - loss: 0.7104 - accuracy: 0.7736 - lr: 7.2418e-04 - val_loss: 1.0373 - val_accuracy: 0.6322 - val_lr: 7.2372e-04\n",
      "Epoch 121/150\n",
      "52/52 [==============================] - 1s 16ms/step - loss: 0.7599 - accuracy: 0.7533 - lr: 7.2325e-04 - val_loss: 0.9554 - val_accuracy: 0.7056 - val_lr: 7.2279e-04\n",
      "Epoch 122/150\n",
      "52/52 [==============================] - 1s 16ms/step - loss: 0.6883 - accuracy: 0.7776 - lr: 7.2231e-04 - val_loss: 0.9243 - val_accuracy: 0.7022 - val_lr: 7.2185e-04\n",
      "Epoch 123/150\n",
      "52/52 [==============================] - 1s 16ms/step - loss: 0.6841 - accuracy: 0.7800 - lr: 7.2137e-04 - val_loss: 0.8391 - val_accuracy: 0.7267 - val_lr: 7.2090e-04\n",
      "Epoch 124/150\n",
      "52/52 [==============================] - 1s 16ms/step - loss: 0.6718 - accuracy: 0.7833 - lr: 7.2041e-04 - val_loss: 0.9096 - val_accuracy: 0.7089 - val_lr: 7.1994e-04\n",
      "Epoch 125/150\n",
      "52/52 [==============================] - 1s 15ms/step - loss: 0.6630 - accuracy: 0.7933 - lr: 7.1944e-04 - val_loss: 0.8999 - val_accuracy: 0.7033 - val_lr: 7.1897e-04\n",
      "Epoch 126/150\n",
      "52/52 [==============================] - 1s 16ms/step - loss: 0.7117 - accuracy: 0.7721 - lr: 7.1847e-04 - val_loss: 0.9593 - val_accuracy: 0.6989 - val_lr: 7.1799e-04\n",
      "Epoch 127/150\n",
      "52/52 [==============================] - 1s 16ms/step - loss: 0.6829 - accuracy: 0.7770 - lr: 7.1748e-04 - val_loss: 0.9305 - val_accuracy: 0.6889 - val_lr: 7.1700e-04\n",
      "Epoch 128/150\n",
      "52/52 [==============================] - 1s 15ms/step - loss: 0.6602 - accuracy: 0.7918 - lr: 7.1649e-04 - val_loss: 0.9132 - val_accuracy: 0.7011 - val_lr: 7.1599e-04\n",
      "Epoch 129/150\n",
      "52/52 [==============================] - 1s 15ms/step - loss: 0.6674 - accuracy: 0.7806 - lr: 7.1548e-04 - val_loss: 0.9460 - val_accuracy: 0.6689 - val_lr: 7.1498e-04\n",
      "Epoch 130/150\n",
      "52/52 [==============================] - 1s 15ms/step - loss: 0.6744 - accuracy: 0.7788 - lr: 7.1446e-04 - val_loss: 0.9671 - val_accuracy: 0.6656 - val_lr: 7.1396e-04\n",
      "Epoch 131/150\n",
      "52/52 [==============================] - 1s 17ms/step - loss: 0.6418 - accuracy: 0.8061 - lr: 7.1343e-04 - val_loss: 0.8376 - val_accuracy: 0.7189 - val_lr: 7.1292e-04\n",
      "Epoch 132/150\n",
      "52/52 [==============================] - 1s 16ms/step - loss: 0.6425 - accuracy: 0.8015 - lr: 7.1239e-04 - val_loss: 0.8614 - val_accuracy: 0.7178 - val_lr: 7.1187e-04\n",
      "Epoch 133/150\n",
      "52/52 [==============================] - 1s 16ms/step - loss: 0.6513 - accuracy: 0.7921 - lr: 7.1133e-04 - val_loss: 0.9145 - val_accuracy: 0.6967 - val_lr: 7.1081e-04\n",
      "Epoch 134/150\n",
      "52/52 [==============================] - 1s 16ms/step - loss: 0.6443 - accuracy: 0.7955 - lr: 7.1027e-04 - val_loss: 0.9173 - val_accuracy: 0.6767 - val_lr: 7.0974e-04\n",
      "Epoch 135/150\n",
      "52/52 [==============================] - 1s 16ms/step - loss: 0.6030 - accuracy: 0.8145 - lr: 7.0919e-04 - val_loss: 0.8773 - val_accuracy: 0.7100 - val_lr: 7.0866e-04\n",
      "Epoch 136/150\n",
      "52/52 [==============================] - 1s 16ms/step - loss: 0.6329 - accuracy: 0.8012 - lr: 7.0810e-04 - val_loss: 0.8848 - val_accuracy: 0.7044 - val_lr: 7.0756e-04\n",
      "Epoch 137/150\n",
      "52/52 [==============================] - 1s 16ms/step - loss: 0.6496 - accuracy: 0.7921 - lr: 7.0699e-04 - val_loss: 1.0230 - val_accuracy: 0.6556 - val_lr: 7.0644e-04\n",
      "Epoch 138/150\n",
      "52/52 [==============================] - 1s 16ms/step - loss: 0.6754 - accuracy: 0.7806 - lr: 7.0587e-04 - val_loss: 0.8482 - val_accuracy: 0.7200 - val_lr: 7.0532e-04\n",
      "Epoch 139/150\n",
      "52/52 [==============================] - 1s 16ms/step - loss: 0.6300 - accuracy: 0.7924 - lr: 7.0474e-04 - val_loss: 0.8476 - val_accuracy: 0.6967 - val_lr: 7.0418e-04\n",
      "Epoch 140/150\n",
      "52/52 [==============================] - 1s 16ms/step - loss: 0.6358 - accuracy: 0.7921 - lr: 7.0359e-04 - val_loss: 0.9472 - val_accuracy: 0.6956 - val_lr: 7.0302e-04\n",
      "Epoch 141/150\n",
      "52/52 [==============================] - 1s 16ms/step - loss: 0.6496 - accuracy: 0.7912 - lr: 7.0242e-04 - val_loss: 0.9053 - val_accuracy: 0.7056 - val_lr: 7.0185e-04\n",
      "Epoch 142/150\n",
      "52/52 [==============================] - 1s 17ms/step - loss: 0.6213 - accuracy: 0.8045 - lr: 7.0124e-04 - val_loss: 0.8180 - val_accuracy: 0.7233 - val_lr: 7.0066e-04\n",
      "Epoch 143/150\n",
      "52/52 [==============================] - 1s 17ms/step - loss: 0.6293 - accuracy: 0.7967 - lr: 7.0005e-04 - val_loss: 0.8537 - val_accuracy: 0.7244 - val_lr: 6.9946e-04\n",
      "Epoch 144/150\n",
      "52/52 [==============================] - 1s 16ms/step - loss: 0.6320 - accuracy: 0.7952 - lr: 6.9884e-04 - val_loss: 1.0231 - val_accuracy: 0.6778 - val_lr: 6.9823e-04\n",
      "Epoch 145/150\n",
      "52/52 [==============================] - 1s 16ms/step - loss: 0.6180 - accuracy: 0.8024 - lr: 6.9760e-04 - val_loss: 0.9669 - val_accuracy: 0.6600 - val_lr: 6.9699e-04\n",
      "Epoch 146/150\n",
      "52/52 [==============================] - 1s 16ms/step - loss: 0.6530 - accuracy: 0.7818 - lr: 6.9636e-04 - val_loss: 0.8490 - val_accuracy: 0.7222 - val_lr: 6.9574e-04\n",
      "Epoch 147/150\n",
      "52/52 [==============================] - 1s 16ms/step - loss: 0.5968 - accuracy: 0.8109 - lr: 6.9509e-04 - val_loss: 0.8320 - val_accuracy: 0.7244 - val_lr: 6.9446e-04\n",
      "Epoch 148/150\n",
      "52/52 [==============================] - 1s 16ms/step - loss: 0.6122 - accuracy: 0.8000 - lr: 6.9380e-04 - val_loss: 1.0633 - val_accuracy: 0.6611 - val_lr: 6.9316e-04\n",
      "Epoch 149/150\n",
      "52/52 [==============================] - 1s 16ms/step - loss: 0.5960 - accuracy: 0.8067 - lr: 6.9249e-04 - val_loss: 0.8443 - val_accuracy: 0.7122 - val_lr: 6.9184e-04\n",
      "Epoch 150/150\n",
      "52/52 [==============================] - 1s 16ms/step - loss: 0.5510 - accuracy: 0.8352 - lr: 6.9116e-04 - val_loss: 0.8340 - val_accuracy: 0.7144 - val_lr: 6.9051e-04\n"
     ]
    },
    {
     "data": {
      "text/plain": [
       "<keras.src.callbacks.History at 0x7fc497cca4d0>"
      ]
     },
     "execution_count": 223,
     "metadata": {},
     "output_type": "execute_result"
    }
   ],
   "source": [
    "# Compile the model 3\n",
    "model_3.compile(optimizer = optimizer,\n",
    "\t\t\t  loss='categorical_crossentropy',  # Use 'categorical_crossentropy' for one-hot encoded labels\n",
    "\t\t\t  metrics=['accuracy', lr_metric])\n",
    "\n",
    "early_stopping = EarlyStopping(monitor='val_loss', mode='min', patience=15, verbose=1, restore_best_weights=True)\n",
    "\n",
    "callbacks_list = [early_stopping]\n",
    "\n",
    "# Train the model\n",
    "model_3.fit(x=train_dataset, epochs=num_epochs, callbacks=callbacks_list, validation_data=val_dataset)"
   ]
  },
  {
   "cell_type": "code",
   "execution_count": 216,
   "metadata": {},
   "outputs": [
    {
     "name": "stdout",
     "output_type": "stream",
     "text": [
      " 1/15 [=>............................] - ETA: 0s - loss: 0.7499 - accuracy: 0.7969 - lr: 6.3469e-04"
     ]
    },
    {
     "name": "stdout",
     "output_type": "stream",
     "text": [
      "15/15 [==============================] - 0s 9ms/step - loss: 0.7339 - accuracy: 0.7844 - lr: 6.3469e-04\n",
      "{'loss': 0.7338971495628357, 'accuracy': 0.7844444513320923, 'lr': 0.0006346917361952364}\n",
      "15/15 [==============================] - 0s 6ms/step\n",
      "[[0.79333333 0.15666667 0.05      ]\n",
      " [0.22569444 0.69444444 0.07986111]\n",
      " [0.06410256 0.07692308 0.85897436]]\n"
     ]
    }
   ],
   "source": [
    "evaluation_3 = model_3.evaluate(val_dataset, batch_size=64)\n",
    "evaluation_3 = dict(zip(model_3.metrics_names, evaluation_3))\n",
    "print(evaluation_3)\n",
    "\n",
    "\n",
    "# print model_3's confusion matrix\n",
    "model_3_pred = model_3.predict(val_dataset)\n",
    "model_3_pred = np.argmax(model_3_pred, axis=1)\n",
    "\n",
    "model_3_true = np.concatenate([y for x, y in val_dataset], axis=0)\n",
    "model_3_true = np.argmax(model_3_true, axis=1)\n",
    "model_3_cm = confusion_matrix(model_3_true, model_3_pred, labels=[0, 1, 2])\n",
    "# normalize the cm to have sum 1 on each row\n",
    "model_3_cm = model_3_cm.astype('float') / model_3_cm.sum(axis=1)[:, np.newaxis]\n",
    "\n",
    "print(model_3_cm)\n"
   ]
  },
  {
   "cell_type": "markdown",
   "metadata": {},
   "source": [
    "### Save model for evaluation and testing"
   ]
  },
  {
   "cell_type": "code",
   "execution_count": 36,
   "metadata": {},
   "outputs": [
    {
     "name": "stdout",
     "output_type": "stream",
     "text": [
      "INFO:tensorflow:Assets written to: /home/simon/Spoken_Language_Recognition_Tensorflow_Embedded/model_lite/CNN_model/assets\n"
     ]
    },
    {
     "name": "stderr",
     "output_type": "stream",
     "text": [
      "INFO:tensorflow:Assets written to: /home/simon/Spoken_Language_Recognition_Tensorflow_Embedded/model_lite/CNN_model/assets\n"
     ]
    }
   ],
   "source": [
    "parent_dir = os.path.dirname(os.getcwd())\n",
    "filepath = parent_dir + \"/model_lite/\"\n",
    "model_2.save(filepath +  \"CNN_model\")"
   ]
  },
  {
   "cell_type": "markdown",
   "metadata": {},
   "source": [
    "## Model Conversion to Tensorflow Lite"
   ]
  },
  {
   "cell_type": "code",
   "execution_count": 37,
   "metadata": {},
   "outputs": [
    {
     "name": "stderr",
     "output_type": "stream",
     "text": [
      "2023-08-23 13:06:54.313180: W tensorflow/compiler/mlir/lite/python/tf_tfl_flatbuffer_helpers.cc:364] Ignored output_format.\n",
      "2023-08-23 13:06:54.313224: W tensorflow/compiler/mlir/lite/python/tf_tfl_flatbuffer_helpers.cc:367] Ignored drop_control_dependency.\n",
      "2023-08-23 13:06:54.313415: I tensorflow/cc/saved_model/reader.cc:45] Reading SavedModel from: /home/simon/Spoken_Language_Recognition_Tensorflow_Embedded/model_lite/CNN_model\n",
      "2023-08-23 13:06:54.315303: I tensorflow/cc/saved_model/reader.cc:91] Reading meta graph with tags { serve }\n",
      "2023-08-23 13:06:54.315410: I tensorflow/cc/saved_model/reader.cc:132] Reading SavedModel debug info (if present) from: /home/simon/Spoken_Language_Recognition_Tensorflow_Embedded/model_lite/CNN_model\n",
      "2023-08-23 13:06:54.324242: I tensorflow/cc/saved_model/loader.cc:231] Restoring SavedModel bundle.\n",
      "2023-08-23 13:06:54.400769: I tensorflow/cc/saved_model/loader.cc:215] Running initialization op on SavedModel bundle at path: /home/simon/Spoken_Language_Recognition_Tensorflow_Embedded/model_lite/CNN_model\n",
      "2023-08-23 13:06:54.418285: I tensorflow/cc/saved_model/loader.cc:314] SavedModel load for tags { serve }; Status: success: OK. Took 104870 microseconds.\n",
      "fully_quantize: 0, inference_type: 6, input_inference_type: INT8, output_inference_type: INT8\n"
     ]
    }
   ],
   "source": [
    "parent_dir = os.path.dirname(os.getcwd())\n",
    "filepath = parent_dir + \"/model_lite/\"\n",
    "# Convert the model\n",
    "converter = tf.lite.TFLiteConverter.from_saved_model(filepath + \"CNN_model\")\n",
    "converter.target_spec.supported_ops = [\n",
    "    tf.lite.OpsSet.TFLITE_BUILTINS_INT8,  # enable TensorFlow Lite ops.\n",
    "    #tf.lite.OpsSet.SELECT_TF_OPS  # enable TensorFlow ops.\n",
    "]\n",
    "\n",
    "converter.experimental_enable_resource_variables = True\n",
    "converter.optimizations = [tf.lite.Optimize.DEFAULT]\n",
    "\n",
    "def representative_dataset(num_samples = x_train.shape[0]):\n",
    "    for x, y in train_dataset.take(num_samples):\n",
    "    \tyield [tf.cast(x, dtype=tf.float32)]\n",
    "\n",
    "converter.target_spec.supported_ops = [tf.lite.OpsSet.TFLITE_BUILTINS_INT8]\n",
    "converter.inference_input_type = tf.int8\n",
    "converter.inference_output_type = tf.int8\n",
    "converter.representative_dataset = representative_dataset\n",
    "\n",
    "tflite_model = converter.convert()\n",
    "\n",
    "# write the converted model into a file\n",
    "with open(filepath + \"CNN_model.tflite\", 'wb') as f:\n",
    "\tf.write(tflite_model)"
   ]
  },
  {
   "cell_type": "code",
   "execution_count": 38,
   "metadata": {},
   "outputs": [
    {
     "name": "stdout",
     "output_type": "stream",
     "text": [
      "[{'name': 'serving_default_input_layer:0', 'index': 0, 'shape': array([  1, 349,  12,   1], dtype=int32), 'shape_signature': array([ -1, 349,  12,   1], dtype=int32), 'dtype': <class 'numpy.int8'>, 'quantization': (1.0, 0), 'quantization_parameters': {'scales': array([1.], dtype=float32), 'zero_points': array([0], dtype=int32), 'quantized_dimension': 0}, 'sparsity_parameters': {}}]\n",
      "[{'name': 'StatefulPartitionedCall:0', 'index': 21, 'shape': array([1, 3], dtype=int32), 'shape_signature': array([-1,  3], dtype=int32), 'dtype': <class 'numpy.int8'>, 'quantization': (0.00390625, -128), 'quantization_parameters': {'scales': array([0.00390625], dtype=float32), 'zero_points': array([-128], dtype=int32), 'quantized_dimension': 0}, 'sparsity_parameters': {}}]\n"
     ]
    }
   ],
   "source": [
    "model_path = filepath + \"CNN_model.tflite\"\n",
    "interpreter = tf.lite.Interpreter(model_path=model_path)\n",
    "interpreter.allocate_tensors()\n",
    "\n",
    "# Get input and output details.\n",
    "input_details = interpreter.get_input_details()\n",
    "output_details = interpreter.get_output_details()\n",
    "print(input_details)\n",
    "print(output_details)"
   ]
  },
  {
   "cell_type": "code",
   "execution_count": 39,
   "metadata": {},
   "outputs": [
    {
     "name": "stdout",
     "output_type": "stream",
     "text": [
      "[  1 349  12   1]\n",
      "[1 3]\n"
     ]
    }
   ],
   "source": [
    "# Assuming single input and output tensors.\n",
    "input_shape = input_details[0]['shape']\n",
    "output_shape = output_details[0]['shape']\n",
    "\n",
    "print(input_shape)\n",
    "print(output_shape)"
   ]
  },
  {
   "cell_type": "markdown",
   "metadata": {},
   "source": [
    "Convert the TFLite model into a TFMicro model using the bash script below "
   ]
  },
  {
   "cell_type": "code",
   "execution_count": 50,
   "metadata": {},
   "outputs": [
    {
     "name": "stdout",
     "output_type": "stream",
     "text": [
      "/bin/bash: /home/simon/miniconda3/lib/libtinfo.so.6: no version information available (required by /bin/bash)\n"
     ]
    }
   ],
   "source": [
    "!xxd -i ./../model_lite/CNN_model.tflite > ./../model_lite/model_tflite_data.cc"
   ]
  },
  {
   "cell_type": "markdown",
   "metadata": {},
   "source": [
    "## Evaluate quantized model on test sets"
   ]
  },
  {
   "cell_type": "code",
   "execution_count": 40,
   "metadata": {},
   "outputs": [],
   "source": [
    "\n",
    "def tflite_model_evaluation(x_test, y_onehot_test):\n",
    "\n",
    "\t# convert test set into int8\n",
    "\tx_test_int8 = tf.convert_to_tensor(tf.cast(x_test, tf.int8))\n",
    "\ty_test_int8 = tf.convert_to_tensor(tf.cast(y_onehot_test, tf.int8))\n",
    "\t# Convert the random data point from int8 to float32\n",
    "\tbatch_size = len(x_test_int8)\n",
    "\n",
    "\teval_shape = (1, mfcc_size[0], mfcc_size[1], 1)\n",
    "\tprint(\"x shape = \", x_test_int8.shape)\n",
    "\tprint(\"y shape =\", y_test_int8.shape)\n",
    "\n",
    "\tpredictions = np.empty( (y_test_int8.shape) )\n",
    "\n",
    "\tfor i in range(batch_size):\n",
    "\t\t# Set input data to the interpreter.\n",
    "\t\tinterpreter.set_tensor(input_details[0]['index'], tf.reshape(x_test_int8[i], eval_shape) )\n",
    "\n",
    "\t\t# Run inference.\n",
    "\t\tinterpreter.invoke()\n",
    "\n",
    "\t\t# Get output data from the interpreter.\n",
    "\t\toutput_data = interpreter.get_tensor(output_details[0]['index'])\n",
    "\n",
    "\t\t# get quantization parameters from output_details\n",
    "\t\toutput_scale, output_zero_point = output_details[0]['quantization']\n",
    "\n",
    "\t\t# scale and zero point dequantization to get probabilities\n",
    "\t\toutput_probability = tf.math.softmax(output_data / output_scale + output_zero_point)\n",
    "\t\tpredictions[i] = output_probability.numpy()\n",
    "\n",
    "\tmse_loss = np.sqrt( np.sum( (y_test_int8 - predictions)**2 ) ) / batch_size\n",
    "\taccuracy = np.sum( np.argmax(predictions, axis=1) == np.argmax(y_test_int8, axis=1) ) / batch_size\n",
    "\tprint(\"Accuracy in test set of quantized TFLite model: {:.4f}\".format(accuracy))\n",
    "\tprint(\"MSE loss in test set of quantized TFLite model: {:.4f}\".format(mse_loss))\n",
    "\n",
    "\t# print model's confusion matrix\n",
    "\tpredictions_class = np.argmax(predictions, axis=1)\n",
    "\ttrue_labels = np.argmax(y_test_int8, axis=1)\n",
    "\tcm = confusion_matrix(true_labels, predictions_class, labels=[0, 1, 2])\n",
    "\t# normalize the cm to have sum 1 on each row\n",
    "\tcm = cm.astype('float') / cm.sum(axis=1)[:, np.newaxis]\n",
    "\n",
    "\tprint(cm)\n",
    "\n",
    "\t# Plot the confusion matrix\n",
    "\tplt.imshow(cm, interpolation='nearest', cmap='viridis')\n",
    "\tplt.title('Confusion matrix')\n",
    "\tplt.colorbar()\n",
    "\ttick_marks = np.arange(len(classes))\n",
    "\tplt.xticks(tick_marks, classes)\n",
    "\tplt.yticks(tick_marks, classes)\n",
    "\tplt.xlabel('Predicted label')\n",
    "\tplt.ylabel('True label')\n",
    "\tplt.show()"
   ]
  },
  {
   "cell_type": "code",
   "execution_count": 41,
   "metadata": {},
   "outputs": [
    {
     "name": "stdout",
     "output_type": "stream",
     "text": [
      "x shape =  (900, 349, 12, 1)\n",
      "y shape = (900, 3)\n",
      "Accuracy in test set of quantized TFLite model: 0.8533\n",
      "MSE loss in test set of quantized TFLite model: 0.0181\n",
      "[[0.79333333 0.09666667 0.11      ]\n",
      " [0.12666667 0.79333333 0.08      ]\n",
      " [0.01666667 0.01       0.97333333]]\n"
     ]
    },
    {
     "data": {
      "image/png": "[encoded data removed]",
      "text/plain": [
       "<Figure size 640x480 with 2 Axes>"
      ]
     },
     "metadata": {},
     "output_type": "display_data"
    }
   ],
   "source": [
    "# evaluate validation set with post training quantized model\n",
    "tflite_model_evaluation(x_test = x_validation, y_onehot_test = y_onehot_validation)\n"
   ]
  },
  {
   "cell_type": "markdown",
   "metadata": {},
   "source": [
    "### Load test sets"
   ]
  },
  {
   "cell_type": "code",
   "execution_count": 42,
   "metadata": {},
   "outputs": [
    {
     "name": "stdout",
     "output_type": "stream",
     "text": [
      "test_unheard_speakers files:  1260\n",
      "test_known_speakers files:  1170\n"
     ]
    }
   ],
   "source": [
    "\n",
    "import os\n",
    "\n",
    "current_dir = os.getcwd()\n",
    "directory = os.path.dirname(current_dir) + \"/datasets/\"\n",
    "csv_files_unheard = [directory + \"/test_unheard_speakers/\" + f for f in os.listdir(directory + \"test_unheard_speakers/\") if f.endswith('.csv')]\n",
    "csv_files_known = [directory + \"/test_known_speakers/\" + f for f in os.listdir(directory + \"test_known_speakers/\") if f.endswith('.csv')]\n",
    "\n",
    "print(\"test_unheard_speakers files: \", len(csv_files_unheard))\n",
    "print(\"test_known_speakers files: \", len(csv_files_known))"
   ]
  },
  {
   "cell_type": "code",
   "execution_count": 43,
   "metadata": {},
   "outputs": [
    {
     "name": "stdout",
     "output_type": "stream",
     "text": [
      "TensorFlow version: 2.13.0\n",
      "[PhysicalDevice(name='/physical_device:GPU:0', device_type='GPU')]\n"
     ]
    }
   ],
   "source": [
    "import tensorflow as tf\n",
    "\n",
    "# Print TensorFlow version\n",
    "print(\"TensorFlow version:\", tf.__version__)\n",
    "\n",
    "# Check if GPU is available and being used\n",
    "print(tf.config.list_physical_devices('GPU'))"
   ]
  },
  {
   "cell_type": "code",
   "execution_count": 44,
   "metadata": {},
   "outputs": [
    {
     "name": "stdout",
     "output_type": "stream",
     "text": [
      "dataset_test_known size:  1170\n",
      "dataset_test_unheard size:  1260\n",
      "labels_test_known size:  1170\n",
      "labels_test_unheard size:  1260\n"
     ]
    }
   ],
   "source": [
    "import numpy as np\n",
    "\n",
    "# create training and validation datasets\n",
    "dataset_test_known = []\n",
    "dataset_test_unheard = []\n",
    "labels_test_known = []\n",
    "labels_test_unheard = []\n",
    "\n",
    "# read csv files into lists\n",
    "# the label (language) is written in the file name\n",
    "\n",
    "for file in csv_files_known:\n",
    "    data_array = np.genfromtxt(file, delimiter=',', dtype=np.int8)\n",
    "    dataset_test_known.append(data_array)\n",
    "    \n",
    "    file_name = os.path.basename(file)\n",
    "    labels_test_known.append(file_name[5:8])\n",
    "\n",
    "for file in csv_files_unheard:\n",
    "    data_array = np.genfromtxt(file, delimiter=',', dtype=np.int8)\n",
    "    dataset_test_unheard.append(data_array)\n",
    "\n",
    "    file_name = os.path.basename(file)\n",
    "    labels_test_unheard.append(file_name[5:8])\n",
    "\n",
    "print(\"dataset_test_known size: \", len(dataset_test_known))\n",
    "print(\"dataset_test_unheard size: \", len(dataset_test_unheard))\n",
    "print(\"labels_test_known size: \", len(labels_test_known))\n",
    "print(\"labels_test_unheard size: \", len(labels_test_unheard))"
   ]
  },
  {
   "cell_type": "code",
   "execution_count": 45,
   "metadata": {},
   "outputs": [
    {
     "name": "stdout",
     "output_type": "stream",
     "text": [
      "mfcc_size:  (349, 12)\n"
     ]
    }
   ],
   "source": [
    "# print size of one element of the dataset: feature size\n",
    "mfcc_size = dataset_test_known[0].shape\n",
    "print (\"mfcc_size: \", mfcc_size)"
   ]
  },
  {
   "cell_type": "code",
   "execution_count": 46,
   "metadata": {},
   "outputs": [
    {
     "name": "stdout",
     "output_type": "stream",
     "text": [
      "{'ita': 0, 'eng': 1, 'fra': 2}\n"
     ]
    }
   ],
   "source": [
    "classes = [\"ita\", \"eng\", \"fra\"]\n",
    "\n",
    "# Create a mapping from class names to integer labels\n",
    "class_to_index = {class_name: index for index, class_name in enumerate(classes)}\n",
    "print(class_to_index)\n",
    "\n",
    "# Convert labels to integer labels using the mapping\n",
    "integer_labels_test_unheard = np.array([class_to_index[label] for label in labels_test_unheard], dtype=np.int8)\n",
    "integer_labels_test_known = np.array([class_to_index[label] for label in labels_test_known], dtype=np.int8)\n",
    "\n",
    "y_onehot_test_unheard = tf.keras.utils.to_categorical(integer_labels_test_unheard, num_classes = len(classes)) # one hot encoding\n",
    "y_onehot_test_known = tf.keras.utils.to_categorical(integer_labels_test_known, num_classes = len(classes)) # one hot encoding\n",
    "\n"
   ]
  },
  {
   "cell_type": "code",
   "execution_count": 47,
   "metadata": {},
   "outputs": [
    {
     "name": "stdout",
     "output_type": "stream",
     "text": [
      "unheard speakers features shape: (1260, 349, 12, 1)\n",
      "known speakers with noisy audio features shape: (1170, 349, 12, 1)\n"
     ]
    }
   ],
   "source": [
    "\n",
    "x_test_unheard = tf.reshape(dataset_test_unheard, (-1, mfcc_size[0], mfcc_size[1], 1))\n",
    "x_test_known = tf.reshape(dataset_test_known, (-1, mfcc_size[0], mfcc_size[1], 1))\n",
    "\n",
    "print(\"unheard speakers features shape:\", x_test_unheard.shape)\n",
    "print(\"known speakers with noisy audio features shape:\", x_test_known.shape)\n",
    "\n",
    "# create tensorflow dataset from numpy arrays\n",
    "test_unheard_dataset = tf.data.Dataset.from_tensor_slices((x_test_unheard, y_onehot_test_unheard))\n",
    "test_known_dataset = tf.data.Dataset.from_tensor_slices((x_test_known, y_onehot_test_known))\n"
   ]
  },
  {
   "cell_type": "markdown",
   "metadata": {},
   "source": [
    "### Evaluate Test sets"
   ]
  },
  {
   "cell_type": "code",
   "execution_count": 48,
   "metadata": {},
   "outputs": [
    {
     "name": "stdout",
     "output_type": "stream",
     "text": [
      "[{'name': 'serving_default_input_layer:0', 'index': 0, 'shape': array([  1, 349,  12,   1], dtype=int32), 'shape_signature': array([ -1, 349,  12,   1], dtype=int32), 'dtype': <class 'numpy.int8'>, 'quantization': (1.0, 0), 'quantization_parameters': {'scales': array([1.], dtype=float32), 'zero_points': array([0], dtype=int32), 'quantized_dimension': 0}, 'sparsity_parameters': {}}]\n",
      "[{'name': 'StatefulPartitionedCall:0', 'index': 21, 'shape': array([1, 3], dtype=int32), 'shape_signature': array([-1,  3], dtype=int32), 'dtype': <class 'numpy.int8'>, 'quantization': (0.00390625, -128), 'quantization_parameters': {'scales': array([0.00390625], dtype=float32), 'zero_points': array([-128], dtype=int32), 'quantized_dimension': 0}, 'sparsity_parameters': {}}]\n"
     ]
    }
   ],
   "source": [
    "parent_dir = os.path.dirname(os.getcwd())\n",
    "filepath = parent_dir + \"/model_lite/\"\n",
    "\n",
    "model_path = filepath + \"CNN_model.tflite\"\n",
    "interpreter = tf.lite.Interpreter(model_path=model_path)\n",
    "interpreter.allocate_tensors()\n",
    "\n",
    "# Get input and output details.\n",
    "input_details = interpreter.get_input_details()\n",
    "output_details = interpreter.get_output_details()\n",
    "print(input_details)\n",
    "print(output_details)"
   ]
  },
  {
   "cell_type": "code",
   "execution_count": 49,
   "metadata": {},
   "outputs": [
    {
     "name": "stdout",
     "output_type": "stream",
     "text": [
      "evaluating accuracy of quantized model on test set: unheard speakers\n",
      "x shape =  (1260, 349, 12, 1)\n",
      "y shape = (1260, 3)\n"
     ]
    },
    {
     "name": "stdout",
     "output_type": "stream",
     "text": [
      "Accuracy in test set of quantized TFLite model: 0.6429\n",
      "MSE loss in test set of quantized TFLite model: 0.0237\n",
      "[[0.62619048 0.30714286 0.06666667]\n",
      " [0.23571429 0.58809524 0.17619048]\n",
      " [0.18571429 0.1        0.71428571]]\n"
     ]
    },
    {
     "data": {
      "image/png": "[encoded data removed]",
      "text/plain": [
       "<Figure size 640x480 with 2 Axes>"
      ]
     },
     "metadata": {},
     "output_type": "display_data"
    },
    {
     "name": "stdout",
     "output_type": "stream",
     "text": [
      "\n",
      "evaluating accuracy of quantized model on test set: known speakers with noisy audio recordings\n",
      "x shape =  (1170, 349, 12, 1)\n",
      "y shape = (1170, 3)\n",
      "Accuracy in test set of quantized TFLite model: 0.7752\n",
      "MSE loss in test set of quantized TFLite model: 0.0198\n",
      "[[0.7025641  0.10769231 0.18974359]\n",
      " [0.14615385 0.71538462 0.13846154]\n",
      " [0.06923077 0.02307692 0.90769231]]\n"
     ]
    },
    {
     "data": {
      "image/png": "[encoded data removed]",
      "text/plain": [
       "<Figure size 640x480 with 2 Axes>"
      ]
     },
     "metadata": {},
     "output_type": "display_data"
    }
   ],
   "source": [
    "print(\"evaluating accuracy of quantized model on test set: unheard speakers\")\n",
    "# evaluate validation set with post training quantized model\n",
    "tflite_model_evaluation(x_test = x_test_unheard, y_onehot_test = y_onehot_test_unheard)\n",
    "\n",
    "print(\"\")\n",
    "\n",
    "print(\"evaluating accuracy of quantized model on test set: known speakers with noisy audio recordings\")\n",
    "# evaluate validation set with post training quantized model\n",
    "tflite_model_evaluation(x_test = x_test_known, y_onehot_test = y_onehot_test_known)"
   ]
  }
 ],
 "metadata": {
  "kernelspec": {
   "display_name": "environmentAI",
   "language": "python",
   "name": "python3"
  },
  "language_info": {
   "codemirror_mode": {
    "name": "ipython",
    "version": 3
   },
   "file_extension": ".py",
   "mimetype": "text/x-python",
   "name": "python",
   "nbconvert_exporter": "python",
   "pygments_lexer": "ipython3",
   "version": "3.11.4"
  }
 },
 "nbformat": 4,
 "nbformat_minor": 4
}
