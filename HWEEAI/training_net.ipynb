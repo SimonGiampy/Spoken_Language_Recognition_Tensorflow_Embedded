{
 "cells": [
  {
   "cell_type": "markdown",
   "metadata": {},
   "source": [
    "## Training a neural network to classify images of MFCCs"
   ]
  },
  {
   "cell_type": "code",
   "execution_count": 16,
   "metadata": {},
   "outputs": [
    {
     "name": "stdout",
     "output_type": "stream",
     "text": [
      "425 450\n"
     ]
    }
   ],
   "source": [
    "# create tensorflow dataset from the training data\n",
    "\n",
    "# iterate on every csv file in the folder\n",
    "# create a dataset from the csv file\n",
    "# append the dataset to the main dataset\n",
    "# save the main dataset to a file\n",
    "\n",
    "import os\n",
    "\n",
    "# get parent directory\n",
    "parent_dir = os.path.dirname(os.getcwd())\n",
    "\n",
    "# get the list of csv files in the folder\n",
    "directory = parent_dir + \"\\\\datasets\\\\\"\n",
    "\n",
    "csv_files_ita = [directory + \"\\\\ita\\\\\" + f for f in os.listdir(directory + \"ita\\\\\") if f.endswith('.csv')]\n",
    "csv_files_eng = [directory + \"\\\\eng\\\\\" + f for f in os.listdir(directory + \"eng\\\\\") if f.endswith('.csv')]\n",
    "\n",
    "print(len(csv_files_ita), len(csv_files_eng))\n",
    "\n"
   ]
  },
  {
   "cell_type": "markdown",
   "metadata": {},
   "source": [
    "Test import of csv datasets into tensorflow datasets\n",
    "\n",
    "import every csv file as a single matrix with one label associated"
   ]
  },
  {
   "cell_type": "code",
   "execution_count": null,
   "metadata": {},
   "outputs": [],
   "source": [
    "import tensorflow as tf\n",
    "# Print TensorFlow version\n",
    "print(\"TensorFlow version:\", tf.__version__)\n",
    "\n",
    "# Check if GPU is available and being used\n",
    "if tf.test.is_gpu_available():\n",
    "    print(\"GPU is available and being used.\")\n",
    "    # Print GPU device information\n",
    "    print(\"GPU devices:\")\n",
    "    for device in tf.config.experimental.list_physical_devices('GPU'):\n",
    "        print(device)\n",
    "else:\n",
    "    print(\"GPU is not available.\")"
   ]
  },
  {
   "cell_type": "code",
   "execution_count": 56,
   "metadata": {},
   "outputs": [
    {
     "name": "stdout",
     "output_type": "stream",
     "text": [
      "Loaded data array shape: (1247, 12)\n",
      "(<tf.Tensor: shape=(1247, 12), dtype=int8, numpy=\n",
      "array([[-89,  32,  76, ...,  35,  63,  49],\n",
      "       [-84,  18,  57, ..., -11,  61,  22],\n",
      "       [-83,  14,  66, ..., -32,  56,  20],\n",
      "       ...,\n",
      "       [ -6,  87,  22, ..., -14,  14,   5],\n",
      "       [ 11,  71,  -4, ...,  -7,   1, -16],\n",
      "       [ 32,  69, -33, ..., -17,   0,   2]], dtype=int8)>, <tf.Tensor: shape=(), dtype=string, numpy=b'ita'>)\n"
     ]
    }
   ],
   "source": [
    "import numpy as np\n",
    "\n",
    "# read csv file and store the values into a numpy matrix\n",
    "data_array = np.genfromtxt(csv_files_ita[0], delimiter=',', dtype=np.int8)\n",
    "print(\"Loaded data array shape:\", data_array.shape)\n",
    "\n",
    "label = \"ita\"\n",
    "test = [[1, 2], [3, 4]]\n",
    "\n",
    "# Create a TensorFlow dataset\n",
    "tf_dataset_matrix = tf.data.Dataset.from_tensor_slices([data_array])\n",
    "tf_dataset_label = tf.data.Dataset.from_tensor_slices([label])\n",
    "\n",
    "tf_dataset = tf.data.Dataset.zip((tf_dataset_matrix, tf_dataset_label))\n",
    "\n",
    "for element in tf_dataset:\n",
    "    print(element)"
   ]
  },
  {
   "cell_type": "code",
   "execution_count": 65,
   "metadata": {},
   "outputs": [
    {
     "name": "stdout",
     "output_type": "stream",
     "text": [
      "dataset size:  875\n",
      "labels size:  875\n"
     ]
    }
   ],
   "source": [
    "# create empty pandas dataframe\n",
    "dataset = []\n",
    "labels = []\n",
    "\n",
    "# read csv files into dataframe\n",
    "for file in csv_files_ita:\n",
    "    data_array = np.genfromtxt(file, delimiter=',', dtype=np.int8)\n",
    "    dataset.append(data_array)\n",
    "    labels.append(\"ita\")\n",
    "\n",
    "for file in csv_files_eng:\n",
    "    data_array = np.genfromtxt(file, delimiter=',', dtype=np.int8)\n",
    "    dataset.append(data_array)\n",
    "    labels.append(\"eng\")\n",
    "\n",
    "print(\"dataset size: \", len(dataset))\n",
    "print(\"labels size: \", len(labels))\n",
    "\n"
   ]
  },
  {
   "cell_type": "code",
   "execution_count": 68,
   "metadata": {},
   "outputs": [
    {
     "name": "stdout",
     "output_type": "stream",
     "text": [
      "[[1. 0.]\n",
      " [1. 0.]\n",
      " [1. 0.]\n",
      " ...\n",
      " [0. 1.]\n",
      " [0. 1.]\n",
      " [0. 1.]]\n"
     ]
    }
   ],
   "source": [
    "classes = [\"ita\", \"eng\"]\n",
    "\n",
    "# Create a mapping from class names to integer labels\n",
    "class_to_index = {class_name: index for index, class_name in enumerate(classes)}\n",
    "\n",
    "# Convert labels to integer labels using the mapping\n",
    "integer_labels = np.array([class_to_index[label] for label in labels], dtype=np.int8)\n",
    "\n",
    "labels_one_hot = tf.keras.utils.to_categorical(integer_labels, num_classes=2) # one hot encoding\n",
    "\n",
    "print(labels_one_hot)"
   ]
  },
  {
   "cell_type": "code",
   "execution_count": 90,
   "metadata": {},
   "outputs": [],
   "source": [
    "# train - validation split of tensorflow dataset\n",
    "from sklearn.model_selection import train_test_split\n",
    "\n",
    "train_features, val_features, train_labels, val_labels = train_test_split(dataset, labels_one_hot, test_size=0.2, random_state=42) \n",
    "\n",
    "\n",
    "val_features = tf.reshape(val_features, (-1, 1247, 12))\n",
    "train_features = tf.reshape(train_features, (-1, 1247, 12))\n",
    "\n",
    "\n",
    "# create tensorflow dataset from numpy arrays\n",
    "train_dataset = tf.data.Dataset.from_tensor_slices((train_features, train_labels))\n",
    "val_dataset = tf.data.Dataset.from_tensor_slices((val_features, val_labels))\n",
    "\n",
    "# shuffle and batch\n",
    "train_dataset = train_dataset.shuffle(len(train_features))\n",
    "\n",
    "val_dataset = val_dataset.batch(32)\n",
    "train_dataset = train_dataset.batch(32)"
   ]
  },
  {
   "cell_type": "code",
   "execution_count": 91,
   "metadata": {},
   "outputs": [
    {
     "name": "stdout",
     "output_type": "stream",
     "text": [
      "(1247, 12)\n",
      "(2,)\n"
     ]
    }
   ],
   "source": [
    "for image_batch, labels_batch in train_dataset:\n",
    "\tprint(image_batch.shape)\n",
    "\tprint(labels_batch.shape)\n",
    "\tbreak\n"
   ]
  },
  {
   "cell_type": "code",
   "execution_count": 92,
   "metadata": {},
   "outputs": [
    {
     "name": "stdout",
     "output_type": "stream",
     "text": [
      "Model: \"sequential_19\"\n",
      "_________________________________________________________________\n",
      " Layer (type)                Output Shape              Param #   \n",
      "=================================================================\n",
      " conv2d_29 (Conv2D)          (None, 1238, 12, 32)      352       \n",
      "                                                                 \n",
      " max_pooling2d_4 (MaxPooling  (None, 619, 12, 32)      0         \n",
      " 2D)                                                             \n",
      "                                                                 \n",
      " conv2d_30 (Conv2D)          (None, 610, 12, 32)       10272     \n",
      "                                                                 \n",
      " max_pooling2d_5 (MaxPooling  (None, 305, 12, 32)      0         \n",
      " 2D)                                                             \n",
      "                                                                 \n",
      " flatten_18 (Flatten)        (None, 117120)            0         \n",
      "                                                                 \n",
      " dense_38 (Dense)            (None, 64)                7495744   \n",
      "                                                                 \n",
      " dense_39 (Dense)            (None, 2)                 130       \n",
      "                                                                 \n",
      "=================================================================\n",
      "Total params: 7,506,498\n",
      "Trainable params: 7,506,498\n",
      "Non-trainable params: 0\n",
      "_________________________________________________________________\n",
      "Epoch 1/10\n"
     ]
    },
    {
     "ename": "ValueError",
     "evalue": "in user code:\n\n    File \"d:\\Programs\\Anaconda\\envs\\anndl\\Lib\\site-packages\\keras\\engine\\training.py\", line 1284, in train_function  *\n        return step_function(self, iterator)\n    File \"d:\\Programs\\Anaconda\\envs\\anndl\\Lib\\site-packages\\keras\\engine\\training.py\", line 1268, in step_function  **\n        outputs = model.distribute_strategy.run(run_step, args=(data,))\n    File \"d:\\Programs\\Anaconda\\envs\\anndl\\Lib\\site-packages\\keras\\engine\\training.py\", line 1249, in run_step  **\n        outputs = model.train_step(data)\n    File \"d:\\Programs\\Anaconda\\envs\\anndl\\Lib\\site-packages\\keras\\engine\\training.py\", line 1050, in train_step\n        y_pred = self(x, training=True)\n    File \"d:\\Programs\\Anaconda\\envs\\anndl\\Lib\\site-packages\\keras\\utils\\traceback_utils.py\", line 70, in error_handler\n        raise e.with_traceback(filtered_tb) from None\n    File \"d:\\Programs\\Anaconda\\envs\\anndl\\Lib\\site-packages\\keras\\engine\\input_spec.py\", line 298, in assert_input_compatibility\n        raise ValueError(\n\n    ValueError: Input 0 of layer \"sequential_19\" is incompatible with the layer: expected shape=(None, 1247, 12, 1), found shape=(1247, 12)\n",
     "output_type": "error",
     "traceback": [
      "\u001b[1;31m---------------------------------------------------------------------------\u001b[0m",
      "\u001b[1;31mValueError\u001b[0m                                Traceback (most recent call last)",
      "Cell \u001b[1;32mIn[92], line 23\u001b[0m\n\u001b[0;32m     18\u001b[0m model\u001b[39m.\u001b[39mcompile(optimizer\u001b[39m=\u001b[39m\u001b[39m'\u001b[39m\u001b[39madam\u001b[39m\u001b[39m'\u001b[39m,\n\u001b[0;32m     19\u001b[0m \t\t\t  loss\u001b[39m=\u001b[39m\u001b[39m'\u001b[39m\u001b[39mcategorical_crossentropy\u001b[39m\u001b[39m'\u001b[39m,  \u001b[39m# Use 'categorical_crossentropy' for one-hot encoded labels\u001b[39;00m\n\u001b[0;32m     20\u001b[0m \t\t\t  metrics\u001b[39m=\u001b[39m[\u001b[39m'\u001b[39m\u001b[39maccuracy\u001b[39m\u001b[39m'\u001b[39m])\n\u001b[0;32m     22\u001b[0m \u001b[39m# Train the model\u001b[39;00m\n\u001b[1;32m---> 23\u001b[0m model\u001b[39m.\u001b[39;49mfit(x\u001b[39m=\u001b[39;49mtrain_dataset, epochs\u001b[39m=\u001b[39;49m\u001b[39m10\u001b[39;49m, batch_size\u001b[39m=\u001b[39;49m\u001b[39m32\u001b[39;49m, \n\u001b[0;32m     24\u001b[0m           validation_data\u001b[39m=\u001b[39;49mval_dataset)\n",
      "File \u001b[1;32md:\\Programs\\Anaconda\\envs\\anndl\\Lib\\site-packages\\keras\\utils\\traceback_utils.py:70\u001b[0m, in \u001b[0;36mfilter_traceback.<locals>.error_handler\u001b[1;34m(*args, **kwargs)\u001b[0m\n\u001b[0;32m     67\u001b[0m     filtered_tb \u001b[39m=\u001b[39m _process_traceback_frames(e\u001b[39m.\u001b[39m__traceback__)\n\u001b[0;32m     68\u001b[0m     \u001b[39m# To get the full stack trace, call:\u001b[39;00m\n\u001b[0;32m     69\u001b[0m     \u001b[39m# `tf.debugging.disable_traceback_filtering()`\u001b[39;00m\n\u001b[1;32m---> 70\u001b[0m     \u001b[39mraise\u001b[39;00m e\u001b[39m.\u001b[39mwith_traceback(filtered_tb) \u001b[39mfrom\u001b[39;00m \u001b[39mNone\u001b[39m\n\u001b[0;32m     71\u001b[0m \u001b[39mfinally\u001b[39;00m:\n\u001b[0;32m     72\u001b[0m     \u001b[39mdel\u001b[39;00m filtered_tb\n",
      "File \u001b[1;32m~\\AppData\\Local\\Temp\\__autograph_generated_fileh_3wuh6c.py:15\u001b[0m, in \u001b[0;36mouter_factory.<locals>.inner_factory.<locals>.tf__train_function\u001b[1;34m(iterator)\u001b[0m\n\u001b[0;32m     13\u001b[0m \u001b[39mtry\u001b[39;00m:\n\u001b[0;32m     14\u001b[0m     do_return \u001b[39m=\u001b[39m \u001b[39mTrue\u001b[39;00m\n\u001b[1;32m---> 15\u001b[0m     retval_ \u001b[39m=\u001b[39m ag__\u001b[39m.\u001b[39mconverted_call(ag__\u001b[39m.\u001b[39mld(step_function), (ag__\u001b[39m.\u001b[39mld(\u001b[39mself\u001b[39m), ag__\u001b[39m.\u001b[39mld(iterator)), \u001b[39mNone\u001b[39;00m, fscope)\n\u001b[0;32m     16\u001b[0m \u001b[39mexcept\u001b[39;00m:\n\u001b[0;32m     17\u001b[0m     do_return \u001b[39m=\u001b[39m \u001b[39mFalse\u001b[39;00m\n",
      "\u001b[1;31mValueError\u001b[0m: in user code:\n\n    File \"d:\\Programs\\Anaconda\\envs\\anndl\\Lib\\site-packages\\keras\\engine\\training.py\", line 1284, in train_function  *\n        return step_function(self, iterator)\n    File \"d:\\Programs\\Anaconda\\envs\\anndl\\Lib\\site-packages\\keras\\engine\\training.py\", line 1268, in step_function  **\n        outputs = model.distribute_strategy.run(run_step, args=(data,))\n    File \"d:\\Programs\\Anaconda\\envs\\anndl\\Lib\\site-packages\\keras\\engine\\training.py\", line 1249, in run_step  **\n        outputs = model.train_step(data)\n    File \"d:\\Programs\\Anaconda\\envs\\anndl\\Lib\\site-packages\\keras\\engine\\training.py\", line 1050, in train_step\n        y_pred = self(x, training=True)\n    File \"d:\\Programs\\Anaconda\\envs\\anndl\\Lib\\site-packages\\keras\\utils\\traceback_utils.py\", line 70, in error_handler\n        raise e.with_traceback(filtered_tb) from None\n    File \"d:\\Programs\\Anaconda\\envs\\anndl\\Lib\\site-packages\\keras\\engine\\input_spec.py\", line 298, in assert_input_compatibility\n        raise ValueError(\n\n    ValueError: Input 0 of layer \"sequential_19\" is incompatible with the layer: expected shape=(None, 1247, 12, 1), found shape=(1247, 12)\n"
     ]
    }
   ],
   "source": [
    "from tensorflow.keras import layers, models\n",
    "\n",
    "# Create a basic CNN model\n",
    "model = models.Sequential([\n",
    "    #layers.Reshape(( 1247, 12), input_shape=(1247, 12)),\n",
    "\tlayers.Conv2D(filters=32, kernel_size=(10, 1), activation='relu', input_shape=(1247, 12, 1)),\n",
    "\tlayers.MaxPooling2D(pool_size=(2, 1)),\n",
    "    layers.Conv2D(filters=32, kernel_size=(10, 1), activation='relu'),\n",
    "    layers.MaxPooling2D(pool_size=(2, 1)),\n",
    "\tlayers.Flatten(),\n",
    "\tlayers.Dense(64, activation='relu'),\n",
    "\tlayers.Dense(2, activation='softmax')  # Two classes\n",
    "])\n",
    "\n",
    "model.summary()\n",
    "\n",
    "# Compile the model\n",
    "model.compile(optimizer='adam',\n",
    "\t\t\t  loss='categorical_crossentropy',  # Use 'categorical_crossentropy' for one-hot encoded labels\n",
    "\t\t\t  metrics=['accuracy'])\n",
    "\n",
    "# Train the model\n",
    "model.fit(x=train_dataset, epochs=10, batch_size=32, \n",
    "          validation_data=val_dataset)\n"
   ]
  }
 ],
 "metadata": {
  "kernelspec": {
   "display_name": "anndl",
   "language": "python",
   "name": "python3"
  },
  "language_info": {
   "codemirror_mode": {
    "name": "ipython",
    "version": 3
   },
   "file_extension": ".py",
   "mimetype": "text/x-python",
   "name": "python",
   "nbconvert_exporter": "python",
   "pygments_lexer": "ipython3",
   "version": "3.11.2"
  },
  "orig_nbformat": 4
 },
 "nbformat": 4,
 "nbformat_minor": 2
}
